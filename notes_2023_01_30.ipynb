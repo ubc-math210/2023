{
 "cells": [
  {
   "cell_type": "markdown",
   "id": "91f18281-d35c-4b94-982f-8694c35723d0",
   "metadata": {},
   "source": [
    "# MATH 210 Introduction to Mathematical Computing\n",
    "\n",
    "## January 30, 2023\n",
    "\n",
    "* Sequences\n",
    "* Monotonic Convergence Theorem\n",
    "* Examples"
   ]
  },
  {
   "cell_type": "markdown",
   "id": "d1221924-c6b1-4422-9a37-592cd12c2618",
   "metadata": {},
   "source": [
    "## Sequences\n",
    "\n",
    "A **sequence** is an infinite list of numbers indexed by integers $\\{ x_n \\}_{n=0}^{\\infty}$. A sequence can be given by an explicit formula such as\n",
    "\n",
    "$$\n",
    "x_n = \\left( 1 + \\frac{1}{n} \\right)^n\n",
    "$$\n",
    "\n",
    "A sequence can also be given by a recursive formula such as\n",
    "\n",
    "$$\n",
    "x_{n+1} = \\sqrt{2 + x_n} \\ , \\ x_0 = 1\n",
    "$$"
   ]
  },
  {
   "cell_type": "markdown",
   "id": "387e5c05-635f-4bf9-bf3a-0eff1b0b0692",
   "metadata": {},
   "source": [
    "Note that we can construct a recursive sequence using *any* function $f(x)$ (and initial value $x_0 = c$):\n",
    "\n",
    "$$\n",
    "x_{n+1} = f(x_n) \\ , \\ \\ x_0 = c\n",
    "$$"
   ]
  },
  {
   "cell_type": "markdown",
   "id": "f015cca5-30ba-4bb7-aca2-ac79523eb7cf",
   "metadata": {},
   "source": [
    "A sequence $\\{ x_n \\}_{n=0}^{\\infty}$ **converges** to a value $L$ if the values $x_n$ gets infinitely close to $L$ as $n$ goes to $\\infty$ and we write\n",
    "\n",
    "$$\n",
    "\\lim_{n \\to \\infty} x_n = L\n",
    "$$"
   ]
  },
  {
   "cell_type": "markdown",
   "id": "c892b52b-eacf-49f0-9730-763dc63323ff",
   "metadata": {},
   "source": [
    "## Montonoic Convergence Theorem\n",
    "\n",
    "How do we know if a sequence is convergent? The monotonic convergence theorem gives us a tool to prove that a sequence converges.\n",
    "\n",
    "A sequence $\\{ x_n \\}$ is **increasing** if  $x_n \\leq x_{n+1}$ for all $n$, and **strictly increasing** if $x_n < x_{n+1}$.\n",
    "\n",
    "A sequence $\\{ x_n \\}$ is **decreasing** if  $x_n \\geq x_{n+1}$ for all $n$, and **strictly decreasing** if $x_n > x_{n+1}$.\n",
    "\n",
    "A sequence is **monotonic** if it is either increasing or decreasing (strictly or not).\n",
    "\n",
    "A sequence is **bounded** if there exists numbers $A$ and $B$ such that $A \\leq x_n \\leq B$ for all $n$."
   ]
  },
  {
   "cell_type": "markdown",
   "id": "1725669a-b439-4b23-aa22-8513bcdcb544",
   "metadata": {},
   "source": [
    "**Monotone Convergence Theorem**. If a sequence is monotonic and bounded then it converges."
   ]
  },
  {
   "cell_type": "markdown",
   "id": "c6e759d1-bd6e-4c14-8e7e-8ac1a500dc32",
   "metadata": {},
   "source": [
    "**What's the point?** We are going to see lots of examples that look like $x_{n+1} = f(x_n)$, $x_0 = c$ where $f(x)$ is some continuous function. **If we can prove that the sequence is convergent** then we can compute the limit $L$ by solving $L = f(L)$."
   ]
  },
  {
   "cell_type": "markdown",
   "id": "7f5318b4-5bc3-4271-8342-28bdefca9869",
   "metadata": {},
   "source": [
    "## Example\n",
    "\n",
    "### Non-convergent Sequence\n",
    "\n",
    "Consider $x_{n+1} = x_n^2 - 2$, $x_0 = 3$. We can solve the equation $L = L^2 - 2$ to get $L=-1$ or $L=2$ ... but the sequence isn't even convergent so there is no limit! Why? Because the sequence is unbounded. Prove it!\n",
    "\n",
    "### Convergent Sequence\n",
    "\n",
    "Consider $x_{n+1} = \\sqrt{2 + x_n}$, $x_0 = 3$. Show that the sequence converges and compute the limit $L$.\n",
    "\n",
    "Let's compute the first few entries of the sequence to figure out if this is increasing or decreasing and what the bounds might be."
   ]
  },
  {
   "cell_type": "code",
   "execution_count": 1,
   "id": "ea6cf4ae-aae2-43dd-9897-94d55e26cb0c",
   "metadata": {},
   "outputs": [
    {
     "name": "stdout",
     "output_type": "stream",
     "text": [
      "3\n",
      "2.23606797749979\n",
      "2.0581710272714924\n",
      "2.0144902648738445\n",
      "2.0036192914009\n",
      "2.0009046182666728\n"
     ]
    }
   ],
   "source": [
    "xn = 3\n",
    "print(xn)\n",
    "for n in range(0,5):\n",
    "    xn = (2 + xn)**0.5\n",
    "    print(xn)"
   ]
  },
  {
   "cell_type": "markdown",
   "id": "feb9c524-4fcf-40d4-b7da-47719161893f",
   "metadata": {},
   "source": [
    "The sequence looks like it is decreasing and bounded below by 2."
   ]
  },
  {
   "cell_type": "markdown",
   "id": "7e3703ab-9e52-47c4-95f4-a04471f99678",
   "metadata": {},
   "source": [
    "**Step 1.** Show that the sequence is monotonic.\n",
    "\n",
    "Base Case: $x_0 =3$ and $x_1 = \\sqrt{2 + 3} = \\sqrt{5} < 3$. Therefore $x_0 > x_1$.\n",
    "\n",
    "Induction Step: Assume $x_n > x_{n+1}$. Compute\n",
    "\n",
    "$$\n",
    "x_{n+2} = \\sqrt{2 + x_{n+1}} < \\sqrt{2 + x_n} = x_{n+1}\n",
    "$$\n",
    "\n",
    "Therefore $x_{n+1} > x_{n+2}$.\n",
    "\n",
    "By induction, the sequence is decreasing."
   ]
  },
  {
   "cell_type": "markdown",
   "id": "8471430b-dabe-4a61-bfbf-9a311a18f767",
   "metadata": {},
   "source": [
    "**Step 2.** Show that the sequence is bounded below. (We know it is bounded above since it is decreasing.)\n",
    "\n",
    "Base Case: $x_0 = 3 > 2$.\n",
    "\n",
    "Induction Step: Assume $x_n > 2$ and compute\n",
    "\n",
    "$$\n",
    "x_{n+1} = \\sqrt{2 + x_n} > \\sqrt{2 + 2} = 2\n",
    "$$\n",
    "\n",
    "By induction, $x_n > 2$ for all $n$.\n",
    "\n",
    "The sequence is decreasing and bounded below therefore it is convergent by the monotone convergence theorem."
   ]
  },
  {
   "cell_type": "markdown",
   "id": "56f03a0c-96c5-45dc-90c5-c5226d9f1cda",
   "metadata": {},
   "source": [
    "**Step 3.** Compute the limit $L$.\n",
    "\n",
    "We know that $\\lim_{n \\to \\infty} x_n = L$ for some $L$ and since $\\sqrt{x}$ is a continuous function we see that\n",
    "\n",
    "\\begin{align*}\n",
    "x_{n+1} &= \\sqrt{2 + x_n} \\\\\n",
    "\\lim_{n \\to \\infty} x_{n+1} &= \\lim_{n \\to \\infty} \\sqrt{2 + x_n} \\\\\n",
    "\\lim_{n \\to \\infty} x_{n+1} &= \\sqrt{2 + \\lim_{n \\to \\infty} x_n} \\\\\n",
    "L &= \\sqrt{2 + L} \\\\\n",
    "L^2 - L - 2 &= 0\n",
    "\\end{align*}\n",
    "\n",
    "Solve the equation $L^2 - L - 2 = 0$ to find $L=-1,2$ and conclude $L=2$ since $L$ must be positive."
   ]
  },
  {
   "cell_type": "code",
   "execution_count": 2,
   "id": "ca962f78-f988-46d1-826e-bceaccc7e798",
   "metadata": {},
   "outputs": [
    {
     "name": "stdout",
     "output_type": "stream",
     "text": [
      "3\n",
      "2.23606797749979\n",
      "2.0581710272714924\n",
      "2.0144902648738445\n",
      "2.0036192914009\n",
      "2.0009046182666728\n",
      "2.000226141781642\n",
      "2.000056534646369\n",
      "2.0000141336116526\n",
      "2.000003533399792\n",
      "2.000000883349753\n",
      "2.000000220837426\n",
      "2.0000000552093558\n",
      "2.000000013802339\n",
      "2.0000000034505847\n",
      "2.000000000862646\n",
      "2.0000000002156613\n",
      "2.000000000053915\n",
      "2.0000000000134786\n",
      "2.0000000000033697\n",
      "2.0000000000008424\n",
      "2.0000000000002105\n",
      "2.000000000000053\n",
      "2.0000000000000133\n",
      "2.0000000000000036\n",
      "2.000000000000001\n"
     ]
    }
   ],
   "source": [
    "xn = 3\n",
    "print(xn)\n",
    "for n in range(0,25):\n",
    "    xn = (2 + xn)**0.5\n",
    "    print(xn)"
   ]
  }
 ],
 "metadata": {
  "kernelspec": {
   "display_name": "Python 3 (ipykernel)",
   "language": "python",
   "name": "python3"
  },
  "language_info": {
   "codemirror_mode": {
    "name": "ipython",
    "version": 3
   },
   "file_extension": ".py",
   "mimetype": "text/x-python",
   "name": "python",
   "nbconvert_exporter": "python",
   "pygments_lexer": "ipython3",
   "version": "3.10.8"
  }
 },
 "nbformat": 4,
 "nbformat_minor": 5
}
