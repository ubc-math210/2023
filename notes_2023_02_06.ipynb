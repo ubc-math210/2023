{
 "cells": [
  {
   "cell_type": "markdown",
   "id": "d02cc9c3-5b52-476f-b7d5-d816c1344e17",
   "metadata": {},
   "source": [
    "# MATH 210 Introduction to Mathematical Computing\n",
    "\n",
    "## February 6, 2023\n",
    "\n",
    "* Intermediate Value Theorem\n",
    "* Bisection Method\n",
    "* Examples"
   ]
  },
  {
   "cell_type": "markdown",
   "id": "7e273ecf-38b5-4d27-be16-4ffad64ed3ac",
   "metadata": {},
   "source": [
    "## Intermediate Value Theorem\n",
    "\n",
    "Let $f(x)$ be a continuous function on $[a,b]$ and let $K$ be a value between $f(a)$ and $f(b)$. Then there exists $c \\in (a,b)$ such that $f(c) = K$."
   ]
  },
  {
   "cell_type": "markdown",
   "id": "2a882263-cd9a-44d5-9e6f-0abb4f9b47c8",
   "metadata": {},
   "source": [
    "## Root Finding\n",
    "\n",
    "A **root** of a function $f(x)$ is a value $r$ such that $f(r) = 0$. A root is also called a zero of $f$. A root is simply a solution of the equation $f(x) = 0$.\n",
    "\n",
    "Most equations $f(x) = 0$ are **impossible** to solve exactly using algebra. For example:\n",
    "\n",
    "$$\n",
    "x^5 + x + 1 = 0\n",
    "$$\n",
    "\n",
    "$$\n",
    "e^x + x = 0\n",
    "$$\n",
    "\n",
    "$$\n",
    "x^x - 2 = 0 \n",
    "$$\n",
    "\n",
    "Therefore we have to use numerical methods to approximate roots of functions."
   ]
  },
  {
   "cell_type": "markdown",
   "id": "3a3da044-2e01-47c1-a605-0014d46bcc8b",
   "metadata": {},
   "source": [
    "## Bisection Method"
   ]
  },
  {
   "cell_type": "code",
   "execution_count": 1,
   "id": "fa05415c-a4d2-43d8-8aed-c76b751c9ec3",
   "metadata": {},
   "outputs": [
    {
     "name": "stdout",
     "output_type": "stream",
     "text": [
      "n = 1 mn = 1.5\n",
      "n = 2 mn = 1.75\n",
      "n = 3 mn = 1.625\n",
      "n = 4 mn = 1.5625\n",
      "n = 5 mn = 1.53125\n",
      "n = 6 mn = 1.546875\n",
      "n = 7 mn = 1.5546875\n",
      "n = 8 mn = 1.55859375\n",
      "n = 9 mn = 1.560546875\n"
     ]
    }
   ],
   "source": [
    "f = lambda x: x**x - 2\n",
    "a = 1\n",
    "b = 2\n",
    "for n in range(1,10):\n",
    "    mn = (a + b)/2\n",
    "    print('n =',n,'mn =',mn)\n",
    "    if f(a)*f(mn) < 0:\n",
    "        b = mn\n",
    "    elif f(mn)*f(b) < 0:\n",
    "        a = mn\n",
    "    else:\n",
    "        print('Found root at midpoint',mn)\n",
    "        break"
   ]
  },
  {
   "cell_type": "code",
   "execution_count": 2,
   "id": "7610b8b7-623c-4be9-bec3-8c95720add5c",
   "metadata": {},
   "outputs": [],
   "source": [
    "def bisection(f,a,b,N):\n",
    "    if f(a)*f(b) >= 0:\n",
    "        print(\"Bisection method fails.\")\n",
    "        return None\n",
    "    an = a\n",
    "    bn = b\n",
    "    for n in range(1,N+1):\n",
    "        mn = (an + bn)/2\n",
    "        fmn = f(mn)\n",
    "        if f(an)*fmn < 0:\n",
    "            bn = mn\n",
    "        elif f(bn)*fmn < 0:\n",
    "            an = mn\n",
    "        elif fmn == 0:\n",
    "            print(\"Found exact solution.\")\n",
    "            return mn\n",
    "    return (an + bn)/2"
   ]
  },
  {
   "cell_type": "code",
   "execution_count": 3,
   "id": "dbffd549-3af1-4034-9a98-1cd90f14d802",
   "metadata": {},
   "outputs": [
    {
     "data": {
      "text/plain": [
       "1.41455078125"
      ]
     },
     "execution_count": 3,
     "metadata": {},
     "output_type": "execute_result"
    }
   ],
   "source": [
    "f = lambda x: x**2 - 2\n",
    "a = 1\n",
    "b = 2\n",
    "N = 10\n",
    "r = bisection(f,a,b,N)\n",
    "r"
   ]
  },
  {
   "cell_type": "code",
   "execution_count": 4,
   "id": "d04d463a-1ddf-4590-b6ab-4e8d28bf494a",
   "metadata": {},
   "outputs": [
    {
     "data": {
      "text/plain": [
       "1.5596104694623691"
      ]
     },
     "execution_count": 4,
     "metadata": {},
     "output_type": "execute_result"
    }
   ],
   "source": [
    "f = lambda x: x**x - 2\n",
    "a = 1\n",
    "b = 2\n",
    "N = 50\n",
    "r = bisection(f,a,b,N)\n",
    "r"
   ]
  }
 ],
 "metadata": {
  "kernelspec": {
   "display_name": "Python 3 (ipykernel)",
   "language": "python",
   "name": "python3"
  },
  "language_info": {
   "codemirror_mode": {
    "name": "ipython",
    "version": 3
   },
   "file_extension": ".py",
   "mimetype": "text/x-python",
   "name": "python",
   "nbconvert_exporter": "python",
   "pygments_lexer": "ipython3",
   "version": "3.10.8"
  }
 },
 "nbformat": 4,
 "nbformat_minor": 5
}
