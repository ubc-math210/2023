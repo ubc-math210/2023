{
 "cells": [
  {
   "cell_type": "markdown",
   "id": "7677be58-3f03-4ca5-b767-5ec0b069987b",
   "metadata": {},
   "source": [
    "# MATH 210 Introduction to Mathematical Computing\n",
    "\n",
    "## March 13, 2023"
   ]
  },
  {
   "cell_type": "code",
   "execution_count": null,
   "id": "7b069278-cee8-462c-8f15-ae98b03400ec",
   "metadata": {},
   "outputs": [],
   "source": [
    "import numpy as np\n",
    "import matplotlib.pyplot as plt"
   ]
  },
  {
   "cell_type": "markdown",
   "id": "bfe53cee-59fc-42c1-bb98-4ef1c06cc734",
   "metadata": {},
   "source": [
    "## Euler's method\n",
    "\n",
    "Consider a first order differential equation with initial value:\n",
    "\n",
    "$$\n",
    "y' = f(t,y) \\ , \\ \\ y(t_0) = y_0\n",
    "$$\n",
    "\n",
    "Euler's method generates a recursive sequence of approximations $y_n \\approx y(t_n)$:\n",
    "\n",
    "$$\n",
    "y_{n+1} = y_n + f(t_n,y_n)(t_{n+1} - t_n)\n",
    "$$\n",
    "\n",
    "## Example 1\n",
    "\n",
    "Let's apply Euler's method to the simplest equation:\n",
    "\n",
    "$$\n",
    "y' = y \\ , \\ \\ y(0) = 1\n",
    "$$\n",
    "\n",
    "and compare the result to the exact solution $y(t) = e^t$."
   ]
  },
  {
   "cell_type": "code",
   "execution_count": null,
   "id": "2066397e-4093-4cbc-84c6-af303342b7d3",
   "metadata": {},
   "outputs": [],
   "source": [
    "f = lambda t,y: y\n",
    "t = np.linspace(0,1,11)\n",
    "y = np.zeros(len(t))\n",
    "y[0] = 1\n",
    "for n in range(0,len(t)-1):\n",
    "    y[n + 1] = y[n] + f(t[n],y[n])*(t[n + 1] - t[n])\n",
    "plt.plot(t,y,'.-',t,np.exp(t))\n",
    "plt.ylim([0,3]), plt.grid(True)\n",
    "plt.legend(['Euler','Exact'])\n",
    "plt.show()"
   ]
  },
  {
   "cell_type": "markdown",
   "id": "c63adcab-e6a0-40b1-93de-96b7a455750c",
   "metadata": {},
   "source": [
    "## Example 2\n",
    "\n",
    "Now consider a nonlinear first order equation:\n",
    "\n",
    "$$\n",
    "y' = y^2 - t \\ , \\ \\ y(0)=1\n",
    "$$"
   ]
  },
  {
   "cell_type": "code",
   "execution_count": null,
   "id": "5c8d3bf1-513e-4ba3-a57e-9eafb5a1d2fb",
   "metadata": {},
   "outputs": [],
   "source": [
    "f = lambda t,y: y**2 - t\n",
    "t = np.linspace(0,1,101)\n",
    "y = np.zeros(len(t))\n",
    "y[0] = 1\n",
    "for n in range(0,len(t)-1):\n",
    "    y[n + 1] = y[n] + f(t[n],y[n])*(t[n + 1] - t[n])\n",
    "plt.plot(t,y,'.-')\n",
    "plt.grid(True)\n",
    "plt.show()"
   ]
  }
 ],
 "metadata": {
  "kernelspec": {
   "display_name": "Python 3 (ipykernel)",
   "language": "python",
   "name": "python3"
  },
  "language_info": {
   "codemirror_mode": {
    "name": "ipython",
    "version": 3
   },
   "file_extension": ".py",
   "mimetype": "text/x-python",
   "name": "python",
   "nbconvert_exporter": "python",
   "pygments_lexer": "ipython3",
   "version": "3.10.8"
  }
 },
 "nbformat": 4,
 "nbformat_minor": 5
}
