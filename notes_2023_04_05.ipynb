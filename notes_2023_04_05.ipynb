{
 "cells": [
  {
   "cell_type": "markdown",
   "id": "08389901-4eff-4a0c-9ea2-de5e2611589f",
   "metadata": {},
   "source": [
    "# MATH 210 Introduction to Mathematical Computing\n",
    "\n",
    "## April 5, 2023\n",
    "\n",
    "* Eigenvalues and eigenvectors\n",
    "* `scipy.linalg.eig`\n",
    "* Power method"
   ]
  },
  {
   "cell_type": "code",
   "execution_count": 1,
   "id": "03177365-7506-4499-9e5b-1bc8bfe7a00e",
   "metadata": {
    "tags": []
   },
   "outputs": [],
   "source": [
    "import numpy as np\n",
    "import matplotlib.pyplot as plt\n",
    "import scipy.linalg as la"
   ]
  },
  {
   "cell_type": "markdown",
   "id": "8399dbc0-e2f1-45cb-baa4-41305777e75e",
   "metadata": {},
   "source": [
    "## Eigenvalues and Eigenvectors"
   ]
  },
  {
   "cell_type": "markdown",
   "id": "bfe1bae8-7459-458b-a49e-4879a09f4d60",
   "metadata": {},
   "source": [
    "Let $A$ be a $n \\times n$ matrix. A value $\\lambda$ is an **eigenvalue** for $A$ if there exists a nonzero vector $\\mathbf{v} \\in \\mathbb{R}^n$ such that\n",
    "\n",
    "$$\n",
    "A \\mathbf{v} = \\lambda \\mathbf{v} \\ \\ , \\ \\ \\mathbf{v} \\ne 0\n",
    "$$\n",
    "\n",
    "The vector $\\mathbf{v}$ is called an **eigenvector** for $A$ with eigenvalue $\\lambda$."
   ]
  },
  {
   "cell_type": "markdown",
   "id": "ce3c22e7-c1cc-41cd-8bf8-2b9eb8efb0e7",
   "metadata": {},
   "source": [
    "How do we compute eigenvalues and eigenvectors?\n",
    "\n",
    "Compute the characteristic polynomial\n",
    "\n",
    "$$\n",
    "p_A(x) = \\mathrm{det}(A - xI)\n",
    "$$\n",
    "\n",
    "and solve for the roots $p_A(x) = 0$ to find eigenvalues. Then plug each eigenvalue $\\lambda$ into $(A - \\lambda I)\\mathbf{v} = 0$ and solve to find corresponding eigenvector $\\mathbf{v}$.\n",
    "\n",
    "If $A$ is $2 \\times 2$ then $p_A(x) = x^2 - (a+d)x + (ad - bc)$ where\n",
    "\n",
    "$$\n",
    "A = \\begin{bmatrix} a & b \\\\ c & d \\end{bmatrix}\n",
    "$$\n",
    "\n",
    "For example, let's compute the eigenvalues of\n",
    "\n",
    "$$\n",
    "A = \\begin{bmatrix} 1 & -2 \\\\ -2 & 1 \\end{bmatrix}\n",
    "$$\n",
    "\n",
    "Compute $p_A(x) = x^2 - 2x - 3 = (x - 3)(x + 1)$ therefore $\\lambda_0 = 3$ and $\\lambda_1 = -1$."
   ]
  },
  {
   "cell_type": "markdown",
   "id": "4b3ed692-2ee9-417f-aa03-6a02d8e5c55f",
   "metadata": {},
   "source": [
    "Compute $\\mathbf{v}_0$ for $\\lambda_0$:\n",
    "\n",
    "$$\n",
    "\\begin{bmatrix} -2 & -2 \\\\ -2 & -2 \\end{bmatrix} \\mathbf{v}_0 =\n",
    "\\begin{bmatrix} 0 \\\\ 0 \\end{bmatrix}\n",
    "$$"
   ]
  },
  {
   "cell_type": "markdown",
   "id": "8e040cfa-c6e9-4389-af76-df108f078bb7",
   "metadata": {},
   "source": [
    "$$\n",
    "\\mathbf{v}_0 = \\begin{bmatrix} 1 \\\\ -1 \\end{bmatrix}\n",
    "$$"
   ]
  },
  {
   "cell_type": "markdown",
   "id": "d4f560de-94c3-4865-883b-294ec974f166",
   "metadata": {},
   "source": [
    "Compute $\\mathbf{v}_1$ for $\\lambda_1$:\n",
    "\n",
    "$$\n",
    "\\begin{bmatrix} 2 & -2 \\\\ -2 & 2 \\end{bmatrix} \\mathbf{v}_1 =\n",
    "\\begin{bmatrix} 0 \\\\ 0 \\end{bmatrix}\n",
    "$$"
   ]
  },
  {
   "cell_type": "markdown",
   "id": "2610fc1f-e37f-4b60-82da-9c42e94be4c0",
   "metadata": {},
   "source": [
    "$$\n",
    "\\mathbf{v}_1 = \\begin{bmatrix} 1 \\\\ 1 \\end{bmatrix}\n",
    "$$"
   ]
  },
  {
   "cell_type": "markdown",
   "id": "21559bb6-195d-44f0-945f-9f1cd5dba053",
   "metadata": {},
   "source": [
    "## `scipy.linalg.eig`"
   ]
  },
  {
   "cell_type": "code",
   "execution_count": 2,
   "id": "3cdb331a-a38c-4451-9066-edb786b7de92",
   "metadata": {},
   "outputs": [
    {
     "data": {
      "text/plain": [
       "array([[ 1, -2],\n",
       "       [-2,  1]])"
      ]
     },
     "execution_count": 2,
     "metadata": {},
     "output_type": "execute_result"
    }
   ],
   "source": [
    "A = np.array([[1,-2],[-2,1]])\n",
    "A"
   ]
  },
  {
   "cell_type": "code",
   "execution_count": 3,
   "id": "977282f7-78e5-4ddd-b831-4fddcabf0016",
   "metadata": {
    "tags": []
   },
   "outputs": [
    {
     "data": {
      "text/plain": [
       "(array([ 3.+0.j, -1.+0.j]),\n",
       " array([[ 0.70710678,  0.70710678],\n",
       "        [-0.70710678,  0.70710678]]))"
      ]
     },
     "execution_count": 3,
     "metadata": {},
     "output_type": "execute_result"
    }
   ],
   "source": [
    "result = la.eig(A)\n",
    "result"
   ]
  },
  {
   "cell_type": "code",
   "execution_count": 4,
   "id": "79ab95da-e701-4842-ae33-f0d0593a64ed",
   "metadata": {},
   "outputs": [
    {
     "data": {
      "text/plain": [
       "tuple"
      ]
     },
     "execution_count": 4,
     "metadata": {},
     "output_type": "execute_result"
    }
   ],
   "source": [
    "type(result)"
   ]
  },
  {
   "cell_type": "markdown",
   "id": "3f8e5916-081a-4876-9c0f-a3cd3638eb40",
   "metadata": {},
   "source": [
    "The function `la.eig` returns a tuple of length 2 where the first entry is a 1D NumPy array of complex eigenvalues and the second entry is a 2D NumPy array of corresponding unit eigenvectors."
   ]
  },
  {
   "cell_type": "code",
   "execution_count": 5,
   "id": "248e1fc6-3852-46bd-9e6f-480d8ab3db2f",
   "metadata": {},
   "outputs": [],
   "source": [
    "result = la.eig(A)\n",
    "D = result[0]\n",
    "V = result[1]"
   ]
  },
  {
   "cell_type": "code",
   "execution_count": 6,
   "id": "fffd34cb-8d3b-44b6-865b-bc590450426e",
   "metadata": {},
   "outputs": [
    {
     "data": {
      "text/plain": [
       "array([ 3.+0.j, -1.+0.j])"
      ]
     },
     "execution_count": 6,
     "metadata": {},
     "output_type": "execute_result"
    }
   ],
   "source": [
    "D"
   ]
  },
  {
   "cell_type": "code",
   "execution_count": 7,
   "id": "517f71c8-03f5-41ca-856f-8071e3b01466",
   "metadata": {},
   "outputs": [
    {
     "data": {
      "text/plain": [
       "array([[ 0.70710678,  0.70710678],\n",
       "       [-0.70710678,  0.70710678]])"
      ]
     },
     "execution_count": 7,
     "metadata": {},
     "output_type": "execute_result"
    }
   ],
   "source": [
    "V"
   ]
  },
  {
   "cell_type": "markdown",
   "id": "757bc96c-9f1e-4029-8583-c2aa4ba29795",
   "metadata": {},
   "source": [
    "Note that we can unpack the values `D` and `V` directly."
   ]
  },
  {
   "cell_type": "code",
   "execution_count": 8,
   "id": "2a07d182-54c1-4d1c-b8a9-ada40fba1c3f",
   "metadata": {},
   "outputs": [],
   "source": [
    "D,V = la.eig(A)"
   ]
  },
  {
   "cell_type": "code",
   "execution_count": 9,
   "id": "2cfeb495-e143-4898-a0c9-372e6f4e8083",
   "metadata": {},
   "outputs": [
    {
     "data": {
      "text/plain": [
       "array([ 3., -1.])"
      ]
     },
     "execution_count": 9,
     "metadata": {},
     "output_type": "execute_result"
    }
   ],
   "source": [
    "D = np.real(D)\n",
    "D"
   ]
  },
  {
   "cell_type": "code",
   "execution_count": 10,
   "id": "bd0f173b-046f-438d-bf62-6da767654608",
   "metadata": {},
   "outputs": [
    {
     "data": {
      "text/plain": [
       "array([[ 0.70710678,  0.70710678],\n",
       "       [-0.70710678,  0.70710678]])"
      ]
     },
     "execution_count": 10,
     "metadata": {},
     "output_type": "execute_result"
    }
   ],
   "source": [
    "V"
   ]
  },
  {
   "cell_type": "markdown",
   "id": "1abed40e-d24e-4f83-a79e-d9af9d3a9835",
   "metadata": {},
   "source": [
    "Verify using the definition $A \\mathbf{v} = \\lambda \\mathbf{v} \\Rightarrow A \\mathbf{v} - \\lambda \\mathbf{v} = 0$."
   ]
  },
  {
   "cell_type": "code",
   "execution_count": 11,
   "id": "1467ac57-c513-4e4f-95f7-19da52c89586",
   "metadata": {},
   "outputs": [
    {
     "data": {
      "text/plain": [
       "array([-4.4408921e-16,  0.0000000e+00])"
      ]
     },
     "execution_count": 11,
     "metadata": {},
     "output_type": "execute_result"
    }
   ],
   "source": [
    "A@V[:,0] - D[0]*V[:,0]"
   ]
  },
  {
   "cell_type": "code",
   "execution_count": 12,
   "id": "20e0555a-13ae-465c-a830-37570233e642",
   "metadata": {},
   "outputs": [
    {
     "data": {
      "text/plain": [
       "array([-7.77156117e-16,  1.11022302e-16])"
      ]
     },
     "execution_count": 12,
     "metadata": {},
     "output_type": "execute_result"
    }
   ],
   "source": [
    "A@V[:,1] - D[1]*V[:,1]"
   ]
  },
  {
   "cell_type": "markdown",
   "id": "363127fb-253e-4166-b4d0-a09756d252e6",
   "metadata": {},
   "source": [
    "Now let's do a huge example."
   ]
  },
  {
   "cell_type": "code",
   "execution_count": 13,
   "id": "af63034c-9edb-44d0-a763-2020431aa8b2",
   "metadata": {},
   "outputs": [
    {
     "data": {
      "text/plain": [
       "array([[-2.,  1.,  0., ...,  0.,  0.,  0.],\n",
       "       [ 1., -2.,  1., ...,  0.,  0.,  0.],\n",
       "       [ 0.,  1., -2., ...,  0.,  0.,  0.],\n",
       "       ...,\n",
       "       [ 0.,  0.,  0., ..., -2.,  1.,  0.],\n",
       "       [ 0.,  0.,  0., ...,  1., -2.,  1.],\n",
       "       [ 0.,  0.,  0., ...,  0.,  1., -2.]])"
      ]
     },
     "execution_count": 13,
     "metadata": {},
     "output_type": "execute_result"
    }
   ],
   "source": [
    "N = 500\n",
    "A = -2*np.eye(N) + np.diag(np.ones(N-1),1) + np.diag(np.ones(N-1),-1)\n",
    "A"
   ]
  },
  {
   "cell_type": "code",
   "execution_count": 14,
   "id": "0cd83d9b-e5f8-4c27-a89b-c33f8f09504f",
   "metadata": {},
   "outputs": [],
   "source": [
    "D,V = la.eig(A)\n",
    "D = np.sort(np.real(D))"
   ]
  },
  {
   "cell_type": "code",
   "execution_count": 15,
   "id": "8823ac91-1386-496d-b022-f5940581b808",
   "metadata": {},
   "outputs": [
    {
     "data": {
      "image/png": "[encoded data removed]",
      "text/plain": [
       "<Figure size 640x480 with 1 Axes>"
      ]
     },
     "metadata": {},
     "output_type": "display_data"
    }
   ],
   "source": [
    "plt.plot(D)\n",
    "plt.show()"
   ]
  },
  {
   "cell_type": "markdown",
   "id": "83ab91e4-b12b-490d-b342-9c135a413617",
   "metadata": {},
   "source": [
    "This matrix is called a toeplitz matrix and the eigenvalues follow a beautiful pattern."
   ]
  },
  {
   "cell_type": "markdown",
   "id": "9cc6d6fc-40d1-47fc-bcc6-08f4ce8e305c",
   "metadata": {},
   "source": [
    "## Power Method"
   ]
  },
  {
   "cell_type": "code",
   "execution_count": 16,
   "id": "4dc7b526-b670-4dc6-8dc0-eafdd71840dd",
   "metadata": {},
   "outputs": [],
   "source": [
    "A = np.array([[1,-2],[-2,1]])"
   ]
  },
  {
   "cell_type": "code",
   "execution_count": 17,
   "id": "8ec915f0-f3fc-4781-9911-100ad624dc80",
   "metadata": {},
   "outputs": [],
   "source": [
    "x0 = np.array([1,0])"
   ]
  },
  {
   "cell_type": "code",
   "execution_count": 21,
   "id": "891fc91e-efa6-4ced-95e6-9df65de53ab6",
   "metadata": {},
   "outputs": [
    {
     "name": "stdout",
     "output_type": "stream",
     "text": [
      "[ 1.         -0.99996613]\n"
     ]
    }
   ],
   "source": [
    "Anx0 = x0\n",
    "for n in range(0,10):\n",
    "    Anx0 = A@Anx0\n",
    "    Anx0 = Anx0/np.max(np.abs(Anx0))\n",
    "print(Anx0)"
   ]
  },
  {
   "cell_type": "markdown",
   "id": "c70211d8-50a2-4266-9ec8-0292e3e85f0a",
   "metadata": {},
   "source": [
    "If we have an approximation $\\mathbf{v}$ of an eigenvector, how do we approximate the eigenvalue?"
   ]
  },
  {
   "cell_type": "markdown",
   "id": "c4e36948-0bb3-4afd-9bf8-b14abcc4ebf6",
   "metadata": {},
   "source": [
    "$$\n",
    "A\\mathbf{v} = \\lambda \\mathbf{v}\n",
    "$$"
   ]
  },
  {
   "cell_type": "markdown",
   "id": "8a910b65-729c-4494-9be7-572eec6cfb03",
   "metadata": {},
   "source": [
    "$$\n",
    "\\mathbf{v}^T A \\mathbf{v} = \\lambda \\mathbf{v}^T \\mathbf{v}\n",
    "$$"
   ]
  },
  {
   "cell_type": "markdown",
   "id": "2c899f8c-e129-406b-8998-74463bc34b9f",
   "metadata": {},
   "source": [
    "$$\n",
    "\\frac{\\mathbf{v}^T A \\mathbf{v}}{\\mathbf{v}^T \\mathbf{v}} = \\lambda \n",
    "$$"
   ]
  },
  {
   "cell_type": "code",
   "execution_count": 22,
   "id": "8d17fd2b-06ed-4f4d-8b68-20a469ef3312",
   "metadata": {},
   "outputs": [
    {
     "data": {
      "text/plain": [
       "2.9999999988528114"
      ]
     },
     "execution_count": 22,
     "metadata": {},
     "output_type": "execute_result"
    }
   ],
   "source": [
    "Anx0.T @ A @ Anx0 / (Anx0.T @ Anx0)"
   ]
  },
  {
   "cell_type": "markdown",
   "id": "4c58c6e7-1972-429a-972b-de6a8fdca58d",
   "metadata": {},
   "source": [
    "This is called the Rayleigh quotient."
   ]
  }
 ],
 "metadata": {
  "kernelspec": {
   "display_name": "Python 3 (ipykernel)",
   "language": "python",
   "name": "python3"
  },
  "language_info": {
   "codemirror_mode": {
    "name": "ipython",
    "version": 3
   },
   "file_extension": ".py",
   "mimetype": "text/x-python",
   "name": "python",
   "nbconvert_exporter": "python",
   "pygments_lexer": "ipython3",
   "version": "3.9.12"
  }
 },
 "nbformat": 4,
 "nbformat_minor": 5
}
