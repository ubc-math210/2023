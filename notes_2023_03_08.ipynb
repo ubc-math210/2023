{
 "cells": [
  {
   "cell_type": "markdown",
   "id": "361b9175-6b8f-4163-ad66-bbea18a053f1",
   "metadata": {},
   "source": [
    "# MATH 210 Introduction to Mathematical Computing\n",
    "\n",
    "## March 8, 2023\n",
    "\n",
    "* Numerical Differentiation\n",
    "* Simpson's Rule"
   ]
  },
  {
   "cell_type": "code",
   "execution_count": 2,
   "id": "5d80a56d-e6ac-4187-9124-69c9a134937a",
   "metadata": {},
   "outputs": [],
   "source": [
    "import numpy as np\n",
    "import matplotlib.pyplot as plt"
   ]
  },
  {
   "cell_type": "markdown",
   "id": "26f66bc0-c5ae-48c5-90f6-7d58ec1cbc28",
   "metadata": {},
   "source": [
    "## Numerical Differentiation\n",
    "\n",
    "The Taylor series of $f(x)$ at $x=a$ is\n",
    "\n",
    "$$\n",
    "f(x) = \\sum_{k=0}^{\\infty} \\frac{f^{(k)}(a)}{k!} (x-a)^k = f(a) + f'(a)(x - a) + \\frac{f''(a)}{2}(x - a)^2 + \\cdots\n",
    "$$\n",
    "\n",
    "We can rewrite the Taylor series in a couple of different ways\n",
    "\n",
    "\\begin{align*}\n",
    "f(x + h) &= f(x) + f'(x)h + \\frac{f''(x)}{2!}h^2 + \\frac{f'''(x)}{3!}h^3 + \\frac{f''''(x)}{4!}h^4 + \\cdots \\\\\n",
    "f(x - h) &= f(x) - f'(x)h + \\frac{f''(x)}{2!}h^2 - \\frac{f'''(x)}{3!}h^3 + \\frac{f''''(x)}{4!}h^4 + \\cdots\n",
    "\\end{align*}\n",
    "\n",
    "Truncate after degree 1 and subtract formulas above to get central difference formula for $f'(x)$\n",
    "\n",
    "$$\n",
    "f'(x) \\approx \\frac{f(x + h) - f(x - h)}{2h}\n",
    "$$\n",
    "\n",
    "Truncate after degree 2 and add formulas above to get central difference formula for $f''(x)$\n",
    "\n",
    "$$\n",
    "f''(x) \\approx \\frac{f(x + h) - 2f(x) + f(x - h)}{h^2}\n",
    "$$\n",
    "\n",
    "Apply the second order central difference formula to $f''(x)$ to get\n",
    "\n",
    "$$\n",
    "f''''(x) \\approx \\frac{f''(x + h) - 2f''(x) + f''(x - h)}{h^2}\n",
    "$$\n",
    "\n",
    "and finally insert formula for $f''(x)$ to get the central difference formula for $f''''(x)$\n",
    "\n",
    "$$\n",
    "f''''(x) \\approx \\frac{\\frac{f(x + 2h) - 2f(x + h) + f(x)}{h^2} - 2\\left( \\frac{f(x + h) - 2f(x) + f(x - h)}{h^2} \\right) + \\frac{f(x) - 2f(x - h) + f(x - 2h)}{h^2}}{h^2}\n",
    "$$\n",
    "$$\n",
    "f''''(x) \\approx \\frac{f(x + 2h) - 4f(x + h) + 6f(x) - 4f(x - h) + f(x - 2h)}{h^4}\n",
    "$$"
   ]
  },
  {
   "cell_type": "markdown",
   "id": "bd8f4a09-9597-4d2d-b068-fef99071db4e",
   "metadata": {},
   "source": [
    "Let's plot $f''''(x)$ for $f(x) = \\sin(x^2)$ for $x \\in [0,\\sqrt{\\pi/2}]$:"
   ]
  },
  {
   "cell_type": "code",
   "execution_count": 5,
   "id": "b5831e9f-8e73-4f4e-bfe1-3f7f1c9fee4d",
   "metadata": {},
   "outputs": [
    {
     "data": {
      "image/png": "[encoded data removed]",
      "text/plain": [
       "<Figure size 640x480 with 1 Axes>"
      ]
     },
     "metadata": {},
     "output_type": "display_data"
    }
   ],
   "source": [
    "f = lambda x: np.sin(x**2)\n",
    "h = 0.01\n",
    "x = np.linspace(0,np.pi**0.5,100)\n",
    "d4f = (f(x + 2*h) - 4*f(x + h) + 6*f(x) - 4*f(x - h) + f(x - 2*h))/h**4\n",
    "plt.plot(x,d4f)\n",
    "plt.show()"
   ]
  },
  {
   "cell_type": "code",
   "execution_count": 8,
   "id": "3a3a855d-d7aa-40c1-b734-773056d77990",
   "metadata": {},
   "outputs": [
    {
     "data": {
      "text/plain": [
       "164.85849946845653"
      ]
     },
     "execution_count": 8,
     "metadata": {},
     "output_type": "execute_result"
    }
   ],
   "source": [
    "K4 = np.max(np.abs(d4f))\n",
    "K4"
   ]
  },
  {
   "cell_type": "markdown",
   "id": "da18a783-c119-4fcf-89b4-7609cb6b158b",
   "metadata": {},
   "source": [
    "## Simpson's Rule\n",
    "\n",
    "$$\n",
    "S_N(f) = \\frac{\\Delta x}{3} \\sum_{k=1}^{N/2} ( f(x_{2k - 2}) + 4f(x_{2k - 1}) + f(x_{2k}))\n",
    "$$"
   ]
  },
  {
   "cell_type": "code",
   "execution_count": 9,
   "id": "29634565-90b6-43e8-825d-5e5762f989f3",
   "metadata": {},
   "outputs": [],
   "source": [
    "import scipy.integrate as spi"
   ]
  },
  {
   "cell_type": "code",
   "execution_count": 13,
   "id": "d2055bdd-4384-4c32-b11b-68c5c3ddfff8",
   "metadata": {},
   "outputs": [
    {
     "data": {
      "text/plain": [
       "0.8948314005293039"
      ]
     },
     "execution_count": 13,
     "metadata": {},
     "output_type": "execute_result"
    }
   ],
   "source": [
    "f = lambda x: np.sin(x**2)\n",
    "N = 100\n",
    "x = np.linspace(0,np.pi**0.5,N)\n",
    "y = f(x)\n",
    "I = spi.simps(y,x)\n",
    "I"
   ]
  },
  {
   "cell_type": "markdown",
   "id": "70aab535-3ae5-4f04-a72a-1c3c7f478419",
   "metadata": {},
   "source": [
    "The error bound is\n",
    "\n",
    "$$\n",
    "E_N^S(f) \\leq \\frac{(b - a)^5}{180 N^4} K_4\n",
    "$$\n",
    "\n",
    "where $|f''''(x)| \\leq K_4$ for all $x \\in [a,b]$."
   ]
  },
  {
   "cell_type": "code",
   "execution_count": 14,
   "id": "8d22e37d-5204-4f86-a8a1-9617fe3064fe",
   "metadata": {},
   "outputs": [
    {
     "data": {
      "text/plain": [
       "1.6021881644812387e-07"
      ]
     },
     "execution_count": 14,
     "metadata": {},
     "output_type": "execute_result"
    }
   ],
   "source": [
    "(np.pi**0.5)**5/180/N**4*K4"
   ]
  }
 ],
 "metadata": {
  "kernelspec": {
   "display_name": "Python 3 (ipykernel)",
   "language": "python",
   "name": "python3"
  },
  "language_info": {
   "codemirror_mode": {
    "name": "ipython",
    "version": 3
   },
   "file_extension": ".py",
   "mimetype": "text/x-python",
   "name": "python",
   "nbconvert_exporter": "python",
   "pygments_lexer": "ipython3",
   "version": "3.10.8"
  }
 },
 "nbformat": 4,
 "nbformat_minor": 5
}
