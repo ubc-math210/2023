{
 "cells": [
  {
   "cell_type": "markdown",
   "id": "5930a612-b925-4790-9432-6d01d76e9faf",
   "metadata": {},
   "source": [
    "# MATH 210 Introduction to Mathematical Computing\n",
    "\n",
    "## January 16, 2023\n",
    "\n",
    "* Numbers\n",
    "* Variables\n",
    "* Sequences"
   ]
  },
  {
   "cell_type": "markdown",
   "id": "6b20ad41-5c5d-40ff-b234-d7590f860dea",
   "metadata": {},
   "source": [
    "## Numbers\n",
    "\n",
    "There are 3 main numeric types in Python: integers (`int`), floating point numbers (`float`) and complex numbers (`complex`). Floating point numbers (aka. floats) are real numbers in decimal form (up to 16 significant digits)."
   ]
  },
  {
   "cell_type": "markdown",
   "id": "2625f83f-05fe-490f-b5c7-6e26e5d7e632",
   "metadata": {},
   "source": [
    "For example, let's compute\n",
    "$$\n",
    "{ n \\choose m } = \\frac{n!}{(n - m)! m!}\n",
    "$$\n",
    "for $n = 5$ and $m=2$:"
   ]
  },
  {
   "cell_type": "code",
   "execution_count": 1,
   "id": "b2733ffc-08c0-4e01-9054-9fe1818bc402",
   "metadata": {},
   "outputs": [
    {
     "data": {
      "text/plain": [
       "10.0"
      ]
     },
     "execution_count": 1,
     "metadata": {},
     "output_type": "execute_result"
    }
   ],
   "source": [
    "(5*4*3*2*1)/((3*2*1)*(2*1))"
   ]
  },
  {
   "cell_type": "markdown",
   "id": "e06b1d1f-400c-4d01-b38c-c7ec29f6ddad",
   "metadata": {},
   "source": [
    "Notice that $n \\choose m$ is an integer (by definition) however Python always returns a float when computing division."
   ]
  },
  {
   "cell_type": "markdown",
   "id": "41c1a7fd-c6fe-4d82-8494-8593e97d3971",
   "metadata": {},
   "source": [
    "Let's compute the partial Taylor series for $\\cos(x)$:\n",
    "\n",
    "$$\n",
    "\\cos(x) = \\sum_{n=0}^{\\infty} \\frac{(-1)^n x^{2n}}{(2n)!}\n",
    "= 1 - \\frac{x^2}{2} + \\frac{x^4}{4!} - \\frac{x^6}{6!} + \\cdots\n",
    "$$\n",
    "\n",
    "Compute for $x=2$ up to 4 terms:"
   ]
  },
  {
   "cell_type": "code",
   "execution_count": 2,
   "id": "8b47b413-b245-461c-83df-a03337edf2eb",
   "metadata": {},
   "outputs": [
    {
     "data": {
      "text/plain": [
       "-0.4222222222222223"
      ]
     },
     "execution_count": 2,
     "metadata": {},
     "output_type": "execute_result"
    }
   ],
   "source": [
    "1 - 2**2/2 + 2**4/(4*3*2*1) - 2**6/(6*5*4*3*2*1)"
   ]
  },
  {
   "cell_type": "markdown",
   "id": "b4d74fca-bb17-4f97-a256-e77e81a4c1a2",
   "metadata": {},
   "source": [
    "Now let's approximate $\\cos(1)$:"
   ]
  },
  {
   "cell_type": "code",
   "execution_count": 3,
   "id": "998adee8-cdd9-491f-9855-5d648a1ab746",
   "metadata": {},
   "outputs": [
    {
     "data": {
      "text/plain": [
       "0.5402777777777777"
      ]
     },
     "execution_count": 3,
     "metadata": {},
     "output_type": "execute_result"
    }
   ],
   "source": [
    "1 - 1**2/2 + 1**4/(4*3*2*1) - 1**6/(6*5*4*3*2*1)"
   ]
  },
  {
   "cell_type": "markdown",
   "id": "11aecb88-00c3-4c5e-b137-682c1a51321d",
   "metadata": {},
   "source": [
    "It's inefficient to change values manually everywhere they appear like $x$ in the formula above. We should use variables!"
   ]
  },
  {
   "cell_type": "markdown",
   "id": "49765ba0-c6cc-4701-b0e6-bb43318c48d6",
   "metadata": {},
   "source": [
    "## Variables\n",
    "\n",
    "A variable is a name we give to value to reuse in our Python code. Let's do the Taylor series for $\\cos(x)$ using a variable $x$."
   ]
  },
  {
   "cell_type": "code",
   "execution_count": 4,
   "id": "4d0b82fb-cc54-45a0-a064-35b3d266ab37",
   "metadata": {},
   "outputs": [
    {
     "data": {
      "text/plain": [
       "0.5402777777777777"
      ]
     },
     "execution_count": 4,
     "metadata": {},
     "output_type": "execute_result"
    }
   ],
   "source": [
    "x = 1\n",
    "1 - x**2/2 + x**4/(4*3*2*1) - x**6/(6*5*4*3*2*1)"
   ]
  },
  {
   "cell_type": "markdown",
   "id": "fccd00df-0c90-4683-a570-0039ebbda6a9",
   "metadata": {},
   "source": [
    "We use the familiar variables names `x`, `y` and `z` for mathematical formulas. It's good practice to use descriptive variable names in longer Python programs and functions. But there are [reserved words](https://docs.python.org/3.3/reference/lexical_analysis.html#keywords) and [builtin function names](https://docs.python.org/3/library/functions.html) that we must avoid.\n",
    "\n",
    "For example, do not use builtin function names as variable names such as `sum`, `type`, `list`, `int`, ..."
   ]
  },
  {
   "cell_type": "code",
   "execution_count": 5,
   "id": "509095ee-3556-4724-a2b5-ae281154e1ee",
   "metadata": {},
   "outputs": [
    {
     "data": {
      "text/plain": [
       "<function sum(iterable, /, start=0)>"
      ]
     },
     "execution_count": 5,
     "metadata": {},
     "output_type": "execute_result"
    }
   ],
   "source": [
    "sum"
   ]
  },
  {
   "cell_type": "markdown",
   "id": "f1e16b80-c544-4bf0-ad39-a721ef10c09b",
   "metadata": {},
   "source": [
    "If you use a builtin function name, there won't be an error but the buitlin function will be lost ... until you restart the kernel.\n",
    "\n",
    "You can't use a reserved word as a variable name. Python will throw an error."
   ]
  },
  {
   "cell_type": "code",
   "execution_count": 6,
   "id": "a43094d8-2290-4665-8ae6-282f832dbfb1",
   "metadata": {},
   "outputs": [
    {
     "ename": "SyntaxError",
     "evalue": "invalid syntax (2731178159.py, line 1)",
     "output_type": "error",
     "traceback": [
      "\u001b[0;36m  Cell \u001b[0;32mIn[6], line 1\u001b[0;36m\u001b[0m\n\u001b[0;31m    lambda = 1\u001b[0m\n\u001b[0m           ^\u001b[0m\n\u001b[0;31mSyntaxError\u001b[0m\u001b[0;31m:\u001b[0m invalid syntax\n"
     ]
    }
   ],
   "source": [
    "lambda = 1"
   ]
  },
  {
   "cell_type": "markdown",
   "id": "b2845daf-cb83-4bc0-87cf-1c1f8a1f0499",
   "metadata": {},
   "source": [
    "Use the Jupyter command `whos` to display all the variables defined in the current environment."
   ]
  },
  {
   "cell_type": "code",
   "execution_count": 7,
   "id": "1bd33dea-3d16-474b-a538-a4ac0a76bfaa",
   "metadata": {},
   "outputs": [
    {
     "name": "stdout",
     "output_type": "stream",
     "text": [
      "Variable   Type    Data/Info\n",
      "----------------------------\n",
      "x          int     1\n"
     ]
    }
   ],
   "source": [
    "whos"
   ]
  },
  {
   "cell_type": "markdown",
   "id": "1268806e-ab4c-499b-a397-22209e8e1d11",
   "metadata": {},
   "source": [
    "Let's compute the first 6 terms of the Taylor series of $\\log(1 + x)$ for $x = 1/2$:\n",
    "\n",
    "$$\n",
    "\\log(1 + x) = \\sum_{n=1}^{\\infty} \\frac{(-1)^{n+1} x^n}{n} \\ \\ , \\ |x| < 1\n",
    "$$"
   ]
  },
  {
   "cell_type": "code",
   "execution_count": 8,
   "id": "dd22d405-6988-4689-877b-95b75e2cad25",
   "metadata": {},
   "outputs": [
    {
     "data": {
      "text/plain": [
       "0.4046875"
      ]
     },
     "execution_count": 8,
     "metadata": {},
     "output_type": "execute_result"
    }
   ],
   "source": [
    "x = 1/2\n",
    "x - x**2/2 + x**3/3 - x**4/4 + x**5/5 - x**6/6"
   ]
  },
  {
   "cell_type": "markdown",
   "id": "f3358c03-84a3-4650-8734-fceb2dc857a6",
   "metadata": {},
   "source": [
    "## Sequences\n",
    "\n",
    "Typing out all the terms in a series is inefficient. Instead we can construct sequences using Python list comprehensions. But before we get to list comprehension, let's talk about tuples, lists and ranges.\n",
    "\n",
    "There are 3 main sequence types in Python: tuples, lists and range objects.\n",
    "\n",
    "There isn't much of a difference between tuples and lists. Let's just use lists by default. We can change the entries in a list after defining it but we can't with tuples (this is called mutable/immutable)."
   ]
  },
  {
   "cell_type": "markdown",
   "id": "2b55566a-cf49-4fb3-b327-8725281bac3c",
   "metadata": {},
   "source": [
    "Use square brackets to define a list."
   ]
  },
  {
   "cell_type": "code",
   "execution_count": 9,
   "id": "fc189892-f4ec-43a0-9741-ee8cb8268749",
   "metadata": {},
   "outputs": [],
   "source": [
    "v = [1,2,3]"
   ]
  },
  {
   "cell_type": "code",
   "execution_count": 10,
   "id": "0e07e079-4cd0-491b-bbb1-28e9dd2cea00",
   "metadata": {},
   "outputs": [
    {
     "data": {
      "text/plain": [
       "[1, 2, 3]"
      ]
     },
     "execution_count": 10,
     "metadata": {},
     "output_type": "execute_result"
    }
   ],
   "source": [
    "v"
   ]
  },
  {
   "cell_type": "code",
   "execution_count": 11,
   "id": "4ce63ae7-e772-41a3-a260-4ef9c61232b2",
   "metadata": {},
   "outputs": [
    {
     "data": {
      "text/plain": [
       "list"
      ]
     },
     "execution_count": 11,
     "metadata": {},
     "output_type": "execute_result"
    }
   ],
   "source": [
    "type(v)"
   ]
  },
  {
   "cell_type": "markdown",
   "id": "4383a99a-d7b7-4272-973e-5e182e12a1f5",
   "metadata": {},
   "source": [
    "We can make lists of any kind of value including lists of lists."
   ]
  },
  {
   "cell_type": "code",
   "execution_count": 12,
   "id": "e7c0c121-3961-4bd7-8d02-4caac8f4412e",
   "metadata": {},
   "outputs": [
    {
     "data": {
      "text/plain": [
       "[[1, 2], [3, 4]]"
      ]
     },
     "execution_count": 12,
     "metadata": {},
     "output_type": "execute_result"
    }
   ],
   "source": [
    "M = [[1,2],[3,4]]\n",
    "M"
   ]
  },
  {
   "cell_type": "markdown",
   "id": "90c8bac3-dcef-40b0-a586-a922cb089045",
   "metadata": {},
   "source": [
    "Access entries using its index (starting from 0):"
   ]
  },
  {
   "cell_type": "code",
   "execution_count": 13,
   "id": "6efa94c4-98af-40b8-94bc-6444de81d704",
   "metadata": {},
   "outputs": [
    {
     "data": {
      "text/plain": [
       "1"
      ]
     },
     "execution_count": 13,
     "metadata": {},
     "output_type": "execute_result"
    }
   ],
   "source": [
    "v[0]"
   ]
  },
  {
   "cell_type": "code",
   "execution_count": 14,
   "id": "0039030a-b129-48fb-b10b-0b6c3ab52f95",
   "metadata": {},
   "outputs": [
    {
     "data": {
      "text/plain": [
       "2"
      ]
     },
     "execution_count": 14,
     "metadata": {},
     "output_type": "execute_result"
    }
   ],
   "source": [
    "v[1]"
   ]
  },
  {
   "cell_type": "code",
   "execution_count": 15,
   "id": "26ffd24c-de64-4155-9f3b-a5f2f7b24d0f",
   "metadata": {},
   "outputs": [
    {
     "data": {
      "text/plain": [
       "3"
      ]
     },
     "execution_count": 15,
     "metadata": {},
     "output_type": "execute_result"
    }
   ],
   "source": [
    "v[2]"
   ]
  },
  {
   "cell_type": "code",
   "execution_count": 16,
   "id": "47b41415-c1bb-4f13-a4db-44cba36fc35b",
   "metadata": {},
   "outputs": [
    {
     "data": {
      "text/plain": [
       "[1, 2]"
      ]
     },
     "execution_count": 16,
     "metadata": {},
     "output_type": "execute_result"
    }
   ],
   "source": [
    "M[0]"
   ]
  },
  {
   "cell_type": "code",
   "execution_count": 17,
   "id": "9987aa2f-12fd-45be-aa0e-208a3ca1ddcd",
   "metadata": {},
   "outputs": [
    {
     "data": {
      "text/plain": [
       "2"
      ]
     },
     "execution_count": 17,
     "metadata": {},
     "output_type": "execute_result"
    }
   ],
   "source": [
    "M[0][1]"
   ]
  },
  {
   "cell_type": "markdown",
   "id": "4f246a4e-3001-4cbc-9780-1b4e6492457e",
   "metadata": {},
   "source": [
    "Range objects are usually used in loops. They are more memory efficient because they don't store all the entries, they just provide you with each entry when you ask for it. The syntax `range(a,b,step)` creates the list of integers from `a` to `b` (exclusive) incremented by `step`."
   ]
  },
  {
   "cell_type": "code",
   "execution_count": 18,
   "id": "448edef4-6f76-4d42-96ec-ee01ae00da25",
   "metadata": {},
   "outputs": [
    {
     "data": {
      "text/plain": [
       "range(0, 10, 2)"
      ]
     },
     "execution_count": 18,
     "metadata": {},
     "output_type": "execute_result"
    }
   ],
   "source": [
    "range(0,10,2)"
   ]
  },
  {
   "cell_type": "code",
   "execution_count": 19,
   "id": "98d3fb4d-d483-41db-8d56-0642578d4323",
   "metadata": {},
   "outputs": [
    {
     "name": "stdout",
     "output_type": "stream",
     "text": [
      "0\n",
      "4\n",
      "16\n",
      "36\n",
      "64\n"
     ]
    }
   ],
   "source": [
    "for n in range(0,10,2):\n",
    "    print(n**2)"
   ]
  },
  {
   "cell_type": "markdown",
   "id": "2bcd9864-80a9-4061-b507-444b4ab72316",
   "metadata": {},
   "source": [
    "We can use the builtin function sum to add entries in a sequence."
   ]
  },
  {
   "cell_type": "code",
   "execution_count": 20,
   "id": "5a5a7290-f258-475e-a30e-98d7b1297736",
   "metadata": {},
   "outputs": [
    {
     "data": {
      "text/plain": [
       "500500"
      ]
     },
     "execution_count": 20,
     "metadata": {},
     "output_type": "execute_result"
    }
   ],
   "source": [
    "sum(range(1,1001))"
   ]
  }
 ],
 "metadata": {
  "kernelspec": {
   "display_name": "Python 3 (ipykernel)",
   "language": "python",
   "name": "python3"
  },
  "language_info": {
   "codemirror_mode": {
    "name": "ipython",
    "version": 3
   },
   "file_extension": ".py",
   "mimetype": "text/x-python",
   "name": "python",
   "nbconvert_exporter": "python",
   "pygments_lexer": "ipython3",
   "version": "3.10.8"
  }
 },
 "nbformat": 4,
 "nbformat_minor": 5
}
