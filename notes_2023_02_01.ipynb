{
 "cells": [
  {
   "cell_type": "markdown",
   "id": "7f7e4969-6892-4da4-9fef-5c5af2f12673",
   "metadata": {},
   "source": [
    "# MATH 210 Introduction to Mathematical Computing\n",
    "\n",
    "## February 1, 2023\n",
    "\n",
    "* Recursive sequences"
   ]
  },
  {
   "cell_type": "markdown",
   "id": "d981c279-f639-46c5-a6c6-c608fa6a8cd2",
   "metadata": {},
   "source": [
    "## Recursive Sequences\n",
    "\n",
    "Write a function called `aseq` which takes a positive number `a` and integer `N` and returns  sequence\n",
    "\n",
    "$$\n",
    "x_{n+1} = \\frac{1}{2} \\left(x_n + \\frac{a}{x_n} \\right) \\ , \\ \\ x_0 = a\n",
    "$$\n",
    "\n",
    "up to (and including) $x_N$ as a Python list of numbers `[x0,x1,...,xN]`."
   ]
  },
  {
   "cell_type": "code",
   "execution_count": 1,
   "id": "3ad112e2-bebc-4fa9-b2b1-8d000e8cae66",
   "metadata": {},
   "outputs": [],
   "source": [
    "def aseq(a,N):\n",
    "    seq = [float(a)]\n",
    "    for n in range(0,N):\n",
    "        xn = seq[-1]\n",
    "        seq.append(1/2*(xn + a/xn))\n",
    "    return seq"
   ]
  },
  {
   "cell_type": "code",
   "execution_count": 2,
   "id": "f218ea2e-f275-4bc8-96d1-51a8f9bcc177",
   "metadata": {},
   "outputs": [
    {
     "data": {
      "text/plain": [
       "[1.0, 1.0, 1.0]"
      ]
     },
     "execution_count": 2,
     "metadata": {},
     "output_type": "execute_result"
    }
   ],
   "source": [
    "# [1,1,1]\n",
    "aseq(1,2)"
   ]
  },
  {
   "cell_type": "code",
   "execution_count": 3,
   "id": "fd4a404b-f847-472e-abfd-1ab3fa99347e",
   "metadata": {},
   "outputs": [
    {
     "data": {
      "text/plain": [
       "[2.0, 1.5, 1.4166666666666665]"
      ]
     },
     "execution_count": 3,
     "metadata": {},
     "output_type": "execute_result"
    }
   ],
   "source": [
    "# [2,1.5,1.4166666666666665]\n",
    "aseq(2,2)"
   ]
  },
  {
   "cell_type": "code",
   "execution_count": 4,
   "id": "907cbd6c-bb13-492f-92a8-a029f89815d8",
   "metadata": {},
   "outputs": [
    {
     "data": {
      "text/plain": [
       "[11.0,\n",
       " 6.0,\n",
       " 3.9166666666666665,\n",
       " 3.3625886524822697,\n",
       " 3.316938934730457,\n",
       " 3.3166248052315686,\n",
       " 3.3166247903554,\n",
       " 3.3166247903554]"
      ]
     },
     "execution_count": 4,
     "metadata": {},
     "output_type": "execute_result"
    }
   ],
   "source": [
    "aseq(11,7)"
   ]
  },
  {
   "cell_type": "code",
   "execution_count": 5,
   "id": "7119b0f9-da77-4e40-8ce0-ec1f4edb3146",
   "metadata": {},
   "outputs": [
    {
     "data": {
      "text/plain": [
       "3.3166247903554"
      ]
     },
     "execution_count": 5,
     "metadata": {},
     "output_type": "execute_result"
    }
   ],
   "source": [
    "11**0.5"
   ]
  },
  {
   "cell_type": "code",
   "execution_count": 6,
   "id": "0a0705c8-eabe-4b78-b39d-501546ef7c45",
   "metadata": {},
   "outputs": [
    {
     "data": {
      "text/plain": [
       "[0.25,\n",
       " 0.625,\n",
       " 0.5125,\n",
       " 0.5001524390243902,\n",
       " 0.5000000232305737,\n",
       " 0.5000000000000006]"
      ]
     },
     "execution_count": 6,
     "metadata": {},
     "output_type": "execute_result"
    }
   ],
   "source": [
    "aseq(0.25,5)"
   ]
  },
  {
   "cell_type": "markdown",
   "id": "7072c402-a6f7-413e-9742-96596464b405",
   "metadata": {},
   "source": [
    "## Convergence Proof\n",
    "\n",
    "Let's prove that the sequence converges to $\\sqrt{a}$ in the case $a>1$."
   ]
  },
  {
   "cell_type": "markdown",
   "id": "38721645-9af0-421d-ac0a-78c036fde080",
   "metadata": {},
   "source": [
    "#### Sequence is bounded\n",
    "\n",
    "Consider the function\n",
    "\n",
    "$$\n",
    "f(x) = \\frac{1}{2} \\left(x + \\frac{a}{x} \\right)\n",
    "$$\n",
    "\n",
    "and note that $x_{n+1} = f(x_n)$ and $f(\\sqrt{a}) = \\sqrt{a}$. Compute the derivative\n",
    "\n",
    "$$\n",
    "f'(x) = \\frac{1}{2} \\left(1 - \\frac{a}{x^2} \\right)\n",
    "$$\n",
    "\n",
    "Note that $f(x)$ is continuous on $(0,\\infty)$ and clearly $f'(x) = 0$ when $x=\\sqrt{a}$ and $f'(x) > 0$ when $x > \\sqrt{a}$ therefore $f(x)$ is increasing for $x > \\sqrt{a}$.\n",
    "\n",
    "Base Case: $x_0 = a > \\sqrt{a}$.\n",
    "\n",
    "Induction Step: Assume $x_n > \\sqrt{a}$. Since $f(x)$ is increasing for $x > \\sqrt{a}$ we have $f(x_n) > f(\\sqrt{a})$ and therefore $x_{n+1} > \\sqrt{a}$.\n",
    "\n",
    "By induction, we have $x_n > \\sqrt{a}$ for all $n$."
   ]
  },
  {
   "cell_type": "markdown",
   "id": "6167e009-80d9-475d-bdfa-f243726b4121",
   "metadata": {},
   "source": [
    "#### Sequence is decreasing\n",
    "\n",
    "Base case: $x_0 = a$ and $x_1 = (a + 1)/2 = a/2 + 1/2 < a$ since $2a > a+1$ because $a>1$. Therefore $x_0 > x_1$.\n",
    "\n",
    "Induction step: Assume $x_n > x_{n+1}$. Since $f(x)$ is an increasing function when $x>\\sqrt{a}$ we have $f(x_n) > f(x_{n+1})$ and therefore $x_{n+1} > x_{n+2}$.\n",
    "\n",
    "By induction, the sequence is decreasing."
   ]
  },
  {
   "cell_type": "markdown",
   "id": "30eeaf7b-2a3d-4e63-91ec-a301093b98d5",
   "metadata": {},
   "source": [
    "#### Compute the limit\n",
    "\n",
    "The sequence is decreasing and bounded therefore it converges by the monotonic convergence theorem. Let $\\lim_{n \\to \\infty} x_n = L$. Solve the equation\n",
    "\n",
    "$$\n",
    "L = \\frac{1}{2} \\left(L + \\frac{a}{L} \\right)\n",
    "$$\n",
    "\n",
    "to find $L = \\pm \\sqrt{a}$ and conclude $L = \\sqrt{a}$ since $x_n > \\sqrt{a}$ for all $n$."
   ]
  }
 ],
 "metadata": {
  "kernelspec": {
   "display_name": "Python 3 (ipykernel)",
   "language": "python",
   "name": "python3"
  },
  "language_info": {
   "codemirror_mode": {
    "name": "ipython",
    "version": 3
   },
   "file_extension": ".py",
   "mimetype": "text/x-python",
   "name": "python",
   "nbconvert_exporter": "python",
   "pygments_lexer": "ipython3",
   "version": "3.10.8"
  }
 },
 "nbformat": 4,
 "nbformat_minor": 5
}
