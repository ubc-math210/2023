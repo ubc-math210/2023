{
 "cells": [
  {
   "cell_type": "markdown",
   "id": "c39301a3-0ff2-48cc-a544-0ebd547c4693",
   "metadata": {},
   "source": [
    "# MATH 210 Introduction to Mathematical Computing\n",
    "\n",
    "## January 9, 2023\n",
    "\n",
    "* Course Outline\n",
    "* Markdown Examples\n",
    "* LaTeX Examples\n",
    "* Python Examples"
   ]
  },
  {
   "cell_type": "markdown",
   "id": "e01ba8b8-b2c1-4056-a1ee-9bf1db20fc6f",
   "metadata": {},
   "source": [
    "## Course Outline\n",
    "\n",
    "Review the course outline, keep up to date with the assignment and quiz due dates and review the course textbook [Mathematical Python](https://patrickwalls.github.io/mathematicalpython/)."
   ]
  },
  {
   "cell_type": "markdown",
   "id": "8075fded-c907-479d-ba2d-490af2917453",
   "metadata": {},
   "source": [
    "## Markdown Examples\n",
    "\n",
    "Create headings with the `#` symbol:\n",
    "\n",
    "`### This is an H3 heading`\n",
    "\n",
    "### This is an H3 heading\n",
    "\n",
    "Create unordered lists using the asterisk `*`:\n",
    "\n",
    "* MATH 210 Introduction to Mathematical Computing\n",
    "* CRWR 230 Introduction to Comedic Form\n",
    "* ELEC 211 Engineering Electromagnetics\n",
    "\n",
    "Format text such as **bold** and *emphasis* and `code`.\n",
    "\n",
    "Create links with `[text](url)`:\n",
    "\n",
    "`[Mathematical Python](https://patrickwalls.github.io/mathematicalpython/)`\n",
    "\n",
    "[Mathematical Python](https://patrickwalls.github.io/mathematicalpython/)"
   ]
  },
  {
   "cell_type": "markdown",
   "id": "03ea460f-3555-49ca-9b4c-db6ae8c40b12",
   "metadata": {},
   "source": [
    "## LaTeX Examples\n",
    "\n",
    "Write LaTeX code in markdown cells. For example, write LaTeX inline $\\mathbf{v} \\in \\mathbb{R}^n$. Or in display mode\n",
    "\n",
    "$$\n",
    "f'(a) = \\lim_{x \\to a} \\frac{f(x) - f(a)}{x - a} = \\lim_{h \\to 0} \\frac{f(a + h) - f(a)}{h}\n",
    "$$"
   ]
  },
  {
   "cell_type": "markdown",
   "id": "91a3d91a-b8d2-4743-8e1b-d497755b6de6",
   "metadata": {},
   "source": [
    "## Python Examples"
   ]
  },
  {
   "cell_type": "code",
   "execution_count": 1,
   "id": "6d8eaa18-9201-467e-b6eb-91927d92d8b0",
   "metadata": {},
   "outputs": [
    {
     "data": {
      "text/plain": [
       "3"
      ]
     },
     "execution_count": 1,
     "metadata": {},
     "output_type": "execute_result"
    }
   ],
   "source": [
    "1+2"
   ]
  },
  {
   "cell_type": "code",
   "execution_count": 2,
   "id": "e1bd80eb-9a51-4a18-97af-38960fae1c2d",
   "metadata": {},
   "outputs": [
    {
     "name": "stdout",
     "output_type": "stream",
     "text": [
      "1\n",
      "4\n",
      "9\n",
      "16\n",
      "25\n",
      "36\n",
      "49\n",
      "64\n",
      "81\n",
      "100\n"
     ]
    }
   ],
   "source": [
    "for n in range(1,11):\n",
    "    print(n**2)"
   ]
  }
 ],
 "metadata": {
  "kernelspec": {
   "display_name": "Python 3 (ipykernel)",
   "language": "python",
   "name": "python3"
  },
  "language_info": {
   "codemirror_mode": {
    "name": "ipython",
    "version": 3
   },
   "file_extension": ".py",
   "mimetype": "text/x-python",
   "name": "python",
   "nbconvert_exporter": "python",
   "pygments_lexer": "ipython3",
   "version": "3.10.6"
  }
 },
 "nbformat": 4,
 "nbformat_minor": 5
}
