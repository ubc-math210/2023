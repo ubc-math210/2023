{
 "cells": [
  {
   "cell_type": "markdown",
   "id": "3b419dfb-2e0c-4d42-97de-1ebbd981ba48",
   "metadata": {},
   "source": [
    "# MATH 210 Introduction to Mathematical Computing\n",
    "\n",
    "## January 23, 2023\n",
    "\n",
    "* Defining functions\n",
    "* Lambda functions\n",
    "* Polynomials"
   ]
  },
  {
   "cell_type": "markdown",
   "id": "811399ac-a080-4da7-bd50-125f60137644",
   "metadata": {},
   "source": [
    "## Defining Functions\n",
    "\n",
    "The Python syntax to define a function is:\n",
    "\n",
    "```python\n",
    "def function_name(parameter1,parameter2,parameter3):\n",
    "    \"Description of the function.\"\n",
    "    Python code\n",
    "    Python code\n",
    "    return value\n",
    "```"
   ]
  },
  {
   "cell_type": "markdown",
   "id": "c810e3f1-9396-4417-bc76-cfe80b6af3c1",
   "metadata": {},
   "source": [
    "The main things to notice are:\n",
    "\n",
    "* starts with the `def` keyword\n",
    "* `function_name` is the name of the function\n",
    "* list the input parameters within parentheses `(parameter1,parameter2,parameter3)`\n",
    "* end the `def`statement with colon `:`\n",
    "* the body of the function is indented 4 spaces\n",
    "* follow the `def` statement with a description of the function within quotes (if you want to)\n",
    "* write Python code\n",
    "* the `return` statement specifies the output of the function"
   ]
  },
  {
   "cell_type": "markdown",
   "id": "eb64ef6b-d4e8-4731-8267-2480493d6307",
   "metadata": {},
   "source": [
    "For example, write a function called `norm` which takes a list of numbers `x` and returns the norm\n",
    "\n",
    "$$\n",
    "\\| \\mathbf{x} \\| = \\sqrt{x_1^2 + \\cdots + x_n^2} \\hspace{20mm}\n",
    "\\mathbf{x} = \\begin{bmatrix} x_1 \\\\ \\vdots \\\\ x_n \\end{bmatrix}\n",
    "$$\n",
    "\n",
    "where $n$ is the length of `x`."
   ]
  },
  {
   "cell_type": "code",
   "execution_count": 1,
   "id": "1ff849a1-4ddd-4bc8-b4a4-64d1205c7287",
   "metadata": {},
   "outputs": [],
   "source": [
    "def norm(x):\n",
    "    \"Compute the norm of the vector x.\"\n",
    "    terms = [x[k]**2 for k in range(0,len(x))]\n",
    "    value = sum(terms)**0.5\n",
    "    return value"
   ]
  },
  {
   "cell_type": "code",
   "execution_count": 2,
   "id": "4be89bc9-9b10-4255-bc93-2c28732563ba",
   "metadata": {},
   "outputs": [
    {
     "data": {
      "text/plain": [
       "5.0"
      ]
     },
     "execution_count": 2,
     "metadata": {},
     "output_type": "execute_result"
    }
   ],
   "source": [
    "x = [3,4]\n",
    "norm(x) # 5.0"
   ]
  },
  {
   "cell_type": "code",
   "execution_count": 3,
   "id": "aee2a976-c94b-4424-aaec-8f438effe0dc",
   "metadata": {},
   "outputs": [
    {
     "data": {
      "text/plain": [
       "13.0"
      ]
     },
     "execution_count": 3,
     "metadata": {},
     "output_type": "execute_result"
    }
   ],
   "source": [
    "x = [3,4,12]\n",
    "norm(x) # 13.0"
   ]
  },
  {
   "cell_type": "code",
   "execution_count": 4,
   "id": "c26b2f35-c38a-460e-8290-33d38fa6a638",
   "metadata": {},
   "outputs": [
    {
     "data": {
      "text/plain": [
       "20.0"
      ]
     },
     "execution_count": 4,
     "metadata": {},
     "output_type": "execute_result"
    }
   ],
   "source": [
    "x = [1 for k in range(0,400)]\n",
    "norm(x) # 20.0"
   ]
  },
  {
   "cell_type": "markdown",
   "id": "fb612fe1-47eb-494f-b7ef-9e0f559ae902",
   "metadata": {},
   "source": [
    "Strategy for writing functions:\n",
    "\n",
    "1. Start with a stub including the `def` statement and return value of the correct datatype.\n",
    "2. Come up with examples where we know what the output should be.\n",
    "3. Write the code!"
   ]
  },
  {
   "cell_type": "markdown",
   "id": "aa52c075-068d-44cd-8373-7341a2430930",
   "metadata": {},
   "source": [
    "## Lambda Functions\n",
    "\n",
    "Some functions are simple enough to write in a single line. For example, let's write a function called `average` which takes a sequence `x` and returns the average."
   ]
  },
  {
   "cell_type": "code",
   "execution_count": 5,
   "id": "b0203e78-a252-47ed-a217-8b4a58e0919e",
   "metadata": {},
   "outputs": [],
   "source": [
    "def average(x):\n",
    "    return sum(x)/len(x)"
   ]
  },
  {
   "cell_type": "code",
   "execution_count": 6,
   "id": "ee397135-ff3a-4dca-8dd0-50018f19a72c",
   "metadata": {},
   "outputs": [
    {
     "data": {
      "text/plain": [
       "1.6666666666666667"
      ]
     },
     "execution_count": 6,
     "metadata": {},
     "output_type": "execute_result"
    }
   ],
   "source": [
    "average([1,3,1])"
   ]
  },
  {
   "cell_type": "markdown",
   "id": "5b39c320-f970-454b-8e87-f31082260154",
   "metadata": {},
   "source": [
    "We can use the `lambda` to do this in one line:"
   ]
  },
  {
   "cell_type": "code",
   "execution_count": 7,
   "id": "b0063afa-94ab-4ba4-a890-077acaf2d3a7",
   "metadata": {},
   "outputs": [],
   "source": [
    "average = lambda x: sum(x)/len(x)"
   ]
  },
  {
   "cell_type": "code",
   "execution_count": 8,
   "id": "b98393de-02b0-456d-8c30-c58a4f204e7a",
   "metadata": {},
   "outputs": [
    {
     "data": {
      "text/plain": [
       "1.6666666666666667"
      ]
     },
     "execution_count": 8,
     "metadata": {},
     "output_type": "execute_result"
    }
   ],
   "source": [
    "average([1,3,1])"
   ]
  },
  {
   "cell_type": "markdown",
   "id": "9b4d1f1b-941d-420b-a8eb-99a33a811d33",
   "metadata": {},
   "source": [
    "## Polynomials\n",
    "\n",
    "Represent a polynomial\n",
    "$$\n",
    "p(x) = c_0 + c_1 x + c_2 x^2 + \\cdots + c_d x^d\n",
    "$$\n",
    "as a Python list of numbers\n",
    "```\n",
    "p = [c0,c1,c2,...,cd]\n",
    "```\n",
    "For example, `p = [1,0,0,0,-1]` corresponds to $p(x) = 1 - x^4$.\n",
    "\n",
    "Write a function called `poly_eval` which takes a list of numbers `p` (corresponding to a polynomial $p(x)$) and a number `a`, and returns the value $p(a)$ where\n",
    "\n",
    "$$\n",
    "p(a) = c_0 + c_1 a + c_2 a^2 + \\cdots + c_d a^d\n",
    "$$"
   ]
  },
  {
   "cell_type": "code",
   "execution_count": 9,
   "id": "44c3164a-7f33-434a-b097-72032046c575",
   "metadata": {},
   "outputs": [],
   "source": [
    "def poly_eval(p,a):\n",
    "    terms = [p[k]*a**k for k in range(0,len(p))]\n",
    "    pa = sum(terms)\n",
    "    return pa"
   ]
  },
  {
   "cell_type": "code",
   "execution_count": 10,
   "id": "bc1ada58-a1fa-451e-97f9-0fa9c03daeaa",
   "metadata": {},
   "outputs": [
    {
     "data": {
      "text/plain": [
       "-15"
      ]
     },
     "execution_count": 10,
     "metadata": {},
     "output_type": "execute_result"
    }
   ],
   "source": [
    "p = [1,0,0,0,-1]\n",
    "a = 2\n",
    "poly_eval(p,a) # -15"
   ]
  },
  {
   "cell_type": "code",
   "execution_count": 11,
   "id": "bfd84f9e-6a8b-4805-9b1c-89cc449bd49d",
   "metadata": {},
   "outputs": [
    {
     "data": {
      "text/plain": [
       "-0.08"
      ]
     },
     "execution_count": 11,
     "metadata": {},
     "output_type": "execute_result"
    }
   ],
   "source": [
    "p = [0,1,2]\n",
    "a = -0.1\n",
    "poly_eval(p,a) # -0.08"
   ]
  }
 ],
 "metadata": {
  "kernelspec": {
   "display_name": "Python 3 (ipykernel)",
   "language": "python",
   "name": "python3"
  },
  "language_info": {
   "codemirror_mode": {
    "name": "ipython",
    "version": 3
   },
   "file_extension": ".py",
   "mimetype": "text/x-python",
   "name": "python",
   "nbconvert_exporter": "python",
   "pygments_lexer": "ipython3",
   "version": "3.10.8"
  }
 },
 "nbformat": 4,
 "nbformat_minor": 5
}
