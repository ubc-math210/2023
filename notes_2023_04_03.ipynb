{
 "cells": [
  {
   "cell_type": "markdown",
   "id": "165f2c7a-f93f-4e92-80ca-85f233dc5217",
   "metadata": {},
   "source": [
    "# MATH 210 Introduction to Mathematical Computing\n",
    "\n",
    "## April 3, 2023\n",
    "\n",
    "* Matrices\n",
    "* `scipy.linalg`\n",
    "* Matrix Multiplication\n",
    "* Solving Linear Systems\n",
    "* Interpolation"
   ]
  },
  {
   "cell_type": "code",
   "execution_count": 1,
   "id": "5088dce3-5b18-48a3-bb19-7e11e5f96fa0",
   "metadata": {
    "tags": []
   },
   "outputs": [],
   "source": [
    "import numpy as np\n",
    "import matplotlib.pyplot as plt"
   ]
  },
  {
   "cell_type": "markdown",
   "id": "516057e5-0ec1-4bf5-abb7-8ee92c5b0d11",
   "metadata": {},
   "source": [
    "## Matrices"
   ]
  },
  {
   "cell_type": "code",
   "execution_count": 2,
   "id": "6c25fae4-bca7-4d66-a40d-7c41dbd9cb27",
   "metadata": {
    "tags": []
   },
   "outputs": [
    {
     "data": {
      "text/plain": [
       "array([[ 1.,  2.],\n",
       "       [-2.,  1.]])"
      ]
     },
     "execution_count": 2,
     "metadata": {},
     "output_type": "execute_result"
    }
   ],
   "source": [
    "A = np.array([[1.,2.],[-2.,1.]])\n",
    "A"
   ]
  },
  {
   "cell_type": "code",
   "execution_count": 3,
   "id": "e132bbf6-40a9-418c-b61f-7459f709b898",
   "metadata": {
    "tags": []
   },
   "outputs": [
    {
     "data": {
      "text/plain": [
       "numpy.ndarray"
      ]
     },
     "execution_count": 3,
     "metadata": {},
     "output_type": "execute_result"
    }
   ],
   "source": [
    "type(A)"
   ]
  },
  {
   "cell_type": "code",
   "execution_count": 4,
   "id": "0039b9c4-39bb-4e01-b6e7-2560c97cf367",
   "metadata": {
    "tags": []
   },
   "outputs": [
    {
     "data": {
      "text/plain": [
       "(2, 2)"
      ]
     },
     "execution_count": 4,
     "metadata": {},
     "output_type": "execute_result"
    }
   ],
   "source": [
    "A.shape"
   ]
  },
  {
   "cell_type": "code",
   "execution_count": 5,
   "id": "73a33a16-70ea-4987-ad38-3c3894479bd3",
   "metadata": {
    "tags": []
   },
   "outputs": [
    {
     "data": {
      "text/plain": [
       "array([[1., 1., 1.],\n",
       "       [1., 1., 1.]])"
      ]
     },
     "execution_count": 5,
     "metadata": {},
     "output_type": "execute_result"
    }
   ],
   "source": [
    "np.ones((2,3))"
   ]
  },
  {
   "cell_type": "code",
   "execution_count": 6,
   "id": "080d92e0-a2bf-4ea1-80ff-e7bbb39ef2ba",
   "metadata": {
    "tags": []
   },
   "outputs": [
    {
     "data": {
      "text/plain": [
       "array([[0., 0.],\n",
       "       [0., 0.],\n",
       "       [0., 0.]])"
      ]
     },
     "execution_count": 6,
     "metadata": {},
     "output_type": "execute_result"
    }
   ],
   "source": [
    "np.zeros((3,2))"
   ]
  },
  {
   "cell_type": "code",
   "execution_count": 7,
   "id": "b1876d5a-edc3-4da2-9b03-f37fdd0942a2",
   "metadata": {
    "tags": []
   },
   "outputs": [
    {
     "data": {
      "text/plain": [
       "array([[1., 0., 0., 0.],\n",
       "       [0., 1., 0., 0.],\n",
       "       [0., 0., 1., 0.],\n",
       "       [0., 0., 0., 1.]])"
      ]
     },
     "execution_count": 7,
     "metadata": {},
     "output_type": "execute_result"
    }
   ],
   "source": [
    "np.eye(4)"
   ]
  },
  {
   "cell_type": "code",
   "execution_count": 8,
   "id": "b16369ce-f3ec-47cc-8da0-b7f0b0cd3a1f",
   "metadata": {
    "tags": []
   },
   "outputs": [
    {
     "data": {
      "text/plain": [
       "array([[1, 0, 0, 0, 0],\n",
       "       [0, 2, 0, 0, 0],\n",
       "       [0, 0, 3, 0, 0],\n",
       "       [0, 0, 0, 4, 0],\n",
       "       [0, 0, 0, 0, 5]])"
      ]
     },
     "execution_count": 8,
     "metadata": {},
     "output_type": "execute_result"
    }
   ],
   "source": [
    "np.diag(np.arange(1,6))"
   ]
  },
  {
   "cell_type": "code",
   "execution_count": 9,
   "id": "ce58dc82-40d9-4375-abeb-a5a01e8680b3",
   "metadata": {
    "tags": []
   },
   "outputs": [
    {
     "data": {
      "text/plain": [
       "array([[0., 1., 1., 1., 1.],\n",
       "       [1., 0., 1., 1., 1.],\n",
       "       [1., 1., 0., 1., 1.],\n",
       "       [1., 1., 1., 0., 1.],\n",
       "       [1., 1., 1., 1., 0.]])"
      ]
     },
     "execution_count": 9,
     "metadata": {},
     "output_type": "execute_result"
    }
   ],
   "source": [
    "N = 5\n",
    "B = np.ones((N,N)) - np.eye(N)\n",
    "B"
   ]
  },
  {
   "cell_type": "code",
   "execution_count": 10,
   "id": "bb271b30-62a8-49e6-b956-55c3147f063f",
   "metadata": {
    "tags": []
   },
   "outputs": [
    {
     "data": {
      "text/plain": [
       "array([[4., 3., 3., 3., 3.],\n",
       "       [3., 4., 3., 3., 3.],\n",
       "       [3., 3., 4., 3., 3.],\n",
       "       [3., 3., 3., 4., 3.],\n",
       "       [3., 3., 3., 3., 4.]])"
      ]
     },
     "execution_count": 10,
     "metadata": {},
     "output_type": "execute_result"
    }
   ],
   "source": [
    "B @ B"
   ]
  },
  {
   "cell_type": "code",
   "execution_count": 11,
   "id": "2d6a81f0-46c0-4a53-a112-55e50fc582ed",
   "metadata": {
    "tags": []
   },
   "outputs": [
    {
     "data": {
      "text/plain": [
       "array([[0., 1., 1., 1., 1.],\n",
       "       [1., 0., 1., 1., 1.],\n",
       "       [1., 1., 0., 1., 1.],\n",
       "       [1., 1., 1., 0., 1.],\n",
       "       [1., 1., 1., 1., 0.]])"
      ]
     },
     "execution_count": 11,
     "metadata": {},
     "output_type": "execute_result"
    }
   ],
   "source": [
    "B * B"
   ]
  },
  {
   "cell_type": "code",
   "execution_count": 12,
   "id": "0730e9d5-fa6e-482f-bd36-785dbd126093",
   "metadata": {
    "tags": []
   },
   "outputs": [
    {
     "data": {
      "text/plain": [
       "array([[1.],\n",
       "       [1.],\n",
       "       [1.],\n",
       "       [1.],\n",
       "       [1.]])"
      ]
     },
     "execution_count": 12,
     "metadata": {},
     "output_type": "execute_result"
    }
   ],
   "source": [
    "v = np.ones((N,1))\n",
    "v"
   ]
  },
  {
   "cell_type": "code",
   "execution_count": 13,
   "id": "9c98e778-9a16-4923-b824-022bf212ef16",
   "metadata": {
    "tags": []
   },
   "outputs": [
    {
     "data": {
      "text/plain": [
       "array([[4.],\n",
       "       [4.],\n",
       "       [4.],\n",
       "       [4.],\n",
       "       [4.]])"
      ]
     },
     "execution_count": 13,
     "metadata": {},
     "output_type": "execute_result"
    }
   ],
   "source": [
    "B@v"
   ]
  },
  {
   "cell_type": "code",
   "execution_count": 14,
   "id": "4a5416af-e310-428f-a44d-8fd12ffa95bb",
   "metadata": {
    "tags": []
   },
   "outputs": [
    {
     "data": {
      "text/plain": [
       "array([[-3.,  4.],\n",
       "       [-4., -3.]])"
      ]
     },
     "execution_count": 14,
     "metadata": {},
     "output_type": "execute_result"
    }
   ],
   "source": [
    "A@A"
   ]
  },
  {
   "cell_type": "markdown",
   "id": "1cc42c03-845e-4718-a299-2b2e9f037600",
   "metadata": {},
   "source": [
    "## `scipy.linalg`\n",
    "\n",
    "The main linear algebra package in Python is `scipy.linalg`. There is also `numpy.linalg` but we'll mainly use `scipy.linalg`."
   ]
  },
  {
   "cell_type": "code",
   "execution_count": 15,
   "id": "87e85c63-f75c-40f5-82ea-f4855957683f",
   "metadata": {
    "tags": []
   },
   "outputs": [],
   "source": [
    "import scipy.linalg as la"
   ]
  },
  {
   "cell_type": "markdown",
   "id": "29f5b076-ff75-439f-bf2c-76d861a5395a",
   "metadata": {},
   "source": [
    "The function `la.solve` computes the solution of a linear system $A \\mathbf{x}= \\mathbf{b}$ where $A$ is a nonsingular matrix. (Recall *nonsingular* means that $A$ is invertible.)"
   ]
  },
  {
   "cell_type": "code",
   "execution_count": 16,
   "id": "606cb731-3761-4ea6-bd23-3057318ea9e0",
   "metadata": {},
   "outputs": [
    {
     "data": {
      "text/plain": [
       "array([[ 1., -2.],\n",
       "       [-2.,  1.]])"
      ]
     },
     "execution_count": 16,
     "metadata": {},
     "output_type": "execute_result"
    }
   ],
   "source": [
    "A = np.array([[1.,-2.],[-2.,1.]])\n",
    "A"
   ]
  },
  {
   "cell_type": "code",
   "execution_count": 17,
   "id": "2d802e20-1c58-434f-9f52-10f8622cb063",
   "metadata": {},
   "outputs": [
    {
     "data": {
      "text/plain": [
       "-3.0"
      ]
     },
     "execution_count": 17,
     "metadata": {},
     "output_type": "execute_result"
    }
   ],
   "source": [
    "la.det(A)"
   ]
  },
  {
   "cell_type": "code",
   "execution_count": 18,
   "id": "a941ab60-10c5-4e71-9b55-b9b9750683fd",
   "metadata": {},
   "outputs": [
    {
     "data": {
      "text/plain": [
       "array([2., 3.])"
      ]
     },
     "execution_count": 18,
     "metadata": {},
     "output_type": "execute_result"
    }
   ],
   "source": [
    "b = np.array([2.,3.])\n",
    "b"
   ]
  },
  {
   "cell_type": "code",
   "execution_count": 19,
   "id": "57b954b1-1ad4-4262-a457-5bffba3923e5",
   "metadata": {},
   "outputs": [
    {
     "data": {
      "text/plain": [
       "array([-2.66666667, -2.33333333])"
      ]
     },
     "execution_count": 19,
     "metadata": {},
     "output_type": "execute_result"
    }
   ],
   "source": [
    "x = la.solve(A,b)\n",
    "x"
   ]
  },
  {
   "cell_type": "code",
   "execution_count": 20,
   "id": "a6256c2e-0b0b-4a15-8290-93d96e377763",
   "metadata": {},
   "outputs": [
    {
     "data": {
      "text/plain": [
       "array([2., 3.])"
      ]
     },
     "execution_count": 20,
     "metadata": {},
     "output_type": "execute_result"
    }
   ],
   "source": [
    "A@x"
   ]
  },
  {
   "cell_type": "markdown",
   "id": "f36150e7-0092-4e9e-b37a-e231639229af",
   "metadata": {},
   "source": [
    "## Interpolation\n",
    "\n",
    "Consider $d+1$ data points $(x_0,y_0),\\dots,(x_d,y_d)$ such that $x_i \\ne x_j$ for $i \\ne j$. There is a unique polynomial $p(x)$ of degree (at most) $d$ such that $p(x_i)=y_i$.\n",
    "\n",
    "Let's find the unique $p(x) = a_0 + a_1x$ which interpolates $(0,2)$ and $(1,1)$."
   ]
  },
  {
   "cell_type": "code",
   "execution_count": 21,
   "id": "414df0f0-e5a5-45bf-be8d-af7e63c028fc",
   "metadata": {},
   "outputs": [
    {
     "data": {
      "text/plain": [
       "array([ 2., -1.])"
      ]
     },
     "execution_count": 21,
     "metadata": {},
     "output_type": "execute_result"
    }
   ],
   "source": [
    "x = [0,1]\n",
    "y = [2,1]\n",
    "X = [[1,x[0]],[1,x[1]]]\n",
    "a = la.solve(X,y)\n",
    "a"
   ]
  },
  {
   "cell_type": "markdown",
   "id": "19856c3d-093e-4f98-aa46-9aa5a4b614b9",
   "metadata": {},
   "source": [
    "Let's find the unique $p(x) = a_0 + a_1x + a_2x^2$ which interpolates $(-1,0)$, $(0,1)$ and $(1,0)$."
   ]
  },
  {
   "cell_type": "code",
   "execution_count": 22,
   "id": "3fc99dd8-19c0-4ea8-ad59-1f6882dd51a9",
   "metadata": {},
   "outputs": [
    {
     "data": {
      "text/plain": [
       "array([[ 1, -1,  1],\n",
       "       [ 1,  0,  0],\n",
       "       [ 1,  1,  1]])"
      ]
     },
     "execution_count": 22,
     "metadata": {},
     "output_type": "execute_result"
    }
   ],
   "source": [
    "np.vander([-1,0,1],increasing=True)"
   ]
  },
  {
   "cell_type": "code",
   "execution_count": 23,
   "id": "59c27c7e-3159-465f-8df3-a09622360117",
   "metadata": {},
   "outputs": [
    {
     "data": {
      "text/plain": [
       "array([ 1.,  0., -1.])"
      ]
     },
     "execution_count": 23,
     "metadata": {},
     "output_type": "execute_result"
    }
   ],
   "source": [
    "x = [-1,0,1]\n",
    "y = [0,1,0]\n",
    "# X = np.vander([-1,0,1],increasing=True)\n",
    "X = [[1,x[0],x[0]**2],[1,x[1],x[1]**2],[1,x[2],x[2]**2]]\n",
    "a = la.solve(X,y)\n",
    "a"
   ]
  },
  {
   "cell_type": "markdown",
   "id": "37152d19-b842-4e64-953e-182e230ac27c",
   "metadata": {},
   "source": [
    "$$\n",
    "p(x) = C(x + 1)(x - 1)\n",
    "$$"
   ]
  },
  {
   "cell_type": "code",
   "execution_count": 24,
   "id": "9589396c-65f9-4c4f-96c9-be97172c4c0c",
   "metadata": {},
   "outputs": [
    {
     "data": {
      "image/png": "[encoded data removed]",
      "text/plain": [
       "<Figure size 640x480 with 1 Axes>"
      ]
     },
     "metadata": {},
     "output_type": "display_data"
    }
   ],
   "source": [
    "xvals = np.linspace(-2,2,50)\n",
    "yvals = 1 - xvals**2\n",
    "plt.plot(xvals,yvals,x,y,'r.')\n",
    "plt.show()"
   ]
  },
  {
   "cell_type": "code",
   "execution_count": 25,
   "id": "36d1ec8e-0593-4223-8d3e-881a2d02da20",
   "metadata": {},
   "outputs": [
    {
     "data": {
      "text/plain": [
       "array([ 3.   , -0.4  ,  3.75 , -6.375,  2.25 , -0.225])"
      ]
     },
     "execution_count": 25,
     "metadata": {},
     "output_type": "execute_result"
    }
   ],
   "source": [
    "N = 5\n",
    "x = np.arange(0,N+1)\n",
    "y = np.random.randint(-9,10,len(x))\n",
    "X = np.vander(x,increasing=True)\n",
    "a = la.solve(X,y)\n",
    "a"
   ]
  },
  {
   "cell_type": "code",
   "execution_count": 26,
   "id": "c33b9af5-6127-46b2-ae69-e85d927dad7e",
   "metadata": {},
   "outputs": [
    {
     "data": {
      "image/png": "[encoded data removed]",
      "text/plain": [
       "<Figure size 640x480 with 1 Axes>"
      ]
     },
     "metadata": {},
     "output_type": "display_data"
    }
   ],
   "source": [
    "xvals = np.linspace(0,N,500)\n",
    "yvals = sum([a[n]*xvals**n for n in range(len(a))])\n",
    "plt.plot(xvals,yvals,'b',x,y,'r.')\n",
    "plt.show()"
   ]
  }
 ],
 "metadata": {
  "kernelspec": {
   "display_name": "Python 3 (ipykernel)",
   "language": "python",
   "name": "python3"
  },
  "language_info": {
   "codemirror_mode": {
    "name": "ipython",
    "version": 3
   },
   "file_extension": ".py",
   "mimetype": "text/x-python",
   "name": "python",
   "nbconvert_exporter": "python",
   "pygments_lexer": "ipython3",
   "version": "3.9.12"
  }
 },
 "nbformat": 4,
 "nbformat_minor": 5
}
