{
 "cells": [
  {
   "cell_type": "markdown",
   "id": "827f189a-2116-4690-afe3-b700e8f61961",
   "metadata": {},
   "source": [
    "# MATH 210 Introduction to Mathematical Computing\n",
    "\n",
    "## January 11, 2023\n",
    "\n",
    "* Jupyter\n",
    "* Markdown\n",
    "* LaTeX"
   ]
  },
  {
   "cell_type": "markdown",
   "id": "1c063998-44eb-409b-946c-514ae020bff4",
   "metadata": {},
   "source": [
    "## Jupyter\n",
    "\n",
    "Jupyter notebook is a web application for creating computational documents. Notebooks are comprised of cells which contain text, markdown, HTML, images, and Python code."
   ]
  },
  {
   "cell_type": "markdown",
   "id": "bf60be9f-4505-4cae-8291-c49c1169c9df",
   "metadata": {
    "tags": []
   },
   "source": [
    "### Modes\n",
    "\n",
    "There are 2 modes: *edit mode* and *command mode*. Write text and code in cells in edit mode and modify the cells in command mode. We can tell the difference between modes by the blue outline of the cell. If the cell is bordered in blue (with cursor inside) then we're in edit mode, and command mode otherwise. Switch between modes using `ESC` and `ENTER`."
   ]
  },
  {
   "cell_type": "markdown",
   "id": "24c7f8bb-f474-4d8e-aca9-1db3deec0a4b",
   "metadata": {},
   "source": [
    "### Cells\n",
    "\n",
    "There are 2 kinds of cells: *markdown cells* and *code cells*. Markdown cells are for markdown, text, HTML, etc. Code cells execute Python code. Swtich between cell types in command mode by entering `y` and `m`."
   ]
  },
  {
   "cell_type": "markdown",
   "id": "2f0baf2d-207e-4402-b676-dea893b299f9",
   "metadata": {},
   "source": [
    "### Keyboard Shortcuts\n",
    "\n",
    "There are many keyboard shortcuts to increase our productivity.\n",
    "\n",
    "| Shortcut | Key in command mode |\n",
    "| :---: | :---: |\n",
    "| insert cell below | `b` |\n",
    "| insert cell above | `a` |\n",
    "| cut cell | `x` |\n",
    "| copy cell | `c` |"
   ]
  },
  {
   "cell_type": "markdown",
   "id": "6ad9a588-1582-450a-8fb0-1383a22f8bb8",
   "metadata": {},
   "source": [
    "## Markdown\n",
    "\n",
    "Markdown is simple text-to-HTML mark-up language."
   ]
  },
  {
   "cell_type": "markdown",
   "id": "75be917e-b8a9-4667-ad8f-5fd941d1d1ff",
   "metadata": {},
   "source": [
    "### Text Formatting\n",
    "\n",
    "Use `* ... *` for *emphasis*, `** ... **` for **bold** and ``` ` ... ` ``` for code."
   ]
  },
  {
   "cell_type": "markdown",
   "id": "43196c6b-1627-4ae6-8e8d-736cb20846e1",
   "metadata": {},
   "source": [
    "### Headers\n",
    "\n",
    "Use `#`, `##`, `###`, etc. for headers."
   ]
  },
  {
   "cell_type": "markdown",
   "id": "6091e339-1ec0-41cc-a9e5-9e18be434d50",
   "metadata": {},
   "source": [
    "### Lists\n",
    "\n",
    "Use `*` for unordered lists and `1.`, `2.`, etc. for ordered lists.\n",
    "\n",
    "* MATH\n",
    "  1. MATH 220 Introduction to Proofs\n",
    "  2. MATH 253 Multivariable Calculus\n",
    "  3. MATH 320 Real Variables\n",
    "* STAT\n",
    "  1. STAT 305 Introduction to Statistical Inference\n",
    "  2. STAT 201 Statistical Inference for Data Science"
   ]
  },
  {
   "cell_type": "markdown",
   "id": "e150f5b0-c113-462c-9fa5-039f81dbeee8",
   "metadata": {},
   "source": [
    "### Tables\n",
    "\n",
    "| Arithmetic Operation | Python Syntax |\n",
    "| :---: | :---: |\n",
    "| Addition | `+` |\n",
    "| Subtraction | `-` |\n",
    "| Multiplication | `*` |\n",
    "| Division | `/` |\n",
    "| Power | `**` |"
   ]
  },
  {
   "cell_type": "markdown",
   "id": "8456646b-0039-43cc-8764-8842e1148f39",
   "metadata": {},
   "source": [
    "### Links and Images\n",
    "\n",
    "Use syntax `[text](url)` to inlucde links such as [Mathematical Python](https://patrickwalls.github.io).\n",
    "\n",
    "Use syntax `![text](url)` to include images such as\n",
    "\n",
    "![kitten](https://www.humanesociety.org/sites/default/files/styles/1441x612/public/2022-07/kitten-playing-575035.jpg?h=b1b36da8&itok=a0MQL3IM)"
   ]
  },
  {
   "cell_type": "markdown",
   "id": "57687b1a-637a-471a-a13d-bb6189082616",
   "metadata": {},
   "source": [
    "## LaTeX\n",
    "\n",
    "The **Fundamental Theorem of Calculus** states:\n",
    "\n",
    "$$\n",
    "\\int_a^b f(x) dx = F(b) - F(a)\n",
    "$$\n",
    "\n",
    "The **Taylor series** of $e^x$ is:\n",
    "\n",
    "$$\n",
    "e^x = \\sum_{n=0}^{\\infty} \\frac{x^n}{n!}\n",
    "$$"
   ]
  }
 ],
 "metadata": {
  "kernelspec": {
   "display_name": "Python 3 (ipykernel)",
   "language": "python",
   "name": "python3"
  },
  "language_info": {
   "codemirror_mode": {
    "name": "ipython",
    "version": 3
   },
   "file_extension": ".py",
   "mimetype": "text/x-python",
   "name": "python",
   "nbconvert_exporter": "python",
   "pygments_lexer": "ipython3",
   "version": "3.10.8"
  }
 },
 "nbformat": 4,
 "nbformat_minor": 5
}
