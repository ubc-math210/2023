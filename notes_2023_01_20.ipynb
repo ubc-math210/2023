{
 "cells": [
  {
   "cell_type": "markdown",
   "id": "92691338-d6bb-4743-bab5-64247d80d003",
   "metadata": {},
   "source": [
    "# MATH 210 Introduction to Mathematical Computing\n",
    "\n",
    "## January 20, 2023\n",
    "\n",
    "* List Comprehensions\n",
    "* Builtin Functions\n",
    "* Examples\n",
    "* Functions"
   ]
  },
  {
   "cell_type": "markdown",
   "id": "f41da721-ebca-41f1-8805-d8161ad5d7bb",
   "metadata": {},
   "source": [
    "## List Comprehensions\n",
    "\n",
    "A list comprehension is special Python syntax to create a list:\n",
    "```\n",
    "sequence = [expression for n in iterable]\n",
    "```\n",
    "where:\n",
    "* `n` is a variable name\n",
    "* `iterable` is a sequence such as `range(0,10)`\n",
    "* `expression` is a Python expression involving `n` such as `n**2`"
   ]
  },
  {
   "cell_type": "markdown",
   "id": "6073b925-1333-46a9-a6c9-a15d7679c825",
   "metadata": {},
   "source": [
    "For example, let's create the list of squares:"
   ]
  },
  {
   "cell_type": "code",
   "execution_count": 1,
   "id": "4804c7da-bdee-4264-8143-4f8f14356fae",
   "metadata": {},
   "outputs": [
    {
     "data": {
      "text/plain": [
       "[1, 4, 9, 16, 25, 36, 49, 64, 81]"
      ]
     },
     "execution_count": 1,
     "metadata": {},
     "output_type": "execute_result"
    }
   ],
   "source": [
    "squares = [n**2 for n in range(1,10)]\n",
    "squares"
   ]
  },
  {
   "cell_type": "code",
   "execution_count": 2,
   "id": "45909159-8541-498f-bec1-ba30efe2b03a",
   "metadata": {},
   "outputs": [
    {
     "data": {
      "text/plain": [
       "[1, 2, 4, 8, 16, 32, 64, 128, 256, 512]"
      ]
     },
     "execution_count": 2,
     "metadata": {},
     "output_type": "execute_result"
    }
   ],
   "source": [
    "r = 2\n",
    "geometric = [r**n for n in range(0,10)]\n",
    "geometric"
   ]
  },
  {
   "cell_type": "code",
   "execution_count": 3,
   "id": "297f2a8f-7aaa-4630-b82f-1cef3e685500",
   "metadata": {},
   "outputs": [
    {
     "data": {
      "text/plain": [
       "[1.0, 0.5, 0.3333333333333333, 0.25, 0.2]"
      ]
     },
     "execution_count": 3,
     "metadata": {},
     "output_type": "execute_result"
    }
   ],
   "source": [
    "harmonic = [1/n for n in [1,2,3,4,5]]\n",
    "harmonic"
   ]
  },
  {
   "cell_type": "markdown",
   "id": "cdf9d1cf-a9af-430b-86e1-62e281b91c29",
   "metadata": {},
   "source": [
    "## Builtin Functions\n",
    "\n",
    "Python has several builtin functions. Some builtin functions for sequences are:\n",
    "\n",
    "* `sum` takes the sum of a sequence\n",
    "* `max` finds the maximum value in a sequence\n",
    "* `min` finds the minimum value in a sequence\n",
    "* `len` computes the length of a sequence\n",
    "\n",
    "Other useful functions are:\n",
    "\n",
    "* `print` to print a value to output\n",
    "* `type` to determine the datatype of a value\n",
    "* `int` converts a value to an integer (if possible)\n",
    "* `float` converts a value to a flotaing point number (if possible)\n",
    "* `list` converts a value to a list (if possible)"
   ]
  },
  {
   "cell_type": "markdown",
   "id": "a5efec58-dbba-455f-acbe-7143ee4fb983",
   "metadata": {},
   "source": [
    "## Examples"
   ]
  },
  {
   "cell_type": "markdown",
   "id": "614eac16-b831-4ce4-92ba-d4449e335979",
   "metadata": {},
   "source": [
    "### Average Value\n",
    "\n",
    "Use `sum` and `len` to compute the average value of a list of numbers:"
   ]
  },
  {
   "cell_type": "code",
   "execution_count": 4,
   "id": "0ebcd47b-df53-4c57-8ba6-584b19a868cf",
   "metadata": {},
   "outputs": [
    {
     "name": "stdout",
     "output_type": "stream",
     "text": [
      "3.8333333333333335\n"
     ]
    }
   ],
   "source": [
    "sequence = [3,1,4,1,5,9]\n",
    "average = sum(sequence)/len(sequence)\n",
    "print(average)"
   ]
  },
  {
   "cell_type": "markdown",
   "id": "0ce00053-6b88-443c-8a9e-0b3287591ce2",
   "metadata": {},
   "source": [
    "### Max/Min Values\n",
    "\n",
    "Use `min` to approximate the maximum value of the function\n",
    "$$\n",
    "f(x) = \\frac{1-x+x^4}{1+2x^3}\n",
    "$$\n",
    "over the interval $[0,2]$.\n",
    "\n",
    "1. Construct a sequence of $x$ values from 0 to 2.\n",
    "2. Compute the y values at these x values.\n",
    "3. Find the minimum y value.\n",
    "\n",
    "The general formula for a sequence of $N+1$ equally spaced points form $a$ to $b$ is:\n",
    "$$\n",
    "x_k = a + k \\Delta x \\ , \\ \\ k=0,1,\\dots,N \\ , \\ \\ \\Delta x = \\frac{b - a}{N}\n",
    "$$"
   ]
  },
  {
   "cell_type": "code",
   "execution_count": 5,
   "id": "8bb83cf4-c92f-4167-90e8-e7b70038d3d6",
   "metadata": {},
   "outputs": [
    {
     "data": {
      "text/plain": [
       "0.3006186986859026"
      ]
     },
     "execution_count": 5,
     "metadata": {},
     "output_type": "execute_result"
    }
   ],
   "source": [
    "a = 0; b = 2; N = 100;\n",
    "dx = (b - a)/N\n",
    "x = [a + k*dx for k in range(0,N+1)]\n",
    "y = [(1 - x[k] + x[k]**4)/(1 + 2*x[k]**3) for k in range(0,len(x))]\n",
    "min(y)"
   ]
  },
  {
   "cell_type": "markdown",
   "id": "18f91ffe-b214-422a-9676-584c69f92d42",
   "metadata": {},
   "source": [
    "Or create a list comprehension using the list of $x$ values itself as the iterable:"
   ]
  },
  {
   "cell_type": "code",
   "execution_count": 6,
   "id": "2648d8ca-8ee7-4592-980a-0ca6eef2c1d0",
   "metadata": {},
   "outputs": [
    {
     "data": {
      "text/plain": [
       "0.3006186986859026"
      ]
     },
     "execution_count": 6,
     "metadata": {},
     "output_type": "execute_result"
    }
   ],
   "source": [
    "a = 0; b = 2; N = 100;\n",
    "dx = (b - a)/N\n",
    "xs = [a + k*dx for k in range(0,N+1)]\n",
    "ys = [(1 - x + x**4)/(1 + 2*x**3) for x in xs]\n",
    "min(ys)"
   ]
  },
  {
   "cell_type": "markdown",
   "id": "111e1464-9cd2-46f6-b0b7-056e30e0d315",
   "metadata": {},
   "source": [
    "### Taylor Series\n",
    "\n",
    "Compute the partial Taylor series\n",
    "$$\n",
    "\\arctan(x) \\approx \\sum_{k=0}^{N} \\frac{(-1)^k x^{2k+1}}{2k+1}\n",
    "$$\n",
    "for $x = 1/\\sqrt{3}$ and $N=100$."
   ]
  },
  {
   "cell_type": "code",
   "execution_count": 7,
   "id": "9554abf7-b09d-4d5a-be5c-bdcab74a5a2f",
   "metadata": {},
   "outputs": [
    {
     "data": {
      "text/plain": [
       "0.5235987755982989"
      ]
     },
     "execution_count": 7,
     "metadata": {},
     "output_type": "execute_result"
    }
   ],
   "source": [
    "x = 1/3**0.5\n",
    "N = 1000\n",
    "terms = [(-1)**k*x**(2*k + 1)/(2*k + 1) for k in range(0,N+1)]\n",
    "sum(terms)"
   ]
  },
  {
   "cell_type": "markdown",
   "id": "573e5ba4-a532-4c53-8386-418d81083206",
   "metadata": {},
   "source": [
    "The exact value is $\\arctan \\left( 1/\\sqrt{3} \\right) = \\pi/6$:"
   ]
  },
  {
   "cell_type": "code",
   "execution_count": 8,
   "id": "dc51d728-7819-43bb-ac05-09cf83e4d4e5",
   "metadata": {},
   "outputs": [
    {
     "data": {
      "text/plain": [
       "0.5235983333333333"
      ]
     },
     "execution_count": 8,
     "metadata": {},
     "output_type": "execute_result"
    }
   ],
   "source": [
    "3.14159/6"
   ]
  },
  {
   "cell_type": "markdown",
   "id": "2c6cabd5-b2e3-4bfe-962f-7f3c007cd3af",
   "metadata": {},
   "source": [
    "## Functions\n",
    "\n",
    "The syntax to create a Python function is:\n",
    "```\n",
    "def fun(x,y):\n",
    "    # Python code\n",
    "    # Compute a value\n",
    "    return value\n",
    "```"
   ]
  },
  {
   "cell_type": "code",
   "execution_count": 9,
   "id": "74b3ae60-d793-444e-a0b0-e2cec157a20c",
   "metadata": {},
   "outputs": [
    {
     "data": {
      "text/plain": [
       "4"
      ]
     },
     "execution_count": 9,
     "metadata": {},
     "output_type": "execute_result"
    }
   ],
   "source": [
    "def f(x):\n",
    "    return x**2\n",
    "\n",
    "f(2)"
   ]
  },
  {
   "cell_type": "code",
   "execution_count": 10,
   "id": "50902246-4ee9-4904-9b1e-ee434dd4b5b3",
   "metadata": {},
   "outputs": [
    {
     "data": {
      "text/plain": [
       "2.875"
      ]
     },
     "execution_count": 10,
     "metadata": {},
     "output_type": "execute_result"
    }
   ],
   "source": [
    "def average(x):\n",
    "    value = sum(x)/len(x)\n",
    "    return value\n",
    "\n",
    "average([1,3,4,3,2,1,4,5])"
   ]
  }
 ],
 "metadata": {
  "kernelspec": {
   "display_name": "Python 3 (ipykernel)",
   "language": "python",
   "name": "python3"
  },
  "language_info": {
   "codemirror_mode": {
    "name": "ipython",
    "version": 3
   },
   "file_extension": ".py",
   "mimetype": "text/x-python",
   "name": "python",
   "nbconvert_exporter": "python",
   "pygments_lexer": "ipython3",
   "version": "3.10.8"
  }
 },
 "nbformat": 4,
 "nbformat_minor": 5
}
