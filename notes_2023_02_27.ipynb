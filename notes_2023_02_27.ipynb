{
 "cells": [
  {
   "cell_type": "markdown",
   "id": "e1646d49-2bdc-4c64-a914-d4f7d291cfa3",
   "metadata": {},
   "source": [
    "# MATH 210 Introduction to Mathematical Computing\n",
    "\n",
    "## February 27, 2023\n",
    "\n",
    "* Riemann sums"
   ]
  },
  {
   "cell_type": "code",
   "execution_count": 1,
   "id": "c5256c37-501b-475a-ab26-93031946a784",
   "metadata": {},
   "outputs": [],
   "source": [
    "import numpy as np\n",
    "import matplotlib.pyplot as plt"
   ]
  },
  {
   "cell_type": "markdown",
   "id": "103add9a-b1ec-4ccb-8d0f-e7df8c906316",
   "metadata": {},
   "source": [
    "## Riemann Sums\n",
    "\n",
    "Write a function called `riemann` which takes `f`, `a`, `b`, `N` and `method` (values `right` (default), `left` or `midpoint`) and returns the Riemann sum using $N+1$ equally spaced points from $a$ to $b$."
   ]
  },
  {
   "cell_type": "code",
   "execution_count": 2,
   "id": "637d8375-10c2-4f02-97f9-890fa2998002",
   "metadata": {},
   "outputs": [],
   "source": [
    "method = \"right\""
   ]
  },
  {
   "cell_type": "code",
   "execution_count": 3,
   "id": "e2f2a7e5-e711-4e10-9a08-a0d4a9fff123",
   "metadata": {},
   "outputs": [
    {
     "data": {
      "text/plain": [
       "str"
      ]
     },
     "execution_count": 3,
     "metadata": {},
     "output_type": "execute_result"
    }
   ],
   "source": [
    "type(method)"
   ]
  },
  {
   "cell_type": "code",
   "execution_count": 8,
   "id": "c1ab26cd-3fcc-41bf-a072-873014ddeec7",
   "metadata": {},
   "outputs": [
    {
     "name": "stdout",
     "output_type": "stream",
     "text": [
      "[0.   0.25 0.5  0.75 1.  ]\n",
      "[0.0625 0.25   0.5625 1.    ]\n"
     ]
    }
   ],
   "source": [
    "x = np.linspace(0,1,5)\n",
    "print(x)\n",
    "y = x**2\n",
    "print(y[1:])"
   ]
  },
  {
   "cell_type": "code",
   "execution_count": 9,
   "id": "84714da7-8392-45d5-be08-dfcf424e0189",
   "metadata": {},
   "outputs": [],
   "source": [
    "def riemann(f,a,b,N,method=\"right\"):\n",
    "    x = np.linspace(a,b,N+1)\n",
    "    y = f(x)\n",
    "    dx = (b - a)/N\n",
    "    if method == \"right\":\n",
    "        I = np.sum(y[1:])*dx\n",
    "    elif method == \"left\":\n",
    "        I = np.sum(y[:-1])*dx\n",
    "    elif method == \"midpoint\":\n",
    "        xm = (x[1:] + x[:-1])/2\n",
    "        ym = f(xm)\n",
    "        I = np.sum(ym)*dx\n",
    "    return I"
   ]
  },
  {
   "cell_type": "code",
   "execution_count": 10,
   "id": "dfa052f4-8f34-4497-b827-12ce02a0040c",
   "metadata": {},
   "outputs": [
    {
     "name": "stdout",
     "output_type": "stream",
     "text": [
      "0.33383349999999995\n"
     ]
    }
   ],
   "source": [
    "f = lambda x: x**2\n",
    "a = 0; b = 1; N = 1000;\n",
    "I = riemann(f,a,b,N)\n",
    "print(I) # Should be close to 1/3"
   ]
  },
  {
   "cell_type": "code",
   "execution_count": 12,
   "id": "9838b0b2-df14-4e31-85a3-e08a9a13d061",
   "metadata": {},
   "outputs": [
    {
     "name": "stdout",
     "output_type": "stream",
     "text": [
      "0.3328335\n"
     ]
    }
   ],
   "source": [
    "f = lambda x: x**2\n",
    "a = 0; b = 1; N = 1000;\n",
    "I = riemann(f,a,b,N,method=\"left\")\n",
    "print(I) # Should be c"
   ]
  },
  {
   "cell_type": "code",
   "execution_count": 13,
   "id": "d1e62aa9-fe4b-4ce4-bac0-01a78b54bd33",
   "metadata": {},
   "outputs": [
    {
     "name": "stdout",
     "output_type": "stream",
     "text": [
      "2.0000008224672703\n"
     ]
    }
   ],
   "source": [
    "f = lambda x: np.sin(x)\n",
    "a = 0; b = np.pi; N = 1000;\n",
    "I = riemann(f,a,b,N,method=\"midpoint\")\n",
    "print(I) # Should be close to 2 since F(x) = -cos(x), F(pi) = 1, F(0)=-1"
   ]
  },
  {
   "cell_type": "code",
   "execution_count": 15,
   "id": "b2cfc130-9377-4603-bd75-2ffe71fefaef",
   "metadata": {},
   "outputs": [
    {
     "data": {
      "image/png": "[encoded data removed]",
      "text/plain": [
       "<Figure size 640x480 with 1 Axes>"
      ]
     },
     "metadata": {},
     "output_type": "display_data"
    }
   ],
   "source": [
    "x = np.linspace(0,1,50)\n",
    "y = x**x\n",
    "plt.plot(x,y), plt.ylim([0,1])\n",
    "plt.show()"
   ]
  },
  {
   "cell_type": "code",
   "execution_count": 16,
   "id": "b11bb456-962d-4308-a846-f021c7e358c7",
   "metadata": {},
   "outputs": [
    {
     "name": "stdout",
     "output_type": "stream",
     "text": [
      "0.7834313348691371\n"
     ]
    }
   ],
   "source": [
    "f = lambda x: x**x\n",
    "a = 0; b = 1; N = 1000;\n",
    "I = riemann(f,a,b,N)\n",
    "print(I)"
   ]
  }
 ],
 "metadata": {
  "kernelspec": {
   "display_name": "Python 3 (ipykernel)",
   "language": "python",
   "name": "python3"
  },
  "language_info": {
   "codemirror_mode": {
    "name": "ipython",
    "version": 3
   },
   "file_extension": ".py",
   "mimetype": "text/x-python",
   "name": "python",
   "nbconvert_exporter": "python",
   "pygments_lexer": "ipython3",
   "version": "3.10.8"
  }
 },
 "nbformat": 4,
 "nbformat_minor": 5
}
