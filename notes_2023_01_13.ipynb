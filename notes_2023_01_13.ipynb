{
 "cells": [
  {
   "cell_type": "markdown",
   "id": "0e70f358-b671-46b3-b2f7-7e623e5b6f37",
   "metadata": {},
   "source": [
    "# MATH 210 Introduction to Mathematical Computing\n",
    "\n",
    "## January 13, 2023\n",
    "\n",
    "* LaTeX\n",
    "* Examples\n",
    "* Numbers in Python"
   ]
  },
  {
   "cell_type": "markdown",
   "id": "0ae4e642-7738-4f81-b307-d14727702d61",
   "metadata": {},
   "source": [
    "## LaTeX\n",
    "\n",
    "Write LaTeX code inline using `$ ... $` and in display mode using `$$ ... $$`. The best place to learn about LaTeX is the [LaTeX Wikibook](https://en.wikibooks.org/wiki/LaTeX/Mathematics). Find any symbol using the [Detexify app](http://detexify.kirelabs.org/classify.html)."
   ]
  },
  {
   "cell_type": "markdown",
   "id": "47dbc541-62f8-4645-8248-5eac13af67ac",
   "metadata": {},
   "source": [
    "### Superscripts and Subscripts\n",
    "\n",
    "Use `^` for superscript as in $x^2 + x + 1$. Use `_` for subscripts as in $x_0,x_1,\\dots,x_n$."
   ]
  },
  {
   "cell_type": "markdown",
   "id": "a3b50b8a-65a4-4ed8-9019-4fb68c44b2ec",
   "metadata": {},
   "source": [
    "### Greek Letters and Math Symbols\n",
    "\n",
    "Use a slash and the letter name (lowercase) to create greek letters:\n",
    "\n",
    "$$\n",
    "\\alpha , \\beta , \\gamma , \\delta , \\epsilon , \\pi , \\dots\n",
    "$$\n",
    "\n",
    "Use slash and uppercase letter name for uppercase:\n",
    "\n",
    "$$\n",
    "\\Gamma , \\Delta , \\Theta , \\dots\n",
    "$$\n",
    "\n",
    "Common math symbols are infinity $\\infty$, union $\\cup$, real numbers $\\mathbb{R}$, square root $\\sqrt{x}$, dots $\\dots$"
   ]
  },
  {
   "cell_type": "markdown",
   "id": "8ec9f363-89b3-4c4f-a549-1800e078b7f5",
   "metadata": {},
   "source": [
    "### Integrals and Sums\n",
    "\n",
    "Use `\\int_a^b` for integrals and `\\sum_{n=0}^{N}` for sums. For example:\n",
    "\n",
    "$$\n",
    "\\int_a^b f(x) dx = F(b) - F(a)\n",
    "$$\n",
    "\n",
    "and\n",
    "\n",
    "$$\n",
    "\\sum_{n=0}^{\\infty} x^n\n",
    "$$"
   ]
  },
  {
   "cell_type": "markdown",
   "id": "7e53aa4f-1396-4ea7-bc2e-50d6cdc532d9",
   "metadata": {},
   "source": [
    "### Matrices\n",
    "\n",
    "Create a matrix with square brackets use `\\begin{bmatrix} ... \\end{bmatrix}`. For example:\n",
    "\n",
    "$$\n",
    "A = \\begin{bmatrix} a & b \\\\ c & d \\end{bmatrix} \n",
    "$$"
   ]
  },
  {
   "cell_type": "markdown",
   "id": "125b580d-c259-4c0e-a2c9-0ee9377881f0",
   "metadata": {},
   "source": [
    "## Examples\n",
    "\n",
    "### Quadratic Formula\n",
    "\n",
    "The roots of the polynomial $ax^2 + bx + c$ are given by the quadratic formula\n",
    "\n",
    "$$\n",
    "\\frac{-b \\pm \\sqrt{b^2 - 4ac}}{2a}\n",
    "$$"
   ]
  },
  {
   "cell_type": "markdown",
   "id": "bfc409fd-90f1-40e6-ba28-c1d54eb29768",
   "metadata": {},
   "source": [
    "### Taylor Series for $\\sin(x)$\n",
    "\n",
    "The Taylor series for $\\sin(x)$ is\n",
    "\n",
    "$$\n",
    "\\sin(x) = \\sum_{n=0}^{\\infty} \\frac{(-1)^n x^{2n+1}}{(2n + 1)!}\n",
    "$$"
   ]
  },
  {
   "cell_type": "markdown",
   "id": "d333444f-0adc-4db1-b507-610615bd3fbc",
   "metadata": {},
   "source": [
    "### Weird Integral\n",
    "\n",
    "The book [Tables of Integrals, Series, and Products](http://fisica.ciens.ucv.ve/~svincenz/TISPISGIMR.pdf) has over 1000 pages of cool formulas. The following is on page 253:\n",
    "\n",
    "$$\n",
    "\\int_{-\\infty}^{\\infty} \\frac{p + qx}{r^2 +2rx \\cos \\lambda + x^2} dx = \\frac{\\pi}{r \\sin \\lambda} (p - qr \\cos \\lambda)\n",
    "$$"
   ]
  },
  {
   "cell_type": "markdown",
   "id": "2dd062e5-d2b3-49bf-942c-628d4b354037",
   "metadata": {},
   "source": [
    "## Gaussian Elimination\n",
    "\n",
    "$$\n",
    "\\left[ \\begin{array}{rr|r}\n",
    "1 & 1 & 1 \\\\\n",
    "2 & 1 & -4\n",
    "\\end{array} \\right]\n",
    "\\stackrel{-2R_1 + R_2}{\\longrightarrow}\n",
    "\\left[ \\begin{array}{rr|r}\n",
    "1 & 1 & 1 \\\\\n",
    "0 & -1 & -6\n",
    "\\end{array} \\right]\n",
    "$$"
   ]
  },
  {
   "cell_type": "markdown",
   "id": "b229a508-5ff6-41f5-a2ea-10bdcf29b1b2",
   "metadata": {},
   "source": [
    "## Numbers in Python\n",
    "\n",
    "There are 3 main numeric types in Python: integers, floating point numbers and complex numbers. Use the function `type` to determine the type of a value."
   ]
  },
  {
   "cell_type": "code",
   "execution_count": 1,
   "id": "536d5438-43ec-4a47-a08a-3c61b849872b",
   "metadata": {},
   "outputs": [
    {
     "data": {
      "text/plain": [
       "int"
      ]
     },
     "execution_count": 1,
     "metadata": {},
     "output_type": "execute_result"
    }
   ],
   "source": [
    "type(1)"
   ]
  },
  {
   "cell_type": "code",
   "execution_count": 2,
   "id": "f363d549-e5f3-495a-a0d7-4b0dd9978fe6",
   "metadata": {},
   "outputs": [
    {
     "data": {
      "text/plain": [
       "float"
      ]
     },
     "execution_count": 2,
     "metadata": {},
     "output_type": "execute_result"
    }
   ],
   "source": [
    "type(3.14159)"
   ]
  },
  {
   "cell_type": "code",
   "execution_count": 3,
   "id": "90671cfd-0a1e-4db5-9c73-b36fbe04a114",
   "metadata": {},
   "outputs": [
    {
     "data": {
      "text/plain": [
       "complex"
      ]
     },
     "execution_count": 3,
     "metadata": {},
     "output_type": "execute_result"
    }
   ],
   "source": [
    "type(1 + 2j)"
   ]
  },
  {
   "cell_type": "markdown",
   "id": "9be10c12-dbcb-4dd0-b809-4f6ef1a3ea06",
   "metadata": {},
   "source": [
    "We have the usual operations: addition `+`, subtraction `-`, multiplication `*`, division `/` and power `**`."
   ]
  },
  {
   "cell_type": "code",
   "execution_count": 4,
   "id": "1aa2e770-16c1-43a6-99a9-627b6613fea4",
   "metadata": {},
   "outputs": [
    {
     "data": {
      "text/plain": [
       "3"
      ]
     },
     "execution_count": 4,
     "metadata": {},
     "output_type": "execute_result"
    }
   ],
   "source": [
    "1 + 2"
   ]
  },
  {
   "cell_type": "code",
   "execution_count": 5,
   "id": "17a184cd-f250-4aaf-af5a-149aa6ad53cd",
   "metadata": {},
   "outputs": [
    {
     "data": {
      "text/plain": [
       "120"
      ]
     },
     "execution_count": 5,
     "metadata": {},
     "output_type": "execute_result"
    }
   ],
   "source": [
    "1*2*3*4*5"
   ]
  },
  {
   "cell_type": "code",
   "execution_count": 6,
   "id": "fd9c9cde-6963-4970-b08a-cebadb9502cb",
   "metadata": {},
   "outputs": [
    {
     "data": {
      "text/plain": [
       "5.0"
      ]
     },
     "execution_count": 6,
     "metadata": {},
     "output_type": "execute_result"
    }
   ],
   "source": [
    "10/2"
   ]
  },
  {
   "cell_type": "code",
   "execution_count": 7,
   "id": "853ebac0-5636-4ce4-9ffa-34daf5eb91fd",
   "metadata": {},
   "outputs": [
    {
     "data": {
      "text/plain": [
       "8"
      ]
     },
     "execution_count": 7,
     "metadata": {},
     "output_type": "execute_result"
    }
   ],
   "source": [
    "2**3"
   ]
  },
  {
   "cell_type": "code",
   "execution_count": 8,
   "id": "75509c85-1ad0-4524-8301-e45caf252757",
   "metadata": {},
   "outputs": [
    {
     "data": {
      "text/plain": [
       "1.4142135623730951"
      ]
     },
     "execution_count": 8,
     "metadata": {},
     "output_type": "execute_result"
    }
   ],
   "source": [
    "2**0.5"
   ]
  },
  {
   "cell_type": "code",
   "execution_count": 9,
   "id": "92c81590-d2c8-44b8-9415-d03c195f3af1",
   "metadata": {},
   "outputs": [
    {
     "data": {
      "text/plain": [
       "0.30000000000000004"
      ]
     },
     "execution_count": 9,
     "metadata": {},
     "output_type": "execute_result"
    }
   ],
   "source": [
    "0.1 + 0.2"
   ]
  }
 ],
 "metadata": {
  "kernelspec": {
   "display_name": "Python 3 (ipykernel)",
   "language": "python",
   "name": "python3"
  },
  "language_info": {
   "codemirror_mode": {
    "name": "ipython",
    "version": 3
   },
   "file_extension": ".py",
   "mimetype": "text/x-python",
   "name": "python",
   "nbconvert_exporter": "python",
   "pygments_lexer": "ipython3",
   "version": "3.10.8"
  }
 },
 "nbformat": 4,
 "nbformat_minor": 5
}
