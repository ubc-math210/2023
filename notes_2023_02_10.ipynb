{
 "cells": [
  {
   "cell_type": "markdown",
   "id": "66093674-0e50-4165-8c4c-29c8a9210347",
   "metadata": {},
   "source": [
    "# MATH 210 Introduction to Mathematical Computing\n",
    "\n",
    "## February 10, 2023\n",
    "\n",
    "* Secant Method\n",
    "* Fixed Point Iteration"
   ]
  },
  {
   "cell_type": "markdown",
   "id": "e46f7bb5-aeb4-47fc-a109-e7d77a060be2",
   "metadata": {},
   "source": [
    "## Secant Method"
   ]
  },
  {
   "cell_type": "code",
   "execution_count": 1,
   "id": "844d9a2f-5332-4b5e-b8d3-bc4078f6e15e",
   "metadata": {},
   "outputs": [],
   "source": [
    "def secant(f,a,b,N):\n",
    "    if f(a)*f(b) >= 0:\n",
    "        print(\"Secant method fails.\")\n",
    "        return None\n",
    "    an = a\n",
    "    bn = b\n",
    "    for n in range(1,N+1):\n",
    "        mn = an - (bn - an)/(f(bn) - f(an))*f(an)\n",
    "        fmn = f(mn)\n",
    "        if f(an)*fmn < 0:\n",
    "            bn = mn\n",
    "        elif f(bn)*fmn < 0:\n",
    "            an = mn\n",
    "        elif fmn == 0:\n",
    "            print(\"Found exact solution.\")\n",
    "            return mn\n",
    "    return an - (bn - an)/(f(bn) - f(an))*f(an)\n",
    "\n",
    "def bisection(f,a,b,N):\n",
    "    if f(a)*f(b) >= 0:\n",
    "        print(\"Bisection method fails.\")\n",
    "        return None\n",
    "    an = a\n",
    "    bn = b\n",
    "    for n in range(1,N+1):\n",
    "        mn = (an + bn)/2\n",
    "        fmn = f(mn)\n",
    "        if f(an)*fmn < 0:\n",
    "            bn = mn\n",
    "        elif f(bn)*fmn < 0:\n",
    "            an = mn\n",
    "        elif fmn == 0:\n",
    "            print(\"Found exact solution.\")\n",
    "            return mn\n",
    "    return (an + bn)/2"
   ]
  },
  {
   "cell_type": "code",
   "execution_count": 2,
   "id": "6afaa335-3b2d-4e14-838f-875dbfa12828",
   "metadata": {},
   "outputs": [
    {
     "data": {
      "text/plain": [
       "1.4142135516460548"
      ]
     },
     "execution_count": 2,
     "metadata": {},
     "output_type": "execute_result"
    }
   ],
   "source": [
    "secant(lambda x: x**2 - 2,0,2,10)"
   ]
  },
  {
   "cell_type": "code",
   "execution_count": 3,
   "id": "613dbafe-5691-4898-b9b4-a2adea892228",
   "metadata": {},
   "outputs": [
    {
     "data": {
      "text/plain": [
       "2.1281280829429265"
      ]
     },
     "execution_count": 3,
     "metadata": {},
     "output_type": "execute_result"
    }
   ],
   "source": [
    "secant(lambda x: x**x - 5,2,3,10)"
   ]
  },
  {
   "cell_type": "code",
   "execution_count": 7,
   "id": "db0eacf4-ae9d-4620-85ae-55daf3d78e2e",
   "metadata": {},
   "outputs": [
    {
     "data": {
      "text/plain": [
       "2.129274839851649"
      ]
     },
     "execution_count": 7,
     "metadata": {},
     "output_type": "execute_result"
    }
   ],
   "source": [
    "secant(lambda x: x**x - 5,2,6,10000)"
   ]
  },
  {
   "cell_type": "code",
   "execution_count": 9,
   "id": "5efbdfc9-4bd8-4339-a96a-5698d5d8e292",
   "metadata": {},
   "outputs": [
    {
     "data": {
      "text/plain": [
       "2.129373550415039"
      ]
     },
     "execution_count": 9,
     "metadata": {},
     "output_type": "execute_result"
    }
   ],
   "source": [
    "bisection(lambda x: x**x - 5,2,6,20)"
   ]
  },
  {
   "cell_type": "markdown",
   "id": "89c81ef6-ea9c-4ff2-bf3c-b4ecce90abae",
   "metadata": {},
   "source": [
    "## Fixed Point Iteration"
   ]
  },
  {
   "cell_type": "code",
   "execution_count": 10,
   "id": "69bb8484-525e-44df-86ad-f82603d79fa4",
   "metadata": {},
   "outputs": [],
   "source": [
    "def fixed(f,x0,N):\n",
    "    xn = x0\n",
    "    for n in range(1,N+1):\n",
    "        xn = f(xn)\n",
    "    return xn"
   ]
  },
  {
   "cell_type": "code",
   "execution_count": 11,
   "id": "5f3e318b-71f9-427f-bc5f-128a962c8d22",
   "metadata": {},
   "outputs": [
    {
     "data": {
      "text/plain": [
       "0.6853735927163312"
      ]
     },
     "execution_count": 11,
     "metadata": {},
     "output_type": "execute_result"
    }
   ],
   "source": [
    "fixed(lambda x: 1/(x**2 + 1),1,10)"
   ]
  },
  {
   "cell_type": "code",
   "execution_count": 13,
   "id": "779b456b-3446-478a-a255-b07c288ef06e",
   "metadata": {},
   "outputs": [
    {
     "data": {
      "text/plain": [
       "0.68212890625"
      ]
     },
     "execution_count": 13,
     "metadata": {},
     "output_type": "execute_result"
    }
   ],
   "source": [
    "bisection(lambda x: x - 1/(x**2 + 1),0,1,10)"
   ]
  },
  {
   "cell_type": "code",
   "execution_count": 14,
   "id": "288a3b1f-af9e-417b-a97f-b2b95433eef4",
   "metadata": {},
   "outputs": [
    {
     "data": {
      "text/plain": [
       "0.6823278038280194"
      ]
     },
     "execution_count": 14,
     "metadata": {},
     "output_type": "execute_result"
    }
   ],
   "source": [
    "secant(lambda x: x - 1/(x**2 + 1),0,1,10)"
   ]
  }
 ],
 "metadata": {
  "kernelspec": {
   "display_name": "Python 3 (ipykernel)",
   "language": "python",
   "name": "python3"
  },
  "language_info": {
   "codemirror_mode": {
    "name": "ipython",
    "version": 3
   },
   "file_extension": ".py",
   "mimetype": "text/x-python",
   "name": "python",
   "nbconvert_exporter": "python",
   "pygments_lexer": "ipython3",
   "version": "3.10.8"
  }
 },
 "nbformat": 4,
 "nbformat_minor": 5
}
