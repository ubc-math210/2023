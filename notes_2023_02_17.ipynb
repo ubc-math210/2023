{
 "cells": [
  {
   "cell_type": "markdown",
   "id": "15e2f07c-3c09-49fb-b214-9d9ff95be719",
   "metadata": {},
   "source": [
    "# MATH 210 Introduction to Mathematical Computing\n",
    "\n",
    "## February 17, 2023\n",
    "\n",
    "* NumPy Arrays\n",
    "* Arrys Operations and Functions\n",
    "* Examples\n",
    "* Plotting"
   ]
  },
  {
   "cell_type": "code",
   "execution_count": 1,
   "id": "b35d6e4b-67f1-4b02-9081-1e4e68f51f6f",
   "metadata": {},
   "outputs": [],
   "source": [
    "import numpy as np\n",
    "import matplotlib.pyplot as plt"
   ]
  },
  {
   "cell_type": "markdown",
   "id": "61bea41a-d789-41e8-bb13-ca9949a4eedd",
   "metadata": {},
   "source": [
    "## NumPy Arrays"
   ]
  },
  {
   "cell_type": "code",
   "execution_count": 2,
   "id": "8b6d8ec8-6cb0-419c-ae35-0817aad0b5bb",
   "metadata": {},
   "outputs": [
    {
     "data": {
      "text/plain": [
       "array([1., 2., 3.])"
      ]
     },
     "execution_count": 2,
     "metadata": {},
     "output_type": "execute_result"
    }
   ],
   "source": [
    "x = np.array([1.,2.,3.])\n",
    "x"
   ]
  },
  {
   "cell_type": "code",
   "execution_count": 3,
   "id": "d466922b-57a9-422b-8ae3-045206c18cdc",
   "metadata": {},
   "outputs": [
    {
     "data": {
      "text/plain": [
       "numpy.ndarray"
      ]
     },
     "execution_count": 3,
     "metadata": {},
     "output_type": "execute_result"
    }
   ],
   "source": [
    "type(x)"
   ]
  },
  {
   "cell_type": "markdown",
   "id": "71e337b7-42d0-4026-92a2-3c82179b44ac",
   "metadata": {},
   "source": [
    "We access array attributes by dot syntax to get info about the array."
   ]
  },
  {
   "cell_type": "code",
   "execution_count": 4,
   "id": "d45bedd0-83bc-4f2e-9754-f887b6484e2b",
   "metadata": {},
   "outputs": [
    {
     "data": {
      "text/plain": [
       "3"
      ]
     },
     "execution_count": 4,
     "metadata": {},
     "output_type": "execute_result"
    }
   ],
   "source": [
    "x.size"
   ]
  },
  {
   "cell_type": "code",
   "execution_count": 5,
   "id": "06849ae9-39c5-40bd-8c19-179c40895c96",
   "metadata": {},
   "outputs": [
    {
     "data": {
      "text/plain": [
       "(3,)"
      ]
     },
     "execution_count": 5,
     "metadata": {},
     "output_type": "execute_result"
    }
   ],
   "source": [
    "x.shape"
   ]
  },
  {
   "cell_type": "code",
   "execution_count": 6,
   "id": "ec45829a-586e-4a11-acca-903d4e9b3d1a",
   "metadata": {},
   "outputs": [
    {
     "data": {
      "text/plain": [
       "1"
      ]
     },
     "execution_count": 6,
     "metadata": {},
     "output_type": "execute_result"
    }
   ],
   "source": [
    "x.ndim"
   ]
  },
  {
   "cell_type": "code",
   "execution_count": 7,
   "id": "25513c99-b92f-495e-8055-501de9a15874",
   "metadata": {},
   "outputs": [
    {
     "data": {
      "text/plain": [
       "dtype('float64')"
      ]
     },
     "execution_count": 7,
     "metadata": {},
     "output_type": "execute_result"
    }
   ],
   "source": [
    "x.dtype"
   ]
  },
  {
   "cell_type": "markdown",
   "id": "a7da8db3-1d33-4cce-8e3d-2f8739a8ea78",
   "metadata": {},
   "source": [
    "Use indexing and slicing just like for lists."
   ]
  },
  {
   "cell_type": "code",
   "execution_count": 9,
   "id": "48696897-8cb9-499c-a5ed-5379b0a07db2",
   "metadata": {},
   "outputs": [
    {
     "data": {
      "text/plain": [
       "2.0"
      ]
     },
     "execution_count": 9,
     "metadata": {},
     "output_type": "execute_result"
    }
   ],
   "source": [
    "x[1]"
   ]
  },
  {
   "cell_type": "code",
   "execution_count": 10,
   "id": "d52b6d30-cbf6-4d5f-8fe3-8d61e153861d",
   "metadata": {},
   "outputs": [
    {
     "data": {
      "text/plain": [
       "array([[-2.,  1.,  0.],\n",
       "       [ 1., -2.,  1.],\n",
       "       [ 0.,  1., -2.]])"
      ]
     },
     "execution_count": 10,
     "metadata": {},
     "output_type": "execute_result"
    }
   ],
   "source": [
    "A = np.array([[-2.,1.,0.],[1.,-2.,1.],[0.,1.,-2]])\n",
    "A"
   ]
  },
  {
   "cell_type": "code",
   "execution_count": 11,
   "id": "bb1d5816-bdfa-4bbe-8d27-53d6349d418e",
   "metadata": {},
   "outputs": [
    {
     "data": {
      "text/plain": [
       "9"
      ]
     },
     "execution_count": 11,
     "metadata": {},
     "output_type": "execute_result"
    }
   ],
   "source": [
    "A.size"
   ]
  },
  {
   "cell_type": "code",
   "execution_count": 12,
   "id": "e6fa145b-34e4-4280-9f69-a8f8a0c07917",
   "metadata": {},
   "outputs": [
    {
     "data": {
      "text/plain": [
       "(3, 3)"
      ]
     },
     "execution_count": 12,
     "metadata": {},
     "output_type": "execute_result"
    }
   ],
   "source": [
    "A.shape"
   ]
  },
  {
   "cell_type": "code",
   "execution_count": 13,
   "id": "9b45ed6d-b6c9-4d41-9f84-43fa210b3209",
   "metadata": {},
   "outputs": [
    {
     "data": {
      "text/plain": [
       "2"
      ]
     },
     "execution_count": 13,
     "metadata": {},
     "output_type": "execute_result"
    }
   ],
   "source": [
    "A.ndim"
   ]
  },
  {
   "cell_type": "code",
   "execution_count": 14,
   "id": "14131bcf-f219-47f6-b488-20420c2e934e",
   "metadata": {},
   "outputs": [
    {
     "data": {
      "text/plain": [
       "1.0"
      ]
     },
     "execution_count": 14,
     "metadata": {},
     "output_type": "execute_result"
    }
   ],
   "source": [
    "A[1,2]"
   ]
  },
  {
   "cell_type": "markdown",
   "id": "eb69ba77-541c-4dc3-a854-6ce5d18164f9",
   "metadata": {},
   "source": [
    "There are several functions for creating arrays."
   ]
  },
  {
   "cell_type": "code",
   "execution_count": 15,
   "id": "c7269d6f-2d52-431c-ba07-a20117ffc695",
   "metadata": {},
   "outputs": [
    {
     "data": {
      "text/plain": [
       "array([0. , 0.1, 0.2, 0.3, 0.4, 0.5, 0.6, 0.7, 0.8, 0.9, 1. ])"
      ]
     },
     "execution_count": 15,
     "metadata": {},
     "output_type": "execute_result"
    }
   ],
   "source": [
    "np.linspace(0,1,11)"
   ]
  },
  {
   "cell_type": "code",
   "execution_count": 16,
   "id": "4b6efd88-7f8c-4e13-a9b9-2b8361ecadb1",
   "metadata": {},
   "outputs": [
    {
     "data": {
      "text/plain": [
       "array([0. , 0.1, 0.2, 0.3, 0.4, 0.5, 0.6, 0.7, 0.8, 0.9])"
      ]
     },
     "execution_count": 16,
     "metadata": {},
     "output_type": "execute_result"
    }
   ],
   "source": [
    "np.arange(0,1,0.1)"
   ]
  },
  {
   "cell_type": "code",
   "execution_count": 17,
   "id": "23d17d02-8925-4293-b778-27018b764c3e",
   "metadata": {},
   "outputs": [
    {
     "data": {
      "text/plain": [
       "array([1., 1., 1.])"
      ]
     },
     "execution_count": 17,
     "metadata": {},
     "output_type": "execute_result"
    }
   ],
   "source": [
    "np.ones(3)"
   ]
  },
  {
   "cell_type": "code",
   "execution_count": 18,
   "id": "a64139f4-abdb-40e1-87a9-c07a1a3c5a5d",
   "metadata": {},
   "outputs": [
    {
     "data": {
      "text/plain": [
       "array([[1., 1.],\n",
       "       [1., 1.],\n",
       "       [1., 1.]])"
      ]
     },
     "execution_count": 18,
     "metadata": {},
     "output_type": "execute_result"
    }
   ],
   "source": [
    "np.ones((3,2))"
   ]
  },
  {
   "cell_type": "code",
   "execution_count": 19,
   "id": "fcbf2e7c-b506-45d3-835a-a9bb32db6886",
   "metadata": {},
   "outputs": [
    {
     "data": {
      "text/plain": [
       "array([0., 0., 0., 0.])"
      ]
     },
     "execution_count": 19,
     "metadata": {},
     "output_type": "execute_result"
    }
   ],
   "source": [
    "np.zeros(4)"
   ]
  },
  {
   "cell_type": "code",
   "execution_count": 20,
   "id": "94b5d9a0-febb-45f9-8b74-9c7a5eb39ca4",
   "metadata": {},
   "outputs": [
    {
     "data": {
      "text/plain": [
       "array([[1., 0., 0.],\n",
       "       [0., 1., 0.],\n",
       "       [0., 0., 1.]])"
      ]
     },
     "execution_count": 20,
     "metadata": {},
     "output_type": "execute_result"
    }
   ],
   "source": [
    "np.eye(3)"
   ]
  },
  {
   "cell_type": "code",
   "execution_count": 21,
   "id": "7cd6a6ab-fd0d-4a92-b312-b959020c246a",
   "metadata": {},
   "outputs": [
    {
     "data": {
      "text/plain": [
       "array([[1., 0., 0.],\n",
       "       [0., 2., 0.],\n",
       "       [0., 0., 3.]])"
      ]
     },
     "execution_count": 21,
     "metadata": {},
     "output_type": "execute_result"
    }
   ],
   "source": [
    "np.diag([1.,2.,3.])"
   ]
  },
  {
   "cell_type": "code",
   "execution_count": 22,
   "id": "ced6910e-db9b-4ba6-9e02-dbb29240b91a",
   "metadata": {},
   "outputs": [
    {
     "data": {
      "text/plain": [
       "array([[0, 0, 0, 0, 0, 0, 0, 0, 0, 0],\n",
       "       [0, 1, 0, 0, 0, 0, 0, 0, 0, 0],\n",
       "       [0, 0, 2, 0, 0, 0, 0, 0, 0, 0],\n",
       "       [0, 0, 0, 3, 0, 0, 0, 0, 0, 0],\n",
       "       [0, 0, 0, 0, 4, 0, 0, 0, 0, 0],\n",
       "       [0, 0, 0, 0, 0, 5, 0, 0, 0, 0],\n",
       "       [0, 0, 0, 0, 0, 0, 6, 0, 0, 0],\n",
       "       [0, 0, 0, 0, 0, 0, 0, 7, 0, 0],\n",
       "       [0, 0, 0, 0, 0, 0, 0, 0, 8, 0],\n",
       "       [0, 0, 0, 0, 0, 0, 0, 0, 0, 9]])"
      ]
     },
     "execution_count": 22,
     "metadata": {},
     "output_type": "execute_result"
    }
   ],
   "source": [
    "np.diag(np.arange(0,10))"
   ]
  },
  {
   "cell_type": "code",
   "execution_count": 23,
   "id": "a2ec9d23-0c9d-48f6-8934-9dc1d60e14a6",
   "metadata": {},
   "outputs": [
    {
     "data": {
      "image/png": "[encoded data removed]",
      "text/plain": [
       "<Figure size 640x480 with 2 Axes>"
      ]
     },
     "metadata": {},
     "output_type": "display_data"
    }
   ],
   "source": [
    "N = 100\n",
    "A = -2*np.eye(N) + np.diag(np.ones(N-1),1) + np.diag(np.ones(N-1),-1)\n",
    "plt.imshow(A,cmap='RdBu'), plt.clim([-2,2]), plt.colorbar()\n",
    "plt.show()"
   ]
  },
  {
   "cell_type": "markdown",
   "id": "a2eeecfb-f4ff-4fa3-84f9-610cc6a63a03",
   "metadata": {},
   "source": [
    "## Array Functions\n",
    "\n",
    "There many array functions:"
   ]
  },
  {
   "cell_type": "code",
   "execution_count": 24,
   "id": "4e7c4fad-e14f-4213-9d3f-2e147b82b650",
   "metadata": {},
   "outputs": [
    {
     "data": {
      "text/plain": [
       "array([ 1,  2,  3,  4,  5,  6,  7,  8,  9, 10])"
      ]
     },
     "execution_count": 24,
     "metadata": {},
     "output_type": "execute_result"
    }
   ],
   "source": [
    "x = np.arange(1,11)\n",
    "x"
   ]
  },
  {
   "cell_type": "code",
   "execution_count": 25,
   "id": "bc994529-a0ed-4f02-9716-68c84e0ee3b2",
   "metadata": {},
   "outputs": [
    {
     "data": {
      "text/plain": [
       "55"
      ]
     },
     "execution_count": 25,
     "metadata": {},
     "output_type": "execute_result"
    }
   ],
   "source": [
    "np.sum(x)"
   ]
  },
  {
   "cell_type": "code",
   "execution_count": 26,
   "id": "5892c96a-14af-45eb-90c8-676fe917f584",
   "metadata": {},
   "outputs": [
    {
     "data": {
      "text/plain": [
       "3628800"
      ]
     },
     "execution_count": 26,
     "metadata": {},
     "output_type": "execute_result"
    }
   ],
   "source": [
    "np.prod(x)"
   ]
  },
  {
   "cell_type": "code",
   "execution_count": 27,
   "id": "2e4eabd0-3570-4d80-aedc-38b953502a65",
   "metadata": {},
   "outputs": [],
   "source": [
    "def factorial(N):\n",
    "    n = np.arange(1,N+1)\n",
    "    return np.prod(n)"
   ]
  },
  {
   "cell_type": "code",
   "execution_count": 28,
   "id": "e1b2b343-cd6d-4a30-8b33-9651f916ea3f",
   "metadata": {},
   "outputs": [
    {
     "data": {
      "text/plain": [
       "24"
      ]
     },
     "execution_count": 28,
     "metadata": {},
     "output_type": "execute_result"
    }
   ],
   "source": [
    "factorial(4)"
   ]
  },
  {
   "cell_type": "markdown",
   "id": "3f8f256f-e17c-4dfb-8808-6b44cf48298e",
   "metadata": {},
   "source": [
    "## Examples\n",
    "\n",
    "Let's do an example with numerical integration. A Riemann sum is an approximation of the definite integral:\n",
    "\n",
    "$$\n",
    "\\int_a^b f(x) dx \\approx \\sum_{k=1}^N f(x_k^*) \\Delta x\n",
    "$$\n",
    "\n",
    "where $x_k = a + k \\Delta x$ for $k=0,1,\\dots,N$, and $\\Delta x = (b - a)/N$ and $x_k^* \\in [x_{k-1},x_k]$.\n",
    "\n",
    "The left Riemann sum is when $x_k^* = x_{k-1}$ and the right Riemann sum is when $x_k^* = x_k$."
   ]
  },
  {
   "cell_type": "code",
   "execution_count": 29,
   "id": "8af31c99-191f-4669-a163-e952d5a04a85",
   "metadata": {},
   "outputs": [
    {
     "data": {
      "image/png": "[encoded data removed]",
      "text/plain": [
       "<Figure size 640x480 with 1 Axes>"
      ]
     },
     "metadata": {},
     "output_type": "display_data"
    }
   ],
   "source": [
    "a = 0; b = 2; N = 50;\n",
    "f = lambda x: np.exp(-x**2)\n",
    "x = np.linspace(a,b,N+1)\n",
    "y = f(x)\n",
    "plt.plot(x,y,'b.-')\n",
    "plt.show()"
   ]
  },
  {
   "cell_type": "code",
   "execution_count": 30,
   "id": "1966b148-a224-40be-a14c-d909c897224b",
   "metadata": {},
   "outputs": [
    {
     "data": {
      "text/plain": [
       "0.8624379378043859"
      ]
     },
     "execution_count": 30,
     "metadata": {},
     "output_type": "execute_result"
    }
   ],
   "source": [
    "dx = (b - a)/N\n",
    "Iright = np.sum(y[1:])*dx\n",
    "Iright"
   ]
  },
  {
   "cell_type": "code",
   "execution_count": 31,
   "id": "42ed8a30-4579-4aa6-b896-42994d9c5427",
   "metadata": {},
   "outputs": [
    {
     "data": {
      "text/plain": [
       "0.9017053122488367"
      ]
     },
     "execution_count": 31,
     "metadata": {},
     "output_type": "execute_result"
    }
   ],
   "source": [
    "Ileft = np.sum(y[:-1])*dx\n",
    "Ileft"
   ]
  },
  {
   "cell_type": "markdown",
   "id": "52f1b139-c874-43b7-a850-0e1d7cc9e889",
   "metadata": {},
   "source": [
    "## More Plotting"
   ]
  },
  {
   "cell_type": "code",
   "execution_count": 32,
   "id": "7179e3b9-f19b-4a90-8369-27c22de35d34",
   "metadata": {},
   "outputs": [
    {
     "data": {
      "image/png": "[encoded data removed]",
      "text/plain": [
       "<Figure size 640x480 with 1 Axes>"
      ]
     },
     "metadata": {},
     "output_type": "display_data"
    }
   ],
   "source": [
    "t = np.linspace(0,2*np.pi,100)\n",
    "x = 16*np.sin(t)**3\n",
    "y = 13*np.cos(t) - 5*np.cos(2*t) - 2*np.cos(3*t) - np.cos(4*t)\n",
    "for k in range(1,10):\n",
    "    plt.plot(k*x,k*y,'r')\n",
    "plt.show()"
   ]
  }
 ],
 "metadata": {
  "kernelspec": {
   "display_name": "Python 3 (ipykernel)",
   "language": "python",
   "name": "python3"
  },
  "language_info": {
   "codemirror_mode": {
    "name": "ipython",
    "version": 3
   },
   "file_extension": ".py",
   "mimetype": "text/x-python",
   "name": "python",
   "nbconvert_exporter": "python",
   "pygments_lexer": "ipython3",
   "version": "3.10.8"
  }
 },
 "nbformat": 4,
 "nbformat_minor": 5
}
