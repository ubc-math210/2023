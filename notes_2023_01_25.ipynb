{
 "cells": [
  {
   "cell_type": "markdown",
   "id": "9fea5e82-3cee-4d98-9dad-76dc32021fbe",
   "metadata": {},
   "source": [
    "# MATH 210 Introduction to Mathematical Computing\n",
    "\n",
    "## January 25, 2023\n",
    "\n",
    "* Boolean values\n",
    "* Comparison operators\n",
    "* Boolean operators\n",
    "* `if` statements\n",
    "* Examples"
   ]
  },
  {
   "cell_type": "markdown",
   "id": "a958fc81-f4a7-4527-b297-ac8c599c3666",
   "metadata": {},
   "source": [
    "## Boolean Values\n",
    "\n",
    "There are 2 boolean values: `True` and `False`. For example:"
   ]
  },
  {
   "cell_type": "code",
   "execution_count": 1,
   "id": "567f873e-b1c2-47f4-937d-6a06d44b60a5",
   "metadata": {},
   "outputs": [],
   "source": [
    "math_is_cool = True"
   ]
  },
  {
   "cell_type": "code",
   "execution_count": 2,
   "id": "eeca9d27-cabd-437c-a15e-2944f89ffce9",
   "metadata": {},
   "outputs": [
    {
     "data": {
      "text/plain": [
       "True"
      ]
     },
     "execution_count": 2,
     "metadata": {},
     "output_type": "execute_result"
    }
   ],
   "source": [
    "math_is_cool"
   ]
  },
  {
   "cell_type": "code",
   "execution_count": 3,
   "id": "6ccdffc4-a4b4-42d2-ba53-42f5bd9fcdd0",
   "metadata": {},
   "outputs": [
    {
     "data": {
      "text/plain": [
       "bool"
      ]
     },
     "execution_count": 3,
     "metadata": {},
     "output_type": "execute_result"
    }
   ],
   "source": [
    "type(math_is_cool)"
   ]
  },
  {
   "cell_type": "code",
   "execution_count": 4,
   "id": "2a1fd81e-d8ae-4ef1-86d9-8252a890e8f5",
   "metadata": {},
   "outputs": [],
   "source": [
    "math_is_scary = False"
   ]
  },
  {
   "cell_type": "code",
   "execution_count": 5,
   "id": "5d83f8f9-9fc1-4505-b018-7a53e4b82af9",
   "metadata": {},
   "outputs": [
    {
     "data": {
      "text/plain": [
       "False"
      ]
     },
     "execution_count": 5,
     "metadata": {},
     "output_type": "execute_result"
    }
   ],
   "source": [
    "math_is_scary"
   ]
  },
  {
   "cell_type": "code",
   "execution_count": 6,
   "id": "d5b9cf3b-f110-4be7-ba52-572ae4b82822",
   "metadata": {},
   "outputs": [
    {
     "data": {
      "text/plain": [
       "bool"
      ]
     },
     "execution_count": 6,
     "metadata": {},
     "output_type": "execute_result"
    }
   ],
   "source": [
    "type(math_is_scary)"
   ]
  },
  {
   "cell_type": "markdown",
   "id": "d1966b1c-f866-42d4-aa1d-6f81958c6e9c",
   "metadata": {},
   "source": [
    "## Comparison Operators\n",
    "\n",
    "Compare numbers with operators:\n",
    "\n",
    "| Operator | Description |\n",
    "| :---: | :--- |\n",
    "| `==` | equal to |\n",
    "| `!=` | not equal to |\n",
    "| `>` | greater than |\n",
    "| `<` | less than |\n",
    "| `>=` | greater than or equal to |\n",
    "| `<=` | less than or equal to |"
   ]
  },
  {
   "cell_type": "code",
   "execution_count": 7,
   "id": "6367ecc5-6e63-481a-955d-2e72e2c6809c",
   "metadata": {},
   "outputs": [
    {
     "data": {
      "text/plain": [
       "False"
      ]
     },
     "execution_count": 7,
     "metadata": {},
     "output_type": "execute_result"
    }
   ],
   "source": [
    "1 == 2"
   ]
  },
  {
   "cell_type": "code",
   "execution_count": 8,
   "id": "914cb747-7761-4eb7-83d4-ee0db6bfa9bd",
   "metadata": {},
   "outputs": [
    {
     "data": {
      "text/plain": [
       "True"
      ]
     },
     "execution_count": 8,
     "metadata": {},
     "output_type": "execute_result"
    }
   ],
   "source": [
    "1 != 2"
   ]
  },
  {
   "cell_type": "code",
   "execution_count": 9,
   "id": "f9247ddd-9668-47d2-9294-815d615230e3",
   "metadata": {},
   "outputs": [
    {
     "data": {
      "text/plain": [
       "True"
      ]
     },
     "execution_count": 9,
     "metadata": {},
     "output_type": "execute_result"
    }
   ],
   "source": [
    "10 > 3"
   ]
  },
  {
   "cell_type": "code",
   "execution_count": 10,
   "id": "e9a8a3d0-fde9-4b85-ab83-deb2efe43a81",
   "metadata": {},
   "outputs": [
    {
     "data": {
      "text/plain": [
       "True"
      ]
     },
     "execution_count": 10,
     "metadata": {},
     "output_type": "execute_result"
    }
   ],
   "source": [
    "3 < 3.14159"
   ]
  },
  {
   "cell_type": "code",
   "execution_count": 11,
   "id": "e67dbc60-5bcf-4d7a-a72f-62ed363dce8f",
   "metadata": {},
   "outputs": [
    {
     "data": {
      "text/plain": [
       "True"
      ]
     },
     "execution_count": 11,
     "metadata": {},
     "output_type": "execute_result"
    }
   ],
   "source": [
    "1.00000000000000000000000001 == 1.0"
   ]
  },
  {
   "cell_type": "code",
   "execution_count": 12,
   "id": "41c6f5bb-70d2-45e2-ab4a-50ca09de7c08",
   "metadata": {},
   "outputs": [
    {
     "data": {
      "text/plain": [
       "1.0"
      ]
     },
     "execution_count": 12,
     "metadata": {},
     "output_type": "execute_result"
    }
   ],
   "source": [
    "1.00000000000000000000000001"
   ]
  },
  {
   "cell_type": "markdown",
   "id": "dc070219-9c49-45e0-98ae-5b8acef93c4b",
   "metadata": {},
   "source": [
    "It's not a good idea to use `==` to compare floats because there is always roundoff errors when computing with floats."
   ]
  },
  {
   "cell_type": "code",
   "execution_count": 13,
   "id": "033428f4-3459-420a-a244-46f4e3e34ff5",
   "metadata": {},
   "outputs": [
    {
     "data": {
      "text/plain": [
       "False"
      ]
     },
     "execution_count": 13,
     "metadata": {},
     "output_type": "execute_result"
    }
   ],
   "source": [
    "0.1 + 0.2 == 0.3"
   ]
  },
  {
   "cell_type": "code",
   "execution_count": 14,
   "id": "e6e06e48-42c6-4131-ae6c-d6bc5421e4d2",
   "metadata": {},
   "outputs": [
    {
     "data": {
      "text/plain": [
       "0.30000000000000004"
      ]
     },
     "execution_count": 14,
     "metadata": {},
     "output_type": "execute_result"
    }
   ],
   "source": [
    "0.1 + 0.2"
   ]
  },
  {
   "cell_type": "markdown",
   "id": "0d4e4040-911e-4418-a7ae-c1cd37e1019c",
   "metadata": {},
   "source": [
    "## Boolean Operators\n",
    "\n",
    "Combine comparison operators using boolean operators: `and`, `or` and `not`."
   ]
  },
  {
   "cell_type": "code",
   "execution_count": 15,
   "id": "ed8acb44-f4ab-4667-9a25-e66adcc7dcdb",
   "metadata": {},
   "outputs": [
    {
     "data": {
      "text/plain": [
       "True"
      ]
     },
     "execution_count": 15,
     "metadata": {},
     "output_type": "execute_result"
    }
   ],
   "source": [
    "(1 < 2) and (3.14159 > 3)"
   ]
  },
  {
   "cell_type": "code",
   "execution_count": 16,
   "id": "2d262230-258c-48de-9817-47fd705236b6",
   "metadata": {},
   "outputs": [
    {
     "data": {
      "text/plain": [
       "False"
      ]
     },
     "execution_count": 16,
     "metadata": {},
     "output_type": "execute_result"
    }
   ],
   "source": [
    "(1 < 2) and (3.14159 < 3)"
   ]
  },
  {
   "cell_type": "code",
   "execution_count": 17,
   "id": "d8da0809-cf25-4b85-8491-d34d79c786c3",
   "metadata": {},
   "outputs": [
    {
     "data": {
      "text/plain": [
       "True"
      ]
     },
     "execution_count": 17,
     "metadata": {},
     "output_type": "execute_result"
    }
   ],
   "source": [
    "(1 < 2) or (3.14159 < 3)"
   ]
  },
  {
   "cell_type": "code",
   "execution_count": 18,
   "id": "b388c952-185e-46a1-ab37-0390f8536a83",
   "metadata": {},
   "outputs": [
    {
     "data": {
      "text/plain": [
       "True"
      ]
     },
     "execution_count": 18,
     "metadata": {},
     "output_type": "execute_result"
    }
   ],
   "source": [
    "not 1 == 2"
   ]
  },
  {
   "cell_type": "markdown",
   "id": "d99b1371-22df-4e9e-b267-bab59444bae7",
   "metadata": {},
   "source": [
    "## `if` Statements\n",
    "\n",
    "An `if` statement executes different blocks of code depending on boolean values. Let's do an example. Write an `if` statement to check if a polynomial $p(x) = ax^2 + bx + c$ has real distinct roots, complex roots or real repeated roots. This is related to the quadratic formula:\n",
    "\n",
    "$$\n",
    "\\frac{-b \\pm \\sqrt{b^2 - 4ac}}{2a}\n",
    "$$"
   ]
  },
  {
   "cell_type": "code",
   "execution_count": 23,
   "id": "1447b974-e8e1-450b-97d1-dc7ef1067cf0",
   "metadata": {},
   "outputs": [
    {
     "name": "stdout",
     "output_type": "stream",
     "text": [
      "Roots are real and distinct.\n",
      "Done!\n"
     ]
    }
   ],
   "source": [
    "a = 1\n",
    "b = 2\n",
    "c = -3\n",
    "discriminant = b**2 - 4*a*c\n",
    "if discriminant > 0:\n",
    "    print(\"Roots are real and distinct.\")\n",
    "elif discriminant < 0:\n",
    "    print(\"Roots are complex.\")\n",
    "else:\n",
    "    print(\"Roots are real and repeated.\")\n",
    "\n",
    "print(\"Done!\")"
   ]
  },
  {
   "cell_type": "markdown",
   "id": "b25aca91-e201-4588-9ecb-1aae4109e6f2",
   "metadata": {},
   "source": [
    "## Example: Derivatives of Polynomials\n",
    "\n",
    "Represent a polynomial\n",
    "$$\n",
    "p(x) = c_0 + c_1 x + \\cdots + c_d x^d\n",
    "$$\n",
    "(such that $c_d \\not= 0$) as a list of coefficients\n",
    "```\n",
    "p = [c0,c1,...,cd]\n",
    "```\n",
    "Write a function called `poly_diff` which takes a Python list of numbers `p` (representing a polynomial $p(x)$) and returns a Python list of numbers `dpdx` representing the derivative $p'(x)$. (Note: represent the zero polynomial $p(x) = 0$ as `[0]`.)"
   ]
  },
  {
   "cell_type": "code",
   "execution_count": 24,
   "id": "39a46674-74bc-41df-8fd6-c0ae8e990e6e",
   "metadata": {},
   "outputs": [],
   "source": [
    "def poly_diff(p):\n",
    "    \"Compute the derivative of p(x).\"\n",
    "    if len(p) > 1:\n",
    "        dpdx = [p[n]*n for n in range(1,len(p))]\n",
    "    else:\n",
    "        dpdx = [0]\n",
    "    return dpdx"
   ]
  },
  {
   "cell_type": "code",
   "execution_count": 25,
   "id": "0433a797-8004-4aeb-a548-ae371b4bfdea",
   "metadata": {},
   "outputs": [
    {
     "data": {
      "text/plain": [
       "[1, 2]"
      ]
     },
     "execution_count": 25,
     "metadata": {},
     "output_type": "execute_result"
    }
   ],
   "source": [
    "p = [1,1,1] # p(x) = 1 + x + x^2, p'(x) = 1 + 2x\n",
    "dpdx = poly_diff(p) # dpdx = [1,2]\n",
    "dpdx"
   ]
  },
  {
   "cell_type": "code",
   "execution_count": 26,
   "id": "cce8d072-e40b-4a23-b638-f31e0cf0ab71",
   "metadata": {},
   "outputs": [
    {
     "data": {
      "text/plain": [
       "[0, 0, 0, 4]"
      ]
     },
     "execution_count": 26,
     "metadata": {},
     "output_type": "execute_result"
    }
   ],
   "source": [
    "p = [1,0,0,0,1] # p(x) = 1 + x^4, p'(x) = 4x^3\n",
    "dpdx = poly_diff(p) # dpdx = [0,0,0,4]\n",
    "dpdx"
   ]
  },
  {
   "cell_type": "code",
   "execution_count": 27,
   "id": "f325da7e-22ab-4d78-ba2d-327196f0b06c",
   "metadata": {},
   "outputs": [
    {
     "data": {
      "text/plain": [
       "[0]"
      ]
     },
     "execution_count": 27,
     "metadata": {},
     "output_type": "execute_result"
    }
   ],
   "source": [
    "p = [1] # p(x) = 1, p'(x) = 0\n",
    "dpdx = poly_diff(p) # dpdx = [0]\n",
    "dpdx"
   ]
  }
 ],
 "metadata": {
  "kernelspec": {
   "display_name": "Python 3 (ipykernel)",
   "language": "python",
   "name": "python3"
  },
  "language_info": {
   "codemirror_mode": {
    "name": "ipython",
    "version": 3
   },
   "file_extension": ".py",
   "mimetype": "text/x-python",
   "name": "python",
   "nbconvert_exporter": "python",
   "pygments_lexer": "ipython3",
   "version": "3.10.8"
  }
 },
 "nbformat": 4,
 "nbformat_minor": 5
}
