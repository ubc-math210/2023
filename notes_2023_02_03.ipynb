{
 "cells": [
  {
   "cell_type": "markdown",
   "id": "15e677c4-9929-4b7f-8c71-183854d88bff",
   "metadata": {},
   "source": [
    "# MATH 210 Introduction to Mathematical Computing\n",
    "\n",
    "## February 3, 2023"
   ]
  },
  {
   "cell_type": "markdown",
   "id": "52558633-f8d0-407e-8794-935968a85e82",
   "metadata": {},
   "source": [
    "## Fixed Point Iteration\n",
    "\n",
    "Let $f(x)$ be a differentiable function, let $a \\in \\mathbb{R}$ and define the recursive sequence $x_{n+1} = f(x_n)$, $x_0 = a$.\n",
    "\n",
    "### Fixed Point Theorem I\n",
    "\n",
    "Suppose $L$ is a fixed point $L= f(L)$ and\n",
    "\n",
    "* $x_0 > L$\n",
    "* $f(x_0) < x_0$\n",
    "* $f'(x) > 0$ for $x > L$\n",
    "\n",
    "Then the sequence $\\{ x_n \\}$ converges (although not necessarily to $L$).\n",
    "\n",
    "**Proof.** Let's prove that the sequence is (a) bounded and (b) decreasing, and then apply the monotone convergence theorem. Note that $f(x)$ is increasing for $x > L$.\n",
    "\n",
    "(a) $\\{ x_n \\}$ is bounded.\n",
    "\n",
    "*Base case*: $x_0 > L$\n",
    "\n",
    "*Induction Step*: Assume $x_n > L$ for some $n$. Since $f(x)$ is an increasing function for $x > L$ we have $f(x_n) > f(L)$ and therefore $x_{n+1} > L$.\n",
    "\n",
    "By induction, the sequence $\\{ x_n \\}$ is bounded.\n",
    "\n",
    "(b) $\\{ x_n \\}$ is decreasing.\n",
    "\n",
    "*Base case*: $x_0 > f(x_0) = x_1$.\n",
    "\n",
    "*Induction Step*: Assume $x_n > x_{n+1}$ for some $n$. We know that $x_{n+1} > L$, $x_n > L$ and $f(x)$ is an increasing function for $x > L$, therefore $f(x_n) > f(x_{n+1})$ and so $x_{n+1} > x_{n+2}$.\n",
    "\n",
    "By induction, the sequence $\\{ x_n \\}$ is decreasing.\n",
    "\n",
    "Finally, the monotone convergenve theorem implies that the sequence $\\{ x_n \\}$ converges."
   ]
  },
  {
   "cell_type": "markdown",
   "id": "4c8fdc78-c696-4b23-9702-31d034de99bf",
   "metadata": {},
   "source": [
    "### Example\n",
    "\n",
    "Let $x_{n+1} = f(x_n)$, $x_0 = a > 1$ where $f(x) = \\frac{1}{2} \\left( x + \\frac{a}{x} \\right)$."
   ]
  },
  {
   "cell_type": "code",
   "execution_count": 1,
   "id": "23ed95eb-6dd7-4a96-bff7-09236b4cc01e",
   "metadata": {},
   "outputs": [
    {
     "name": "stdout",
     "output_type": "stream",
     "text": [
      "1.5\n",
      "1.4166666666666665\n",
      "1.4142156862745097\n",
      "1.4142135623746899\n",
      "1.414213562373095\n"
     ]
    }
   ],
   "source": [
    "a = 2\n",
    "f = lambda x: 1/2*(x + a/x)\n",
    "\n",
    "x = 2\n",
    "for _ in range(0,5):\n",
    "    x = f(x)\n",
    "    print(x)"
   ]
  },
  {
   "cell_type": "markdown",
   "id": "c950518d-fad2-4a8e-9ea9-93b5b68579fb",
   "metadata": {},
   "source": [
    "### Example\n",
    "\n",
    "Let $x_{n+1} = f(x_n)$, $x_0 = 5$ where $f(x) = \\sqrt{x+1} + \\sqrt{x}$."
   ]
  },
  {
   "cell_type": "code",
   "execution_count": 2,
   "id": "c9ba2a95-d5be-4053-9700-4fd64f8b0100",
   "metadata": {},
   "outputs": [
    {
     "name": "stdout",
     "output_type": "stream",
     "text": [
      "4.685557720282968\n",
      "4.549055668995422\n",
      "4.488494900940035\n",
      "4.461360530636048\n",
      "4.449148696253062\n"
     ]
    }
   ],
   "source": [
    "f = lambda x: (1 + x)**0.5 + x**0.5\n",
    "\n",
    "x = 5\n",
    "for _ in range(0,5):\n",
    "    x = f(x)\n",
    "    print(x)"
   ]
  },
  {
   "cell_type": "markdown",
   "id": "fb70dcb7-0790-4b00-8237-522f42a8924a",
   "metadata": {},
   "source": [
    "### Fixed Point Theorem II"
   ]
  },
  {
   "cell_type": "code",
   "execution_count": 3,
   "id": "a7affbff-5101-49df-b212-b491132ea1ef",
   "metadata": {},
   "outputs": [],
   "source": [
    "g = lambda x: 1/(1 + x**2)"
   ]
  },
  {
   "cell_type": "code",
   "execution_count": 4,
   "id": "df9f6f90-3853-4692-83c8-f5e4d013df19",
   "metadata": {},
   "outputs": [
    {
     "name": "stdout",
     "output_type": "stream",
     "text": [
      "0.5\n",
      "0.8\n",
      "0.6097560975609756\n",
      "0.7289679098005204\n",
      "0.6529997248077185\n",
      "0.701061372973803\n",
      "0.6704717958414473\n",
      "0.6898776322492279\n",
      "0.6775383809122035\n",
      "0.6853735927163312\n"
     ]
    }
   ],
   "source": [
    "x = 1\n",
    "for _ in range(0,10):\n",
    "    x = g(x)\n",
    "    print(x)"
   ]
  }
 ],
 "metadata": {
  "kernelspec": {
   "display_name": "Python 3 (ipykernel)",
   "language": "python",
   "name": "python3"
  },
  "language_info": {
   "codemirror_mode": {
    "name": "ipython",
    "version": 3
   },
   "file_extension": ".py",
   "mimetype": "text/x-python",
   "name": "python",
   "nbconvert_exporter": "python",
   "pygments_lexer": "ipython3",
   "version": "3.10.8"
  }
 },
 "nbformat": 4,
 "nbformat_minor": 5
}
