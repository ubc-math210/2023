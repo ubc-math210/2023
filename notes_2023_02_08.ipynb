{
 "cells": [
  {
   "cell_type": "markdown",
   "id": "c1828338-db12-421e-8677-4715f2b5cb40",
   "metadata": {},
   "source": [
    "# MATH 210 Introduction to Mathematical Computing\n",
    "\n",
    "## February 8, 2023\n",
    "\n",
    "* Newton's Method\n",
    "* Examples"
   ]
  },
  {
   "cell_type": "markdown",
   "id": "d9897e7c-6385-45ca-849d-f6bad017c1cb",
   "metadata": {},
   "source": [
    "Write a function called `newton` which takes `f`, `dfdx`, `x0`, `N` and returns the result of $N$ iterations of Newton's method. The result is hopefully an approximation of a root of $f(x)$ near $x_0$."
   ]
  },
  {
   "cell_type": "code",
   "execution_count": 1,
   "id": "ae41d9aa-a4df-40f2-a29b-37e29664de53",
   "metadata": {},
   "outputs": [],
   "source": [
    "def newton(f,dfdx,x0,N):\n",
    "    xn = x0\n",
    "    for n in range(N):\n",
    "        xn = xn - f(xn)/dfdx(xn)\n",
    "    return xn"
   ]
  },
  {
   "cell_type": "code",
   "execution_count": 2,
   "id": "3f8cdbfe-fa95-4a2d-9855-2d280b005cac",
   "metadata": {},
   "outputs": [
    {
     "data": {
      "text/plain": [
       "1.4142156862745099"
      ]
     },
     "execution_count": 2,
     "metadata": {},
     "output_type": "execute_result"
    }
   ],
   "source": [
    "f = lambda x: x**2 - 2\n",
    "dfdx = lambda x: 2*x\n",
    "x0 = 2\n",
    "N = 3\n",
    "newton(f,dfdx,x0,N)"
   ]
  },
  {
   "cell_type": "code",
   "execution_count": 3,
   "id": "3c5f0202-812d-4d22-b768-64f48debd569",
   "metadata": {},
   "outputs": [
    {
     "data": {
      "text/plain": [
       "1.4142156862745099"
      ]
     },
     "execution_count": 3,
     "metadata": {},
     "output_type": "execute_result"
    }
   ],
   "source": [
    "# 1.414\n",
    "newton(lambda x: x**2 - 2,lambda x: 2*x,2,3)"
   ]
  },
  {
   "cell_type": "code",
   "execution_count": 4,
   "id": "57f9ed6e-c460-4038-a388-c1663db27676",
   "metadata": {},
   "outputs": [
    {
     "data": {
      "text/plain": [
       "1.325801345005845"
      ]
     },
     "execution_count": 4,
     "metadata": {},
     "output_type": "execute_result"
    }
   ],
   "source": [
    "# 1.325\n",
    "newton(lambda x: x**3 - x - 1,lambda x: 3*x**2 - 1,2,3)"
   ]
  },
  {
   "cell_type": "markdown",
   "id": "568c45a5-9371-4ede-aa48-4c9b0711e4f3",
   "metadata": {},
   "source": [
    "Let's do an example where Newton's method will not converge. Let $f(x) = x^{1/3}$. There is a vertical asymptote at the root $x=0$ and so Newton's method will not converge.\n",
    "\n",
    "Note that Python does not correctly compute fractional powers $x^{p/q}$ of negative numbers $x$ when $q$ is odd. For example, theoretically we know $(-1)^{1/3} = -1$ however Python computes:"
   ]
  },
  {
   "cell_type": "code",
   "execution_count": 5,
   "id": "9d8c6bdf-5c5f-4f61-8617-e82d4d823e73",
   "metadata": {},
   "outputs": [
    {
     "data": {
      "text/plain": [
       "(0.5000000000000001+0.8660254037844386j)"
      ]
     },
     "execution_count": 5,
     "metadata": {},
     "output_type": "execute_result"
    }
   ],
   "source": [
    "(-1)**(1/3)"
   ]
  },
  {
   "cell_type": "markdown",
   "id": "8f542743-0743-4153-ad60-c04232993813",
   "metadata": {},
   "source": [
    "Therefore we must write powers using the sign function and the absolute value:\n",
    "\n",
    "$$\n",
    "x^{p/q} = \\mathrm{sign}(x)^p | x |^{p/q} \\ , \\ \\ q \\text{ is odd}\n",
    "$$\n",
    "\n",
    "where\n",
    "\n",
    "$$\n",
    "\\mathrm{sign}(x) = \\left\\{ \\begin{array}{cl} +1 & x > 0 \\\\ 0 & x=0 \\\\ -1 & x < 0 \\end{array} \\right.\n",
    "$$"
   ]
  },
  {
   "cell_type": "code",
   "execution_count": 6,
   "id": "67d85a5f-08a0-447b-9c4c-656b81301c8f",
   "metadata": {},
   "outputs": [
    {
     "data": {
      "text/plain": [
       "-31.999999999999986"
      ]
     },
     "execution_count": 6,
     "metadata": {},
     "output_type": "execute_result"
    }
   ],
   "source": [
    "# f(x) = x^{1/3}, f'(x) = 1/3*x^{-2/3}\n",
    "def sign(x):\n",
    "    if x > 0:\n",
    "        return 1\n",
    "    elif x < 0:\n",
    "        return -1\n",
    "    else:\n",
    "        return 0\n",
    "\n",
    "f = lambda x: sign(x)*abs(x)**(1/3)\n",
    "dfdx = lambda x: 1/3*abs(x)**(-2/3)\n",
    "newton(f,dfdx,1,5)"
   ]
  }
 ],
 "metadata": {
  "kernelspec": {
   "display_name": "Python 3 (ipykernel)",
   "language": "python",
   "name": "python3"
  },
  "language_info": {
   "codemirror_mode": {
    "name": "ipython",
    "version": 3
   },
   "file_extension": ".py",
   "mimetype": "text/x-python",
   "name": "python",
   "nbconvert_exporter": "python",
   "pygments_lexer": "ipython3",
   "version": "3.10.8"
  }
 },
 "nbformat": 4,
 "nbformat_minor": 5
}
