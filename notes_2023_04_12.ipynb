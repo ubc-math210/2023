{
 "cells": [
  {
   "cell_type": "markdown",
   "id": "a230de4b-0f95-4f2f-bf7f-d927ef6ad018",
   "metadata": {},
   "source": [
    "# MATH 210 Introduction to Mathematical Computing\n",
    "\n",
    "## April 12, 2023\n",
    "\n",
    "* Diagonalization\n",
    "* Power method"
   ]
  },
  {
   "cell_type": "code",
   "execution_count": 37,
   "id": "502b3a3e-08e9-4bb0-a2e4-6d257a4ca8bd",
   "metadata": {
    "tags": []
   },
   "outputs": [],
   "source": [
    "import numpy as np\n",
    "import matplotlib.pyplot as plt\n",
    "import scipy.linalg as la"
   ]
  },
  {
   "cell_type": "markdown",
   "id": "a1fdbda4-1845-4930-a868-702cf2348706",
   "metadata": {},
   "source": [
    "## Diagonalization"
   ]
  },
  {
   "cell_type": "code",
   "execution_count": 38,
   "id": "d635cd67-a8fb-48ed-8fcb-4739a85fbe21",
   "metadata": {},
   "outputs": [
    {
     "data": {
      "text/plain": [
       "array([[ 1, -2,  0],\n",
       "       [-2,  1, -2],\n",
       "       [ 0, -2,  1]])"
      ]
     },
     "execution_count": 38,
     "metadata": {},
     "output_type": "execute_result"
    }
   ],
   "source": [
    "A = np.array([[1,-2,0],[-2,1,-2],[0,-2,1]])\n",
    "A"
   ]
  },
  {
   "cell_type": "code",
   "execution_count": 39,
   "id": "1e71d12d-5d8e-49fc-bd6e-fd79533b075f",
   "metadata": {},
   "outputs": [
    {
     "data": {
      "text/plain": [
       "array([[ 3.82842712,  0.        ,  0.        ],\n",
       "       [ 0.        ,  1.        ,  0.        ],\n",
       "       [ 0.        ,  0.        , -1.82842712]])"
      ]
     },
     "execution_count": 39,
     "metadata": {},
     "output_type": "execute_result"
    }
   ],
   "source": [
    "D,P = la.eig(A)\n",
    "D = np.diag(D.real)\n",
    "D"
   ]
  },
  {
   "cell_type": "code",
   "execution_count": 40,
   "id": "463dcefc-b080-459f-826f-98dca51c5e1e",
   "metadata": {},
   "outputs": [
    {
     "data": {
      "text/plain": [
       "array([[-5.00000000e-01, -7.07106781e-01,  5.00000000e-01],\n",
       "       [ 7.07106781e-01, -1.21909150e-16,  7.07106781e-01],\n",
       "       [-5.00000000e-01,  7.07106781e-01,  5.00000000e-01]])"
      ]
     },
     "execution_count": 40,
     "metadata": {},
     "output_type": "execute_result"
    }
   ],
   "source": [
    "P"
   ]
  },
  {
   "cell_type": "code",
   "execution_count": 41,
   "id": "4af7a2a1-21be-455d-beb1-b1735b04a6e8",
   "metadata": {},
   "outputs": [
    {
     "data": {
      "text/plain": [
       "array([[ 2997, -4286,  2996],\n",
       "       [-4286,  5993, -4286],\n",
       "       [ 2996, -4286,  2997]])"
      ]
     },
     "execution_count": 41,
     "metadata": {},
     "output_type": "execute_result"
    }
   ],
   "source": [
    "A@A@A@A@A@A@A"
   ]
  },
  {
   "cell_type": "markdown",
   "id": "296d1941-cc25-4c14-aa0a-22947f7ba683",
   "metadata": {},
   "source": [
    "Eigenvectors of a symmetric matrix are orthogonal therefore $P^{-1} = P^T$."
   ]
  },
  {
   "cell_type": "code",
   "execution_count": 42,
   "id": "11d4899a-959f-40ec-848e-654d766e4382",
   "metadata": {},
   "outputs": [
    {
     "data": {
      "text/plain": [
       "array([[ 2997., -4286.,  2996.],\n",
       "       [-4286.,  5993., -4286.],\n",
       "       [ 2996., -4286.,  2997.]])"
      ]
     },
     "execution_count": 42,
     "metadata": {},
     "output_type": "execute_result"
    }
   ],
   "source": [
    "P @ D**7 @ P.T"
   ]
  },
  {
   "cell_type": "code",
   "execution_count": 46,
   "id": "78c5205e-5609-43c7-baee-b8379340f395",
   "metadata": {},
   "outputs": [
    {
     "data": {
      "text/plain": [
       "array([[ 5.87860000e+04, -9.04400000e+04,  8.72100000e+04, ...,\n",
       "        -3.36464668e-09,  2.95850146e-09, -1.73690861e-09],\n",
       "       [-9.04400000e+04,  1.45996000e+05, -1.52456000e+05, ...,\n",
       "         5.70204045e-09, -4.84246379e-09,  2.81338386e-09],\n",
       "       [ 8.72100000e+04, -1.52456000e+05,  1.79911000e+05, ...,\n",
       "        -7.23565327e-09,  5.59947105e-09, -3.10260698e-09],\n",
       "       ...,\n",
       "       [-3.36365908e-09,  5.70136453e-09, -7.23531398e-09, ...,\n",
       "         1.79911000e+05, -1.52456000e+05,  8.72100000e+04],\n",
       "       [ 2.95706626e-09, -4.84104270e-09,  5.59606403e-09, ...,\n",
       "        -1.52456000e+05,  1.45996000e+05, -9.04400000e+04],\n",
       "       [-1.73778610e-09,  2.81407662e-09, -3.10212028e-09, ...,\n",
       "         8.72100000e+04, -9.04400000e+04,  5.87860000e+04]])"
      ]
     },
     "execution_count": 46,
     "metadata": {},
     "output_type": "execute_result"
    }
   ],
   "source": [
    "N = 1000\n",
    "A = 2*np.eye(N) - np.diag(np.ones(N-1),1) - np.diag(np.ones(N-1),-1) \n",
    "D,P = la.eig(A)\n",
    "D = np.diag(D.real)\n",
    "k = 10\n",
    "Ak = P@D**k@P.T\n",
    "Ak"
   ]
  },
  {
   "cell_type": "markdown",
   "id": "16c19e7d-5f5c-43aa-9e9d-d0a15711605d",
   "metadata": {},
   "source": [
    "## Power Method\n",
    "\n",
    "Let $A$ be a $n \\times n$ matrix and **assume** that $A$ has $n$ linearly independent eigenvectors $\\mathbf{v}_0,\\dots,\\mathbf{v}_{n-1}$ corresponding to eigenvalues $\\lambda_0,\\dots,\\lambda_{n-1}$ such that $| \\lambda_0 | > | \\lambda_1 | \\geq \\cdots \\geq | \\lambda_{n-1}|$. The eigenvalue $\\lambda_0$ is called a **dominant eigenvalue**.\n",
    "\n",
    "Choose a random vector $\\mathbf{x}_0$. Since $\\mathbf{v}_0,\\dots,\\mathbf{v}_{n-1}$ are linearly independent, the vector $\\mathbf{x}_0$ must be linear combination\n",
    "\n",
    "$$\n",
    "\\mathbf{x}_0 = c_0 \\mathbf{v}_0 + \\cdots + c_{n-1}\\mathbf{v}_{n-1}\n",
    "$$\n",
    "\n",
    "for some coefficients $c_0,\\dots,c_{n-1}$."
   ]
  },
  {
   "cell_type": "code",
   "execution_count": 47,
   "id": "4a0bef6d-c61d-4e84-8806-f7191163a1ec",
   "metadata": {},
   "outputs": [],
   "source": [
    "def powerMethod(A,N):\n",
    "    n = A.shape[0]\n",
    "    xk = np.random.randn(n)\n",
    "    for k in range(0,N):\n",
    "        xk = A@xk\n",
    "        xk = xk/np.max(np.abs(xk))\n",
    "    evec = xk / la.norm(xk)\n",
    "    evalue = xk.T @ A @ xk / (xk.T @ xk)\n",
    "    return evalue,evec"
   ]
  },
  {
   "cell_type": "code",
   "execution_count": 48,
   "id": "96cdb0f8-e541-4c27-8802-0995e1051fa2",
   "metadata": {},
   "outputs": [
    {
     "data": {
      "text/plain": [
       "3.82842712474619"
      ]
     },
     "execution_count": 48,
     "metadata": {},
     "output_type": "execute_result"
    }
   ],
   "source": [
    "A = np.array([[1,-2,0],[-2,1,-2],[0,-2,1]])\n",
    "evalue,evec = powerMethod(A,100)\n",
    "evalue"
   ]
  },
  {
   "cell_type": "code",
   "execution_count": 49,
   "id": "4009f7f5-581e-467c-9ec5-a29c98041eef",
   "metadata": {},
   "outputs": [
    {
     "data": {
      "text/plain": [
       "array([-0.5       ,  0.70710678, -0.5       ])"
      ]
     },
     "execution_count": 49,
     "metadata": {},
     "output_type": "execute_result"
    }
   ],
   "source": [
    "evec"
   ]
  },
  {
   "cell_type": "code",
   "execution_count": 50,
   "id": "0db01518-0b8c-454c-95cc-f99942012035",
   "metadata": {},
   "outputs": [
    {
     "data": {
      "text/plain": [
       "array([ 3.82842712+0.j,  1.        +0.j, -1.82842712+0.j])"
      ]
     },
     "execution_count": 50,
     "metadata": {},
     "output_type": "execute_result"
    }
   ],
   "source": [
    "D,P = la.eig(A)\n",
    "D"
   ]
  },
  {
   "cell_type": "code",
   "execution_count": 51,
   "id": "ea1e7438-4b58-44ff-9ae5-49268461d0e4",
   "metadata": {},
   "outputs": [
    {
     "data": {
      "text/plain": [
       "array([[-5.00000000e-01, -7.07106781e-01,  5.00000000e-01],\n",
       "       [ 7.07106781e-01, -1.21909150e-16,  7.07106781e-01],\n",
       "       [-5.00000000e-01,  7.07106781e-01,  5.00000000e-01]])"
      ]
     },
     "execution_count": 51,
     "metadata": {},
     "output_type": "execute_result"
    }
   ],
   "source": [
    "P"
   ]
  }
 ],
 "metadata": {
  "kernelspec": {
   "display_name": "Python 3 (ipykernel)",
   "language": "python",
   "name": "python3"
  },
  "language_info": {
   "codemirror_mode": {
    "name": "ipython",
    "version": 3
   },
   "file_extension": ".py",
   "mimetype": "text/x-python",
   "name": "python",
   "nbconvert_exporter": "python",
   "pygments_lexer": "ipython3",
   "version": "3.9.12"
  }
 },
 "nbformat": 4,
 "nbformat_minor": 5
}
