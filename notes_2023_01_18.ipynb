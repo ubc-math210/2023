{
 "cells": [
  {
   "cell_type": "markdown",
   "id": "5563bec6-7879-469d-8047-b56fef847e16",
   "metadata": {},
   "source": [
    "# MATH 210 Introduction to Mathematical Computing\n",
    "\n",
    "## January 18, 2023\n",
    "\n",
    "* Lists, tuples and range objects\n",
    "* Indexing and slicing\n",
    "* List comprehensions\n",
    "* Buitling functions for sequences: `sum`, `len`, `min`, `max`"
   ]
  },
  {
   "cell_type": "markdown",
   "id": "16a3c715-e004-4862-81ab-04bfe4528b70",
   "metadata": {},
   "source": [
    "## Lists, Tuples and Range Objects\n",
    "\n",
    "There are 3 main types of sequences objects: lists, tuples and range objects. Lists and tuples are sequences of arbitrary values whereas range objects are sequences of integers.\n",
    "\n",
    "Use square brackets `[ ... ]` to create lists:"
   ]
  },
  {
   "cell_type": "code",
   "execution_count": 1,
   "id": "d62ebf37-8b84-48fd-8d33-5b72f899076e",
   "metadata": {},
   "outputs": [
    {
     "name": "stdout",
     "output_type": "stream",
     "text": [
      "[1, 4, 9, 16, 25, 36, 49, 64, 81, 100]\n"
     ]
    }
   ],
   "source": [
    "squares = [1,4,9,16,25,36,49,64,81,100]\n",
    "print(squares)"
   ]
  },
  {
   "cell_type": "markdown",
   "id": "34de8577-d23c-413e-9760-08c68de221da",
   "metadata": {},
   "source": [
    "Use parentheses `( ... )` to create tuples:"
   ]
  },
  {
   "cell_type": "code",
   "execution_count": 2,
   "id": "b43375ba-244f-4f16-9063-6e5e7f017987",
   "metadata": {},
   "outputs": [
    {
     "name": "stdout",
     "output_type": "stream",
     "text": [
      "(2023, 1, 18)\n"
     ]
    }
   ],
   "source": [
    "date = (2023,1,18)\n",
    "print(date)"
   ]
  },
  {
   "cell_type": "markdown",
   "id": "498181c7-b9e5-440a-8b52-601e46d2b5be",
   "metadata": {},
   "source": [
    "Tuples are immutable. We can't change the entries after defining a tuple."
   ]
  },
  {
   "cell_type": "code",
   "execution_count": 3,
   "id": "4ad9d350-f598-47ac-ac7a-46ad136a6339",
   "metadata": {},
   "outputs": [
    {
     "ename": "TypeError",
     "evalue": "'tuple' object does not support item assignment",
     "output_type": "error",
     "traceback": [
      "\u001b[0;31m---------------------------------------------------------------------------\u001b[0m",
      "\u001b[0;31mTypeError\u001b[0m                                 Traceback (most recent call last)",
      "Cell \u001b[0;32mIn[3], line 1\u001b[0m\n\u001b[0;32m----> 1\u001b[0m \u001b[43mdate\u001b[49m\u001b[43m[\u001b[49m\u001b[38;5;241;43m0\u001b[39;49m\u001b[43m]\u001b[49m \u001b[38;5;241m=\u001b[39m \u001b[38;5;241m1999\u001b[39m\n",
      "\u001b[0;31mTypeError\u001b[0m: 'tuple' object does not support item assignment"
     ]
    }
   ],
   "source": [
    "date[0] = 1999"
   ]
  },
  {
   "cell_type": "markdown",
   "id": "387752fa-8259-467f-a8db-d13dd7099768",
   "metadata": {},
   "source": [
    "But we can change the entries in a list:"
   ]
  },
  {
   "cell_type": "code",
   "execution_count": 4,
   "id": "cc7743ef-0bbd-478a-b799-bf3344666e6e",
   "metadata": {},
   "outputs": [],
   "source": [
    "squares[0] = -1"
   ]
  },
  {
   "cell_type": "code",
   "execution_count": 5,
   "id": "1ea95a53-ca37-48d9-98c5-1563826a9824",
   "metadata": {},
   "outputs": [
    {
     "name": "stdout",
     "output_type": "stream",
     "text": [
      "[-1, 4, 9, 16, 25, 36, 49, 64, 81, 100]\n"
     ]
    }
   ],
   "source": [
    "print(squares)"
   ]
  },
  {
   "cell_type": "code",
   "execution_count": 6,
   "id": "ab8b88e2-9971-4798-b027-39adc21682b4",
   "metadata": {},
   "outputs": [
    {
     "data": {
      "text/plain": [
       "list"
      ]
     },
     "execution_count": 6,
     "metadata": {},
     "output_type": "execute_result"
    }
   ],
   "source": [
    "type(squares)"
   ]
  },
  {
   "cell_type": "code",
   "execution_count": 7,
   "id": "de155316-458e-4c13-9a49-1ac3fe96134a",
   "metadata": {},
   "outputs": [
    {
     "data": {
      "text/plain": [
       "tuple"
      ]
     },
     "execution_count": 7,
     "metadata": {},
     "output_type": "execute_result"
    }
   ],
   "source": [
    "type(date)"
   ]
  },
  {
   "cell_type": "markdown",
   "id": "f4459c01-ea15-4428-a8f0-43e0447c32db",
   "metadata": {},
   "source": [
    "A range object is a sequence of integers. The syntax `range(a,b,step)` creates a sequence of integers from `a` to `b` (exclusive) by increment `step`. The values are not actually created and stored when we define a range instead the range object gives us the values only when we ask for it."
   ]
  },
  {
   "cell_type": "code",
   "execution_count": 8,
   "id": "f5894928-c81a-4f1d-a6ed-be5ca4c1ab50",
   "metadata": {},
   "outputs": [
    {
     "name": "stdout",
     "output_type": "stream",
     "text": [
      "range(0, 11)\n"
     ]
    }
   ],
   "source": [
    "numbers = range(0,11)\n",
    "print(numbers)"
   ]
  },
  {
   "cell_type": "markdown",
   "id": "110a2613-eef8-4d3e-bb0c-2a21d5232a6e",
   "metadata": {},
   "source": [
    "Use the builtin function `list` to convert a range to a list object:"
   ]
  },
  {
   "cell_type": "code",
   "execution_count": 9,
   "id": "0d204f75-3799-4233-94ad-c11576650c4c",
   "metadata": {},
   "outputs": [
    {
     "data": {
      "text/plain": [
       "[0, 1, 2, 3, 4, 5, 6, 7, 8, 9, 10]"
      ]
     },
     "execution_count": 9,
     "metadata": {},
     "output_type": "execute_result"
    }
   ],
   "source": [
    "list(numbers)"
   ]
  },
  {
   "cell_type": "markdown",
   "id": "4042929e-736c-49ec-9ad4-9251d4330157",
   "metadata": {},
   "source": [
    "Use a range object in a `for` loop:"
   ]
  },
  {
   "cell_type": "code",
   "execution_count": 10,
   "id": "f419a9d5-e902-4cc7-8c62-506d876b879a",
   "metadata": {},
   "outputs": [
    {
     "name": "stdout",
     "output_type": "stream",
     "text": [
      "0\n",
      "1\n",
      "2\n",
      "3\n",
      "4\n",
      "5\n",
      "6\n",
      "7\n",
      "8\n",
      "9\n",
      "10\n"
     ]
    }
   ],
   "source": [
    "for n in numbers:\n",
    "    print(n)"
   ]
  },
  {
   "cell_type": "markdown",
   "id": "29f98f5a-46c2-473f-a241-191cba9827a9",
   "metadata": {},
   "source": [
    "Convert a range to a list using the builtin function `list`:"
   ]
  },
  {
   "cell_type": "code",
   "execution_count": 11,
   "id": "5ba56360-8000-4113-a849-cba823dcd5b1",
   "metadata": {},
   "outputs": [
    {
     "data": {
      "text/plain": [
       "[0, 7, 14, 21, 28, 35, 42, 49, 56, 63, 70, 77, 84, 91, 98]"
      ]
     },
     "execution_count": 11,
     "metadata": {},
     "output_type": "execute_result"
    }
   ],
   "source": [
    "list(range(0,100,7))"
   ]
  },
  {
   "cell_type": "markdown",
   "id": "292198a8-3d98-4b78-8d18-70d321b2e142",
   "metadata": {},
   "source": [
    "## Indexing and Slicing\n",
    "\n",
    "Access the entries in a sequence by bracket syntax:"
   ]
  },
  {
   "cell_type": "code",
   "execution_count": 12,
   "id": "207786b8-cd56-4904-a9f5-a93a3aec8007",
   "metadata": {},
   "outputs": [
    {
     "data": {
      "text/plain": [
       "[2, 3, 5, 7, 11, 13, 17, 19, 23, 29, 31, 37, 41]"
      ]
     },
     "execution_count": 12,
     "metadata": {},
     "output_type": "execute_result"
    }
   ],
   "source": [
    "primes = [2,3,5,7,11,13,17,19,23,29,31,37,41]\n",
    "primes"
   ]
  },
  {
   "cell_type": "code",
   "execution_count": 13,
   "id": "36ed72b0-d7b7-4f36-87fa-516b6e712a79",
   "metadata": {},
   "outputs": [
    {
     "data": {
      "text/plain": [
       "5"
      ]
     },
     "execution_count": 13,
     "metadata": {},
     "output_type": "execute_result"
    }
   ],
   "source": [
    "primes[2]"
   ]
  },
  {
   "cell_type": "markdown",
   "id": "a25d1cfb-a470-4526-b56a-91a4a2f31547",
   "metadata": {},
   "source": [
    "We can also use negative indices to access entries starting from the end of the sequence:"
   ]
  },
  {
   "cell_type": "code",
   "execution_count": 14,
   "id": "abe9f4f5-fb5a-4656-b0fc-8edd1922f0e2",
   "metadata": {},
   "outputs": [
    {
     "data": {
      "text/plain": [
       "41"
      ]
     },
     "execution_count": 14,
     "metadata": {},
     "output_type": "execute_result"
    }
   ],
   "source": [
    "primes[-1]"
   ]
  },
  {
   "cell_type": "markdown",
   "id": "0c4fda1b-fb8e-4144-8863-1d34fdfdb958",
   "metadata": {},
   "source": [
    "We can access subsequences using the colon `:` operator:"
   ]
  },
  {
   "cell_type": "code",
   "execution_count": 15,
   "id": "74a1f334-96b1-4fdc-85d3-360db4ccfc18",
   "metadata": {},
   "outputs": [
    {
     "data": {
      "text/plain": [
       "[2, 3, 5, 7, 11, 13, 17, 19, 23, 29, 31, 37, 41]"
      ]
     },
     "execution_count": 15,
     "metadata": {},
     "output_type": "execute_result"
    }
   ],
   "source": [
    "primes"
   ]
  },
  {
   "cell_type": "code",
   "execution_count": 16,
   "id": "50a55d1d-34ca-4326-bc2b-dd785241a046",
   "metadata": {},
   "outputs": [
    {
     "data": {
      "text/plain": [
       "[5, 7, 11]"
      ]
     },
     "execution_count": 16,
     "metadata": {},
     "output_type": "execute_result"
    }
   ],
   "source": [
    "primes[2:5]"
   ]
  },
  {
   "cell_type": "markdown",
   "id": "cfabbf3b-65a2-440c-a62d-f0474edca7dc",
   "metadata": {},
   "source": [
    "## List Comprehensions\n",
    "\n",
    "A list comprehension is Python syntax for creating lists:\n",
    "```\n",
    "sequence = [expression for item in iterable]\n",
    "```\n",
    "where:\n",
    "* `item` is variable name\n",
    "* `iterable` is a sequence\n",
    "* `expression` is a Python expression involving `item`"
   ]
  },
  {
   "cell_type": "markdown",
   "id": "3c431fe4-7374-44f0-8cb3-994e65dfd28c",
   "metadata": {},
   "source": [
    "For example, let's create the list of squares from 1 to 100:"
   ]
  },
  {
   "cell_type": "code",
   "execution_count": 17,
   "id": "09acae17-fd8c-4b93-8a00-bd97eb1dff12",
   "metadata": {},
   "outputs": [
    {
     "data": {
      "text/plain": [
       "[1, 4, 9, 16, 25, 36, 49, 64, 81, 100]"
      ]
     },
     "execution_count": 17,
     "metadata": {},
     "output_type": "execute_result"
    }
   ],
   "source": [
    "squares = [n**2 for n in range(1,11)]\n",
    "squares"
   ]
  },
  {
   "cell_type": "markdown",
   "id": "5471f1a1-0b09-452a-920f-534d6c7c550e",
   "metadata": {},
   "source": [
    "Create the list of values from 0 to 1 incremented by 0.1:"
   ]
  },
  {
   "cell_type": "code",
   "execution_count": 18,
   "id": "31e26fd4-eacb-4f89-85e7-cb1da9ec4ede",
   "metadata": {},
   "outputs": [
    {
     "data": {
      "text/plain": [
       "[0.0, 0.1, 0.2, 0.3, 0.4, 0.5, 0.6, 0.7, 0.8, 0.9, 1.0]"
      ]
     },
     "execution_count": 18,
     "metadata": {},
     "output_type": "execute_result"
    }
   ],
   "source": [
    "x = [round(0.1*n,1) for n in range(0,11)]\n",
    "x"
   ]
  },
  {
   "cell_type": "markdown",
   "id": "4c5b7927-4b58-4199-b3da-582b373fd559",
   "metadata": {},
   "source": [
    "## Builtin Functions\n",
    "\n",
    "Compute the length of a sequence with `len`:"
   ]
  },
  {
   "cell_type": "code",
   "execution_count": 19,
   "id": "f89adf65-06a3-4757-a3ee-f81b1b9543d1",
   "metadata": {},
   "outputs": [
    {
     "data": {
      "text/plain": [
       "5"
      ]
     },
     "execution_count": 19,
     "metadata": {},
     "output_type": "execute_result"
    }
   ],
   "source": [
    "len([1,2,3,4,5])"
   ]
  },
  {
   "cell_type": "markdown",
   "id": "f2eabcc5-8c9a-479b-b0ae-21f122fe45e2",
   "metadata": {},
   "source": [
    "Compute the sum with `sum`:"
   ]
  },
  {
   "cell_type": "code",
   "execution_count": 20,
   "id": "d43cbdcd-6397-42a5-a22a-f6de358f7283",
   "metadata": {},
   "outputs": [
    {
     "data": {
      "text/plain": [
       "45"
      ]
     },
     "execution_count": 20,
     "metadata": {},
     "output_type": "execute_result"
    }
   ],
   "source": [
    "sum(range(1,10))"
   ]
  },
  {
   "cell_type": "markdown",
   "id": "923ba818-221a-4192-8e21-16e023696707",
   "metadata": {},
   "source": [
    "Compute the maximum value with `max` (and minimum value with `min`):"
   ]
  },
  {
   "cell_type": "code",
   "execution_count": 21,
   "id": "f64cab59-08b9-4d39-9dc8-6d341faf3caa",
   "metadata": {},
   "outputs": [
    {
     "data": {
      "text/plain": [
       "6"
      ]
     },
     "execution_count": 21,
     "metadata": {},
     "output_type": "execute_result"
    }
   ],
   "source": [
    "max([-2,3,4,6,1,-3,2,4])"
   ]
  },
  {
   "cell_type": "code",
   "execution_count": 22,
   "id": "901ebd44-1f2b-4aff-ba57-ca129e9cb93c",
   "metadata": {},
   "outputs": [
    {
     "data": {
      "text/plain": [
       "-3"
      ]
     },
     "execution_count": 22,
     "metadata": {},
     "output_type": "execute_result"
    }
   ],
   "source": [
    "min([-2,3,4,6,1,-3,2,4])"
   ]
  },
  {
   "cell_type": "markdown",
   "id": "5f4d910c-edac-4bd2-a846-0df197226803",
   "metadata": {},
   "source": [
    "Let's use `max` to approximate the maximum value of\n",
    "$$\n",
    "f(x) = \\frac{1+x-x^3}{1+x^2}\n",
    "$$\n",
    "over the interval $(-1,1)$."
   ]
  },
  {
   "cell_type": "code",
   "execution_count": 23,
   "id": "17a4a32d-3c7b-485f-a873-f90392f8c21f",
   "metadata": {},
   "outputs": [
    {
     "data": {
      "text/plain": [
       "1.1678899082568808"
      ]
     },
     "execution_count": 23,
     "metadata": {},
     "output_type": "execute_result"
    }
   ],
   "source": [
    "xs = [round(0.01*n,1) for n in range(-100,101)]\n",
    "ys = [(1 - x + x**3)/(1 + x**2) for x in xs]\n",
    "max(ys)"
   ]
  }
 ],
 "metadata": {
  "kernelspec": {
   "display_name": "Python 3 (ipykernel)",
   "language": "python",
   "name": "python3"
  },
  "language_info": {
   "codemirror_mode": {
    "name": "ipython",
    "version": 3
   },
   "file_extension": ".py",
   "mimetype": "text/x-python",
   "name": "python",
   "nbconvert_exporter": "python",
   "pygments_lexer": "ipython3",
   "version": "3.10.8"
  }
 },
 "nbformat": 4,
 "nbformat_minor": 5
}
