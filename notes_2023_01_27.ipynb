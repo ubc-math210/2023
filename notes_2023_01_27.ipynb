{
 "cells": [
  {
   "cell_type": "markdown",
   "id": "eca9675e-4a52-44d0-90f2-07db8ffbbcc0",
   "metadata": {},
   "source": [
    "# MATH 210 Introduction to Mathematical Computing\n",
    "\n",
    "## January 27, 2023\n",
    "\n",
    "* `for` loops\n",
    "* Recursive sequences"
   ]
  },
  {
   "cell_type": "markdown",
   "id": "affa301d-ef79-44b6-a4c3-4ea97c8efaa3",
   "metadata": {},
   "source": [
    "## `for` loops\n",
    "\n",
    "A `for` loop is a block of code that repeats as many times as you tell it to with a variable that gets updated each time through the loop. A `for` loop allows as many lines of code in the block as we need (compared to a list comprehension which allows only one expression in the construction)."
   ]
  },
  {
   "cell_type": "code",
   "execution_count": 32,
   "id": "39f9a380-ca5a-4bfe-8190-555f3111e4d7",
   "metadata": {},
   "outputs": [
    {
     "name": "stdout",
     "output_type": "stream",
     "text": [
      "0\n",
      "1\n",
      "4\n",
      "9\n",
      "16\n",
      "25\n",
      "36\n",
      "49\n",
      "64\n",
      "81\n",
      "Done!\n"
     ]
    }
   ],
   "source": [
    "for n in range(0,10):\n",
    "    print(n**2)\n",
    "print(\"Done!\")"
   ]
  },
  {
   "cell_type": "markdown",
   "id": "8a560c47-b3eb-48b2-83ee-0367b029be39",
   "metadata": {},
   "source": [
    "Let's use a `for` loop to write a function called `factorial` which takes an integer $n \\geq 0$ and returns $n!$."
   ]
  },
  {
   "cell_type": "code",
   "execution_count": 33,
   "id": "ee47e9c7-e6e0-4ffb-a5c7-2714487d2924",
   "metadata": {},
   "outputs": [],
   "source": [
    "def factorial(n):\n",
    "    result = 1\n",
    "    for k in range(2,n+1):\n",
    "        result = result*k\n",
    "    return result"
   ]
  },
  {
   "cell_type": "code",
   "execution_count": 34,
   "id": "8d47bfd3-b8b7-445a-87a3-a3e412336d26",
   "metadata": {},
   "outputs": [
    {
     "data": {
      "text/plain": [
       "1"
      ]
     },
     "execution_count": 34,
     "metadata": {},
     "output_type": "execute_result"
    }
   ],
   "source": [
    "# 1! = 1\n",
    "factorial(1)"
   ]
  },
  {
   "cell_type": "code",
   "execution_count": 35,
   "id": "80167b31-ca37-4eb8-adea-6f34bdd07884",
   "metadata": {},
   "outputs": [
    {
     "data": {
      "text/plain": [
       "1"
      ]
     },
     "execution_count": 35,
     "metadata": {},
     "output_type": "execute_result"
    }
   ],
   "source": [
    "# 0! = 1\n",
    "factorial(0)"
   ]
  },
  {
   "cell_type": "code",
   "execution_count": 36,
   "id": "26e41552-40d3-4b0d-9f67-02df7521a36d",
   "metadata": {},
   "outputs": [
    {
     "data": {
      "text/plain": [
       "[]"
      ]
     },
     "execution_count": 36,
     "metadata": {},
     "output_type": "execute_result"
    }
   ],
   "source": [
    "list(range(2,1))"
   ]
  },
  {
   "cell_type": "code",
   "execution_count": 37,
   "id": "b5f6b646-de76-40d6-ab9e-e714b0ac8b30",
   "metadata": {},
   "outputs": [
    {
     "data": {
      "text/plain": [
       "120"
      ]
     },
     "execution_count": 37,
     "metadata": {},
     "output_type": "execute_result"
    }
   ],
   "source": [
    "# 5! = 5*4*3*2*1 = 120\n",
    "factorial(5)"
   ]
  },
  {
   "cell_type": "markdown",
   "id": "6b22d136-9aed-44a6-967c-eee90ce2824d",
   "metadata": {},
   "source": [
    "## Recursive Sequence\n",
    "\n",
    "A recursive sequence is a sequence where the $n$th entry depends on previous entries.\n",
    "\n",
    "It is very awkward/difficult to build a recursive sequence using a list comprehension. List comprehensions are better suited to sequences where the $n$th entry only depends on the index $n$. A `for` loop is more flexible because we can write more code.\n",
    "\n",
    "Write a function called `sqrt_seq` which takes a positive integer $N$ and returns the $N$th term $x_N$ of the recursive sequence\n",
    "\n",
    "$$\n",
    "x_0 = 0 \\ , \\ \\ x_{n+1} = \\sqrt{2 + x_n}\n",
    "$$\n",
    "\n",
    "$x_0 = 0, x_1 = \\sqrt{2}, x_2 = \\sqrt{2 + \\sqrt{2}}$, ...\n",
    "\n",
    "What is $\\lim_{n \\to \\infty} x_n$? If we know that the limit exists, then solve the equation $L = \\sqrt{2 + L}$."
   ]
  },
  {
   "cell_type": "code",
   "execution_count": 26,
   "id": "bc20cde4-d824-43ee-8125-65093a8915fb",
   "metadata": {},
   "outputs": [],
   "source": [
    "def sqrt_seq(N):\n",
    "    xn = 0 # Initialize\n",
    "    for n in range(0,N):\n",
    "        xn = (2 + xn)**0.5 # Update\n",
    "    return xn"
   ]
  },
  {
   "cell_type": "code",
   "execution_count": 27,
   "id": "f8e2739b-441c-487c-a276-659be6254561",
   "metadata": {},
   "outputs": [
    {
     "name": "stdout",
     "output_type": "stream",
     "text": [
      "1.4142135623730951\n"
     ]
    },
    {
     "data": {
      "text/plain": [
       "1.4142135623730951"
      ]
     },
     "execution_count": 27,
     "metadata": {},
     "output_type": "execute_result"
    }
   ],
   "source": [
    "print(2**0.5)\n",
    "sqrt_seq(1)"
   ]
  },
  {
   "cell_type": "code",
   "execution_count": 28,
   "id": "6287a574-9100-440e-8949-73d20019ae3f",
   "metadata": {},
   "outputs": [
    {
     "name": "stdout",
     "output_type": "stream",
     "text": [
      "1.8477590650225735\n"
     ]
    },
    {
     "data": {
      "text/plain": [
       "1.8477590650225735"
      ]
     },
     "execution_count": 28,
     "metadata": {},
     "output_type": "execute_result"
    }
   ],
   "source": [
    "print((2 + 2**0.5)**0.5)\n",
    "sqrt_seq(2)"
   ]
  },
  {
   "cell_type": "code",
   "execution_count": 31,
   "id": "aeba14cc-341f-4069-a50d-fe1d1f9443c5",
   "metadata": {},
   "outputs": [
    {
     "data": {
      "text/plain": [
       "2.0"
      ]
     },
     "execution_count": 31,
     "metadata": {},
     "output_type": "execute_result"
    }
   ],
   "source": [
    "sqrt_seq(200)"
   ]
  }
 ],
 "metadata": {
  "kernelspec": {
   "display_name": "Python 3 (ipykernel)",
   "language": "python",
   "name": "python3"
  },
  "language_info": {
   "codemirror_mode": {
    "name": "ipython",
    "version": 3
   },
   "file_extension": ".py",
   "mimetype": "text/x-python",
   "name": "python",
   "nbconvert_exporter": "python",
   "pygments_lexer": "ipython3",
   "version": "3.10.8"
  }
 },
 "nbformat": 4,
 "nbformat_minor": 5
}
